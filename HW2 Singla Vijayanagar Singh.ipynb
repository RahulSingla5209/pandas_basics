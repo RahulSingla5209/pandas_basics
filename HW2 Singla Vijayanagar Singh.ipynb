{
 "cells": [
  {
   "cell_type": "markdown",
   "id": "5a0d458f",
   "metadata": {},
   "source": [
    "# Setup"
   ]
  },
  {
   "cell_type": "code",
   "execution_count": 1,
   "id": "1688da69",
   "metadata": {},
   "outputs": [
    {
     "name": "stdout",
     "output_type": "stream",
     "text": [
      "Populating the interactive namespace from numpy and matplotlib\n"
     ]
    }
   ],
   "source": [
    "# This block contains all the libraries required throughout the nb\n",
    "\n",
    "import pandas as pd\n",
    "%pylab inline"
   ]
  },
  {
   "cell_type": "code",
   "execution_count": 2,
   "id": "6cb1c327",
   "metadata": {},
   "outputs": [
    {
     "data": {
      "text/plain": [
       "Unnamed: 0                                                               0\n",
       "CAMIS                                                             30112340\n",
       "DBA                                                                WENDY'S\n",
       "BORO                                                              BROOKLYN\n",
       "BUILDING                                                               469\n",
       "STREET                                                     FLATBUSH AVENUE\n",
       "ZIPCODE                                                              11225\n",
       "PHONE                                                           7182875005\n",
       "CUISINE DESCRIPTION                                             Hamburgers\n",
       "INSPECTION DATE                                                 12/30/2014\n",
       "ACTION                     Violations were cited in the following area(s).\n",
       "VIOLATION CODE                                                         06C\n",
       "VIOLATION DESCRIPTION    Food not protected from potential source of co...\n",
       "CRITICAL FLAG                                                     Critical\n",
       "SCORE                                                                    8\n",
       "GRADE                                                                    A\n",
       "GRADE DATE                                                      12/30/2014\n",
       "RECORD DATE                                                     02/12/2015\n",
       "INSPECTION TYPE                           Cycle Inspection / Re-inspection\n",
       "Name: 0, dtype: object"
      ]
     },
     "execution_count": 2,
     "metadata": {},
     "output_type": "execute_result"
    }
   ],
   "source": [
    "df = pd.read_csv('NYC_Restaurants.csv', dtype=str)\n",
    "df.loc[0]"
   ]
  },
  {
   "cell_type": "markdown",
   "id": "77791c3e",
   "metadata": {},
   "source": [
    "Looks like each entry refers to a voilation done by a restaraunt. We can expect multiple entries for the same restaurant."
   ]
  },
  {
   "cell_type": "markdown",
   "id": "5db446b1",
   "metadata": {},
   "source": [
    "# Q1 -  Create a unique name for each restaurant"
   ]
  },
  {
   "cell_type": "markdown",
   "id": "779a22a5",
   "metadata": {},
   "source": [
    "This questions requires string concatenation across multiple columns. Here, each column is being called as a series and series operation is being performed to combine the strings"
   ]
  },
  {
   "cell_type": "code",
   "execution_count": 3,
   "id": "660a0b6d",
   "metadata": {},
   "outputs": [
    {
     "data": {
      "text/plain": [
       "0           WENDY'S 469 FLATBUSH AVENUE 11225 BROOKLYN\n",
       "1           WENDY'S 469 FLATBUSH AVENUE 11225 BROOKLYN\n",
       "2           WENDY'S 469 FLATBUSH AVENUE 11225 BROOKLYN\n",
       "3           WENDY'S 469 FLATBUSH AVENUE 11225 BROOKLYN\n",
       "4           WENDY'S 469 FLATBUSH AVENUE 11225 BROOKLYN\n",
       "5        TOV KOSHER KITCHEN 97-22 63 ROAD 11374 QUEENS\n",
       "6        TOV KOSHER KITCHEN 97-22 63 ROAD 11374 QUEENS\n",
       "7        TOV KOSHER KITCHEN 97-22 63 ROAD 11374 QUEENS\n",
       "8        TOV KOSHER KITCHEN 97-22 63 ROAD 11374 QUEENS\n",
       "9    BRUNOS ON THE BOULEVARD 8825 ASTORIA BOULEVARD...\n",
       "Name: RESTAURANT, dtype: object"
      ]
     },
     "execution_count": 3,
     "metadata": {},
     "output_type": "execute_result"
    }
   ],
   "source": [
    "df['RESTAURANT'] = df['DBA'] + \" \" + df['BUILDING'] + \" \" + df['STREET'] + \" \" + df['ZIPCODE'] + \" \" + df['BORO']\n",
    "\n",
    "df['RESTAURANT'][:10]"
   ]
  },
  {
   "cell_type": "markdown",
   "id": "85831cf6",
   "metadata": {},
   "source": [
    "# Q2 - How many restaurants are included in the data?"
   ]
  },
  {
   "cell_type": "markdown",
   "id": "44249981",
   "metadata": {},
   "source": [
    "To access all unique restaurants, we have to access 'restaurant' column. \n",
    "\n",
    "Accessing DBA column, wouldn't work because each DBA could have multiple entries.  "
   ]
  },
  {
   "cell_type": "code",
   "execution_count": 4,
   "id": "b927f5ab",
   "metadata": {},
   "outputs": [
    {
     "data": {
      "text/plain": [
       "10114"
      ]
     },
     "execution_count": 4,
     "metadata": {},
     "output_type": "execute_result"
    }
   ],
   "source": [
    "num_restaurants = len(df['RESTAURANT'].unique())\n",
    "num_restaurants"
   ]
  },
  {
   "cell_type": "markdown",
   "id": "69d4b545",
   "metadata": {},
   "source": [
    "# Q3 - How many chains are there?"
   ]
  },
  {
   "cell_type": "markdown",
   "id": "68c13e17",
   "metadata": {},
   "source": [
    "First we need to drop duplicate entries of multiple violations. We have done that by choosing restaurant and dba column and then dropping duplicates.\n",
    "\n",
    "Second, we need to count frequncy of each DBA. We drop restraunt columns now.\n",
    "\n",
    "The value count gives out a series. We need to filter this series for DBA with frequncy > 1"
   ]
  },
  {
   "cell_type": "code",
   "execution_count": 5,
   "id": "bb7094c1",
   "metadata": {},
   "outputs": [
    {
     "data": {
      "text/plain": [
       "368"
      ]
     },
     "execution_count": 5,
     "metadata": {},
     "output_type": "execute_result"
    }
   ],
   "source": [
    "chains = df[['DBA', 'RESTAURANT']].drop_duplicates()['DBA'].value_counts()\n",
    "chains = chains[chains > 1]\n",
    "len(chains)"
   ]
  },
  {
   "cell_type": "markdown",
   "id": "978e4362",
   "metadata": {},
   "source": [
    "# Q4 - Plot a bar graph of the top 20 most popular chains"
   ]
  },
  {
   "cell_type": "markdown",
   "id": "d13a4ff5",
   "metadata": {},
   "source": [
    "chains series contains all the chains and their counts. Chains[:20] will give us top 20 chains because series is already in descending order"
   ]
  },
  {
   "cell_type": "code",
   "execution_count": 6,
   "id": "8492adc5",
   "metadata": {},
   "outputs": [
    {
     "data": {
      "text/plain": [
       "<AxesSubplot:>"
      ]
     },
     "execution_count": 6,
     "metadata": {},
     "output_type": "execute_result"
    },
    {
     "data": {
      "image/png": "[encoded data removed]",
      "text/plain": [
       "<Figure size 432x288 with 1 Axes>"
      ]
     },
     "metadata": {
      "needs_background": "light"
     },
     "output_type": "display_data"
    }
   ],
   "source": [
    "chains[:20].plot(kind = \"bar\")"
   ]
  },
  {
   "cell_type": "markdown",
   "id": "b260dc1f",
   "metadata": {},
   "source": [
    "# Q5 - What fraction of all restaurants are chain restaurants?"
   ]
  },
  {
   "cell_type": "markdown",
   "id": "87f648eb",
   "metadata": {},
   "source": [
    "We have already know the number of restaurants from Q2.\n",
    "\n",
    "The total number of restaurants can be simply calculated by summing the chains series"
   ]
  },
  {
   "cell_type": "code",
   "execution_count": 7,
   "id": "0144e746",
   "metadata": {},
   "outputs": [
    {
     "data": {
      "text/plain": [
       "0.16472216729286138"
      ]
     },
     "execution_count": 7,
     "metadata": {},
     "output_type": "execute_result"
    }
   ],
   "source": [
    "chain_restaurant_perc = sum(chains) / num_restaurants\n",
    "chain_restaurant_perc"
   ]
  },
  {
   "cell_type": "markdown",
   "id": "36bd9e4b",
   "metadata": {},
   "source": [
    "# Q6 - Plot the number of non-chain restaurants in each boro"
   ]
  },
  {
   "cell_type": "markdown",
   "id": "aefad3b2",
   "metadata": {},
   "source": [
    "First, a new column has been added to data frame. This column annotates if a given restaurant is a chain or not. We already have a series of chains.\n",
    "\n",
    "Now, we need to filter OUT chain restaurant and \"Missing\" BOROs\n",
    "\n",
    "We need to drop duplicate violation entries.\n",
    "\n",
    "We need to only count only BOROs, so we will keep that column only.\n",
    "\n",
    "Lastly, we will plot value counts"
   ]
  },
  {
   "cell_type": "code",
   "execution_count": 8,
   "id": "012b7bd3",
   "metadata": {},
   "outputs": [
    {
     "data": {
      "text/plain": [
       "<AxesSubplot:>"
      ]
     },
     "execution_count": 8,
     "metadata": {},
     "output_type": "execute_result"
    },
    {
     "data": {
      "image/png": "[encoded data removed]",
      "text/plain": [
       "<Figure size 432x288 with 1 Axes>"
      ]
     },
     "metadata": {
      "needs_background": "light"
     },
     "output_type": "display_data"
    }
   ],
   "source": [
    "# adding a new column - 'is_chain' tells if a given restaurant is a chain or not.\n",
    "df['is_chain']  = df['DBA'].apply(lambda x: x in list(chains.index.values))\n",
    "non_chain_res_boro = df[(df['is_chain'] == False) & (df['BORO'] != 'Missing')]\\\n",
    "                                                    [['RESTAURANT', 'BORO']].\\\n",
    "                                                    drop_duplicates()['BORO'].\\\n",
    "                                                    value_counts()\n",
    "non_chain_res_boro.plot(kind = 'bar')"
   ]
  },
  {
   "cell_type": "markdown",
   "id": "9bcd0451",
   "metadata": {},
   "source": [
    "# Q7 -  Plot the fraction of non-chain restaurants in each boro. "
   ]
  },
  {
   "cell_type": "markdown",
   "id": "4b9dbb81",
   "metadata": {},
   "source": [
    "We already have series that contains information on count of non-chain restaurants.\n",
    "\n",
    "We need to get information on total restaurants by each boro. So, just like Q6 we will find all the restaurants by removing the filter.\n",
    "\n",
    "Finally, a series operation to calculate the fraction."
   ]
  },
  {
   "cell_type": "code",
   "execution_count": 9,
   "id": "5c4d78b9",
   "metadata": {},
   "outputs": [
    {
     "data": {
      "text/plain": [
       "<AxesSubplot:>"
      ]
     },
     "execution_count": 9,
     "metadata": {},
     "output_type": "execute_result"
    },
    {
     "data": {
      "image/png": "[encoded data removed]",
      "text/plain": [
       "<Figure size 432x288 with 1 Axes>"
      ]
     },
     "metadata": {
      "needs_background": "light"
     },
     "output_type": "display_data"
    }
   ],
   "source": [
    "res_boro = df[df['BORO'] != 'Missing'][['RESTAURANT', 'BORO']].\\\n",
    "                                                    drop_duplicates()['BORO'].\\\n",
    "                                                    value_counts()\n",
    "frac_non_chain = non_chain_res_boro / res_boro\n",
    "frac_non_chain.plot(kind = 'bar')"
   ]
  },
  {
   "cell_type": "markdown",
   "id": "e8218cc9",
   "metadata": {},
   "source": [
    "Manhattan had the highest number of non-chain restaurants. But the Brooklyn has the highest ratio"
   ]
  },
  {
   "cell_type": "markdown",
   "id": "e1ef0263",
   "metadata": {},
   "source": [
    "# Q8 - Plot the popularity of cuisines"
   ]
  },
  {
   "cell_type": "markdown",
   "id": "423cc413",
   "metadata": {},
   "source": [
    "First we need to drop duplicate entries of multiple violations. We have done that by choosing restaurant and cusine column and then dropping duplicates.\n",
    "\n",
    "Second, we need to count frequncy of each cuisine. We drop restraunt columns now.\n",
    "\n",
    "The value count gives out a series and we can plot it"
   ]
  },
  {
   "cell_type": "code",
   "execution_count": 10,
   "id": "84e2eae7",
   "metadata": {},
   "outputs": [
    {
     "data": {
      "text/plain": [
       "<AxesSubplot:>"
      ]
     },
     "execution_count": 10,
     "metadata": {},
     "output_type": "execute_result"
    },
    {
     "data": {
      "image/png": "[encoded data removed]",
      "text/plain": [
       "<Figure size 432x288 with 1 Axes>"
      ]
     },
     "metadata": {
      "needs_background": "light"
     },
     "output_type": "display_data"
    }
   ],
   "source": [
    "cuisine_popularity = df[['RESTAURANT', 'CUISINE DESCRIPTION']].\\\n",
    "                            drop_duplicates()['CUISINE DESCRIPTION'].\\\n",
    "                            value_counts()\n",
    "cuisine_popularity[:20].plot(kind = 'bar')"
   ]
  },
  {
   "cell_type": "markdown",
   "id": "da52ed07",
   "metadata": {},
   "source": [
    "# Q9 - Plot the cuisines among restaurants which never got cited for violations"
   ]
  },
  {
   "cell_type": "markdown",
   "id": "18080b9c",
   "metadata": {},
   "source": [
    "First, let's filter for NaN VIOLATION CODE fields.\n",
    "\n",
    "Since, there are no violations, there will be no duplicates.\n",
    "\n",
    "Like Q8, we will plot popular cuisines"
   ]
  },
  {
   "cell_type": "code",
   "execution_count": 11,
   "id": "07ea94ee",
   "metadata": {
    "scrolled": true
   },
   "outputs": [
    {
     "data": {
      "text/plain": [
       "<AxesSubplot:>"
      ]
     },
     "execution_count": 11,
     "metadata": {},
     "output_type": "execute_result"
    },
    {
     "data": {
      "image/png": "[encoded data removed]",
      "text/plain": [
       "<Figure size 432x288 with 1 Axes>"
      ]
     },
     "metadata": {
      "needs_background": "light"
     },
     "output_type": "display_data"
    }
   ],
   "source": [
    "restaurant_with_voilation = list(df[df['VIOLATION CODE'].notnull()]['RESTAURANT'].unique())\n",
    "\n",
    "df['has_ever_violated'] = df['RESTAURANT'].apply(lambda x: x in restaurant_with_voilation)\n",
    "\n",
    "clean_cuisine = df[df['has_ever_violated'] == False][[\"RESTAURANT\", \"CUISINE DESCRIPTION\"]].\\\n",
    "                    drop_duplicates()\\\n",
    "                    ['CUISINE DESCRIPTION'].value_counts()\n",
    "clean_cuisine[:20].plot(kind = 'bar')"
   ]
  },
  {
   "cell_type": "code",
   "execution_count": 12,
   "id": "ed0aac57",
   "metadata": {},
   "outputs": [
    {
     "data": {
      "text/plain": [
       "9873"
      ]
     },
     "execution_count": 12,
     "metadata": {},
     "output_type": "execute_result"
    }
   ],
   "source": [
    "len(restaurant_with_voilation)"
   ]
  },
  {
   "cell_type": "markdown",
   "id": "5b625843",
   "metadata": {},
   "source": [
    "# Q10 - What cuisines tend to be the “cleanest”"
   ]
  },
  {
   "cell_type": "markdown",
   "id": "b810545c",
   "metadata": {},
   "source": [
    "We already have a series for cuisine popularity. We need to apply a filter find cuisines that have greater than 20 restaurants.\n",
    "\n",
    "Since in series operations, pd matches the index automatically. So, we can directly use the division operation.\n",
    "\n",
    "We need to sort the new series in descending order and then pick 10"
   ]
  },
  {
   "cell_type": "code",
   "execution_count": 13,
   "id": "7c555399",
   "metadata": {},
   "outputs": [
    {
     "data": {
      "text/plain": [
       "Soul Food                        0.090909\n",
       "Vietnamese/Cambodian/Malaysia    0.062500\n",
       "Other                            0.058252\n",
       "Soups & Sandwiches               0.047619\n",
       "Continental                      0.047619\n",
       "Barbecue                         0.047619\n",
       "Asian                            0.041096\n",
       "Chinese                          0.038251\n",
       "Greek                            0.036364\n",
       "Peruvian                         0.035714\n",
       "Name: CUISINE DESCRIPTION, dtype: float64"
      ]
     },
     "execution_count": 13,
     "metadata": {},
     "output_type": "execute_result"
    }
   ],
   "source": [
    "clean_cuisine_ratio = clean_cuisine / cuisine_popularity[cuisine_popularity > 20]\n",
    "clean_cuisine_ratio.sort_values(ascending = False)[:10]"
   ]
  },
  {
   "cell_type": "markdown",
   "id": "67af32a2",
   "metadata": {},
   "source": [
    "# Q11 - What are the most common violations in each borough?"
   ]
  },
  {
   "cell_type": "markdown",
   "id": "b2b8614e",
   "metadata": {},
   "source": [
    "First, remove the missing boro rows\n",
    "\n",
    "Create a crosstab for understanding frequncy of voilation by Boroughs. borough will be on columns and violation as index. Makes like easier as we will search for frequncy on the basis of borough.\n",
    "\n",
    "Iterate through all the cols and find the idx of row that has max value. (Alt approach use idxmax() function) "
   ]
  },
  {
   "cell_type": "code",
   "execution_count": 14,
   "id": "2e16d195",
   "metadata": {},
   "outputs": [
    {
     "name": "stdout",
     "output_type": "stream",
     "text": [
      "BORUGH   VOILATION CODE\n",
      "BRONX    \t 10F\n",
      "BROOKLYN    \t 10F\n",
      "MANHATTAN    \t 10F\n",
      "QUEENS    \t 10F\n",
      "STATEN ISLAND    \t 10F\n"
     ]
    }
   ],
   "source": [
    "df1 = df[df['BORO'] != 'Missing']\n",
    "violation_table = pd.crosstab(columns = df1['BORO'], index = df1['VIOLATION CODE'])\n",
    "\n",
    "print(\"BORUGH   VOILATION CODE\")\n",
    "for col in list(violation_table.columns.values):\n",
    "    print(\"{}    \\t {}\".format(col, violation_table.index[violation_table[col] == max(violation_table[col])][0]))"
   ]
  },
  {
   "cell_type": "markdown",
   "id": "07d5fd50",
   "metadata": {},
   "source": [
    "# Q12 - What are the most common violations per borough, after normalizing for the relative abundance of each violation?"
   ]
  },
  {
   "cell_type": "markdown",
   "id": "3edbfed1",
   "metadata": {},
   "source": [
    "For normalising the table, we need to count of voilation code. df1 contains NO missing rows.\n",
    "\n",
    "Normalizing - Transpose the table so that series and table index matches. Now fix the transpose to re-apply the code from Q11.\n",
    "\n",
    "Find max index like we did in Q11 (idxmax is an alternative)"
   ]
  },
  {
   "cell_type": "code",
   "execution_count": 15,
   "id": "1fe27249",
   "metadata": {},
   "outputs": [
    {
     "name": "stdout",
     "output_type": "stream",
     "text": [
      "BORUGH   VOILATION CODE\n",
      "BRONX    \t 04I\n",
      "BROOKLYN    \t 02D\n",
      "MANHATTAN    \t 03E\n",
      "QUEENS    \t 03G\n",
      "STATEN ISLAND    \t 03C\n"
     ]
    }
   ],
   "source": [
    "violationFrequency = df1['VIOLATION CODE'].value_counts()\n",
    "\n",
    "violation_table_normalized = violation_table.T / violationFrequency\n",
    "\n",
    "#fixing the indexing\n",
    "violation_table_normalized = violation_table_normalized.T\n",
    "\n",
    "print(\"BORUGH   VOILATION CODE\")\n",
    "for col in list(violation_table_normalized.columns.values):\n",
    "    print(\"{}    \\t {}\".format(col, \n",
    "                               violation_table_normalized.index[violation_table_normalized[col] ==\\\n",
    "                                                                max(violation_table_normalized[col])][0]))"
   ]
  },
  {
   "cell_type": "markdown",
   "id": "f3514617",
   "metadata": {},
   "source": [
    "# Q13 - How many phone area codes correspond to a single zipcode?"
   ]
  },
  {
   "cell_type": "markdown",
   "id": "ef3719f1",
   "metadata": {},
   "source": [
    "First create a new column for area code. str function allows you to apply function on each string.\n",
    "\n",
    "We need all unique combinations of area code and zipcode. Filter those columns and drop duplicates.\n",
    "\n",
    "Since we are only focused area codes, choose area code column and apply value counts on that column. Filter for area codes that have frequency 1 or area code is associated with only one zipcode.\n",
    "\n",
    "Calculate length of resulting series"
   ]
  },
  {
   "cell_type": "code",
   "execution_count": 16,
   "id": "35582592",
   "metadata": {},
   "outputs": [
    {
     "data": {
      "text/plain": [
       "34"
      ]
     },
     "execution_count": 16,
     "metadata": {},
     "output_type": "execute_result"
    }
   ],
   "source": [
    "df['area_code'] = df['PHONE'].str[0:3]\n",
    "area_codes = df[['area_code', 'ZIPCODE']].drop_duplicates()['area_code'].value_counts()\n",
    "len(area_codes[area_codes == 1])"
   ]
  },
  {
   "cell_type": "markdown",
   "id": "285fe74d",
   "metadata": {},
   "source": [
    "# Q14 -  Find common misspellings of street names"
   ]
  },
  {
   "cell_type": "markdown",
   "id": "023b07d2",
   "metadata": {},
   "source": [
    "Street type - split the string and choose the last word\n",
    "\n",
    "Street base - split the string and slice the list to pick everything and drop last word\n",
    "\n",
    "Street base and Zip - Combined the base and zipcode column. this was created to create an unique street identifier. usually the misspelling occur in the last word.\n",
    "\n",
    "merged the data frame on itself to get combination of misspellings.\n",
    "\n",
    "Drop all the irrelevant columns and focus on street type cols.\n",
    "\n",
    "crosstab gives the frequency of misspellings\n",
    "\n",
    "reuse the code to find the high occuring misspellings."
   ]
  },
  {
   "cell_type": "code",
   "execution_count": 17,
   "id": "92a8dcb5",
   "metadata": {},
   "outputs": [
    {
     "name": "stdout",
     "output_type": "stream",
     "text": [
      "AVE    \t AVENUE\n",
      "ST    \t STREET\n",
      "RD    \t ROAD\n",
      "PL    \t PLACE\n",
      "BOULEARD    \t BLVD\n",
      "BULEVARD    \t BLVD\n"
     ]
    }
   ],
   "source": [
    "df['STREET TYPE'] = df['STREET'].apply(lambda x: x.split()[-1])\n",
    "df['STREET BASE'] = df['STREET'].apply(lambda x: \" \".join(x.split()[:-1]))\n",
    "df['STREET BASE & ZIP'] = df['STREET BASE'] + \" \" + df['ZIPCODE']\n",
    "addresses = df[df['STREET BASE'].notnull()]\\\n",
    "                        [['STREET BASE & ZIP', 'STREET BASE', 'STREET TYPE']].\\\n",
    "                        drop_duplicates()\n",
    "\n",
    "merged_table = pd.merge(addresses, addresses, \n",
    "                        left_on= 'STREET BASE & ZIP', \n",
    "                        right_on='STREET BASE & ZIP')\n",
    "\n",
    "merged_table = merged_table[merged_table['STREET TYPE_y'] != merged_table['STREET TYPE_x']]\n",
    "\n",
    "misspelling = pd.crosstab(merged_table['STREET TYPE_y'], merged_table['STREET TYPE_x'])\n",
    "\n",
    "for col in ['AVE', 'ST', 'RD', 'PL', 'BOULEARD', 'BULEVARD']:\n",
    "    print(\"{}    \\t {}\".format(col, \n",
    "                               misspelling.index[misspelling[col] ==\\\n",
    "                                                 max(misspelling[col])][0]))"
   ]
  }
 ],
 "metadata": {
  "kernelspec": {
   "display_name": "Python 3",
   "language": "python",
   "name": "python3"
  },
  "language_info": {
   "codemirror_mode": {
    "name": "ipython",
    "version": 3
   },
   "file_extension": ".py",
   "mimetype": "text/x-python",
   "name": "python",
   "nbconvert_exporter": "python",
   "pygments_lexer": "ipython3",
   "version": "3.8.8"
  },
  "varInspector": {
   "cols": {
    "lenName": 16,
    "lenType": 16,
    "lenVar": 40
   },
   "kernels_config": {
    "python": {
     "delete_cmd_postfix": "",
     "delete_cmd_prefix": "del ",
     "library": "var_list.py",
     "varRefreshCmd": "print(var_dic_list())"
    },
    "r": {
     "delete_cmd_postfix": ") ",
     "delete_cmd_prefix": "rm(",
     "library": "var_list.r",
     "varRefreshCmd": "cat(var_dic_list()) "
    }
   },
   "types_to_exclude": [
    "module",
    "function",
    "builtin_function_or_method",
    "instance",
    "_Feature"
   ],
   "window_display": false
  }
 },
 "nbformat": 4,
 "nbformat_minor": 5
}
