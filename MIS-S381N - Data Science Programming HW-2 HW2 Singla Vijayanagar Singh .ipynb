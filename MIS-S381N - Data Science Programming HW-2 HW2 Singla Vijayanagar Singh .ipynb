{
 "cells": [
  {
   "cell_type": "markdown",
   "id": "0ac3897d",
   "metadata": {},
   "source": [
    "# NYC Restaurants\n"
   ]
  },
  {
   "cell_type": "markdown",
   "id": "e644e710",
   "metadata": {},
   "source": [
    "Load the data and read the values as strings"
   ]
  },
  {
   "cell_type": "code",
   "execution_count": 10,
   "id": "3d2dcd8c",
   "metadata": {},
   "outputs": [
    {
     "name": "stdout",
     "output_type": "stream",
     "text": [
      "Populating the interactive namespace from numpy and matplotlib\n"
     ]
    }
   ],
   "source": [
    "from pandas import Series, DataFrame\n",
    "import pandas as pd\n",
    "%pylab inline"
   ]
  },
  {
   "cell_type": "code",
   "execution_count": 11,
   "id": "7905ea2c",
   "metadata": {},
   "outputs": [],
   "source": [
    "df = pd.read_csv('NYC_Restaurants.csv', dtype=str)"
   ]
  },
  {
   "cell_type": "code",
   "execution_count": 12,
   "id": "1efe22a9",
   "metadata": {},
   "outputs": [
    {
     "data": {
      "text/plain": [
       "Index(['Unnamed: 0', 'CAMIS', 'DBA', 'BORO', 'BUILDING', 'STREET', 'ZIPCODE',\n",
       "       'PHONE', 'CUISINE DESCRIPTION', 'INSPECTION DATE', 'ACTION',\n",
       "       'VIOLATION CODE', 'VIOLATION DESCRIPTION', 'CRITICAL FLAG', 'SCORE',\n",
       "       'GRADE', 'GRADE DATE', 'RECORD DATE', 'INSPECTION TYPE'],\n",
       "      dtype='object')"
      ]
     },
     "execution_count": 12,
     "metadata": {},
     "output_type": "execute_result"
    }
   ],
   "source": [
    "df.columns"
   ]
  },
  {
   "cell_type": "code",
   "execution_count": 13,
   "id": "c8f5ecff",
   "metadata": {},
   "outputs": [
    {
     "data": {
      "text/plain": [
       "Unnamed: 0                                                               0\n",
       "CAMIS                                                             30112340\n",
       "DBA                                                                WENDY'S\n",
       "BORO                                                              BROOKLYN\n",
       "BUILDING                                                               469\n",
       "STREET                                                     FLATBUSH AVENUE\n",
       "ZIPCODE                                                              11225\n",
       "PHONE                                                           7182875005\n",
       "CUISINE DESCRIPTION                                             Hamburgers\n",
       "INSPECTION DATE                                                 12/30/2014\n",
       "ACTION                     Violations were cited in the following area(s).\n",
       "VIOLATION CODE                                                         06C\n",
       "VIOLATION DESCRIPTION    Food not protected from potential source of co...\n",
       "CRITICAL FLAG                                                     Critical\n",
       "SCORE                                                                    8\n",
       "GRADE                                                                    A\n",
       "GRADE DATE                                                      12/30/2014\n",
       "RECORD DATE                                                     02/12/2015\n",
       "INSPECTION TYPE                           Cycle Inspection / Re-inspection\n",
       "Name: 0, dtype: object"
      ]
     },
     "execution_count": 13,
     "metadata": {},
     "output_type": "execute_result"
    }
   ],
   "source": [
    "df.iloc[0]"
   ]
  },
  {
   "cell_type": "markdown",
   "id": "4e5ea717",
   "metadata": {},
   "source": [
    "### [Q1. 6 points] Create a unique name for each restaurant \n",
    "On the\n",
    "DataFrame created above, add a new column to your DataFrame, called\n",
    "’RESTAURANT’, that combines DBA, BUILDING, STREET, ZIPCODE,\n",
    "and BORO fields. <br>For example, “WENDY’S 469 FLATBUSH AVENUE\n",
    "11225 BROOKLYN”. Print the first 10 values of the RESTAURANT column\n",
    "of your DataFrame."
   ]
  },
  {
   "cell_type": "markdown",
   "id": "d80e8d4c",
   "metadata": {},
   "source": [
    "<b>Solution:</b><br>\n",
    "a. Concatenate the field values using '+' to create the new field as below<br>b. Print the top 10 rows using iloc"
   ]
  },
  {
   "cell_type": "code",
   "execution_count": 14,
   "id": "44f5b09e",
   "metadata": {},
   "outputs": [
    {
     "data": {
      "text/plain": [
       "0           WENDY'S 469 FLATBUSH AVENUE 11225 BROOKLYN\n",
       "1           WENDY'S 469 FLATBUSH AVENUE 11225 BROOKLYN\n",
       "2           WENDY'S 469 FLATBUSH AVENUE 11225 BROOKLYN\n",
       "3           WENDY'S 469 FLATBUSH AVENUE 11225 BROOKLYN\n",
       "4           WENDY'S 469 FLATBUSH AVENUE 11225 BROOKLYN\n",
       "5        TOV KOSHER KITCHEN 97-22 63 ROAD 11374 QUEENS\n",
       "6        TOV KOSHER KITCHEN 97-22 63 ROAD 11374 QUEENS\n",
       "7        TOV KOSHER KITCHEN 97-22 63 ROAD 11374 QUEENS\n",
       "8        TOV KOSHER KITCHEN 97-22 63 ROAD 11374 QUEENS\n",
       "9    BRUNOS ON THE BOULEVARD 8825 ASTORIA BOULEVARD...\n",
       "Name: RESTAURANT, dtype: object"
      ]
     },
     "execution_count": 14,
     "metadata": {},
     "output_type": "execute_result"
    }
   ],
   "source": [
    "## Create a new column and concatenate the field values\n",
    "df['RESTAURANT'] = df['DBA'] + ' ' + df['BUILDING'] + ' ' + df['STREET'] + ' ' + df['ZIPCODE'] + ' ' + df['BORO']\n",
    "\n",
    "df['RESTAURANT'].iloc[:10]"
   ]
  },
  {
   "cell_type": "markdown",
   "id": "c88154ee",
   "metadata": {},
   "source": [
    "### [Q2, 6 points] How many restaurants are included in the data?\n",
    "Careful now:\n",
    "• A “Subway” in one particular address (i.e., building, street, zipcode,\n",
    "and boro) counts as one restaurant; don’t combine all Subways into\n",
    "one restaurant!\n",
    "• The data can have multiple violations for the same restaurant!"
   ]
  },
  {
   "cell_type": "markdown",
   "id": "1e2238e2",
   "metadata": {},
   "source": [
    "<b>Solution:</b>\n",
    "Identify the unique restaurant names(including building, street, zipcode, boro) using unique() and use len() to calculate the count the unique values"
   ]
  },
  {
   "cell_type": "code",
   "execution_count": 15,
   "id": "b362e827",
   "metadata": {},
   "outputs": [
    {
     "name": "stdout",
     "output_type": "stream",
     "text": [
      "Total number of restaurants in NYC: 10114\n"
     ]
    }
   ],
   "source": [
    "## Calculate the length of unique() values under 'RESTAURANTS'\n",
    "num_restaurants = len(df['RESTAURANT'].unique())\n",
    "print(f'Total number of restaurants in NYC: {num_restaurants}')"
   ]
  },
  {
   "cell_type": "markdown",
   "id": "0fde1ba7",
   "metadata": {},
   "source": [
    "### [Q3, 6 points] How many chains are there? \n",
    "Let us define a chain to be\n",
    "the same restaurant name occurring in at least two different (building, street,\n",
    "zipcode, boro) addresses (i.e., one DBA with multiple restaurant locations).\n",
    "You’ll see multiple versions of the name ”DUNKIN DONUTS”. Just act\n",
    "as if they are different chains."
   ]
  },
  {
   "cell_type": "markdown",
   "id": "07ce78d1",
   "metadata": {},
   "source": [
    "<b>Solution:</b> <br>a. Drop rows with NaN values and rows with duplicate DBA,RESTAURANT combination <br> b. Count the number of DBA values <br> c. Calculate the number of 'DBA' values for which the above is >= 2"
   ]
  },
  {
   "cell_type": "code",
   "execution_count": 16,
   "id": "8ea55aa1",
   "metadata": {},
   "outputs": [
    {
     "name": "stdout",
     "output_type": "stream",
     "text": [
      "Total number of restaurant chains in NYC: 368\n"
     ]
    }
   ],
   "source": [
    "## Calculate the number of DBA values in NYC with atleast 2 restaurant addresses\n",
    "chains = df[['DBA', 'RESTAURANT']].dropna(how = 'any').drop_duplicates()['DBA'].value_counts()\n",
    "chains = chains[chains > 1]\n",
    "print(f'Total number of restaurant chains in NYC: {len(chains)}')"
   ]
  },
  {
   "cell_type": "markdown",
   "id": "c2c57010",
   "metadata": {},
   "source": [
    "### [Q4, 6 points] Plot a bar graph of the top 20 most popular chains.\n",
    "We already have the chains from the previous problem. Count the number\n",
    "of restaurants for each chain as a measure of its popularity."
   ]
  },
  {
   "cell_type": "markdown",
   "id": "f1836317",
   "metadata": {},
   "source": [
    "<b> Solution: </b> <br>a. Drop rows with NaN values and rows with duplicate DBA,RESTAURANT combination <br> b. Count the number of DBA values <br> c. Plot the bargraph using plot()"
   ]
  },
  {
   "cell_type": "code",
   "execution_count": 17,
   "id": "3ef98a88",
   "metadata": {},
   "outputs": [
    {
     "data": {
      "text/plain": [
       "<AxesSubplot:>"
      ]
     },
     "execution_count": 17,
     "metadata": {},
     "output_type": "execute_result"
    },
    {
     "data": {
      "image/png": "[encoded data removed]",
      "text/plain": [
       "<Figure size 432x288 with 1 Axes>"
      ]
     },
     "metadata": {
      "needs_background": "light"
     },
     "output_type": "display_data"
    }
   ],
   "source": [
    "## Plot the graph of top 20 restaurant chains with maximum restaurant outlets\n",
    "chains[:20].plot(kind = \"bar\")"
   ]
  },
  {
   "cell_type": "markdown",
   "id": "c0c8a75f",
   "metadata": {},
   "source": [
    "### [Q5, 6 points] What fraction of all restaurants are chain restaurants? \n",
    "You should think of a restaurant as being one restaurant at one\n",
    "location. So “Wendy’s 5th Street” and “Wendy’s on 10th Street” are two\n",
    "different restaurants. Essentially a restaurant is what you defined in Q1."
   ]
  },
  {
   "cell_type": "markdown",
   "id": "e3c214db",
   "metadata": {},
   "source": [
    "<b> Solution:</b> <br> Calculate the number of restaurants part of a chain and divide it by the total restaurants"
   ]
  },
  {
   "cell_type": "code",
   "execution_count": 19,
   "id": "3b476091",
   "metadata": {},
   "outputs": [
    {
     "data": {
      "text/plain": [
       "0.16472216729286138"
      ]
     },
     "execution_count": 19,
     "metadata": {},
     "output_type": "execute_result"
    }
   ],
   "source": [
    "chain_restaurant_perc = sum(chains) / num_restaurants\n",
    "chain_restaurant_perc"
   ]
  },
  {
   "cell_type": "markdown",
   "id": "7ae0cb87",
   "metadata": {},
   "source": [
    "### [Q6, 6 points] Plot the number of non-chain restaurants in each boro. \n",
    "First, we need to figure out all the non-chain restaurants, then select\n",
    "out only those restaurants, and finally plot the number of such restaurants\n",
    "by boro. Make sure to look at the plot; we don’t want to see... oh... the\n",
    "“missing” boro."
   ]
  },
  {
   "cell_type": "markdown",
   "id": "2d651644",
   "metadata": {},
   "source": [
    "<b> Solution: </b> <br> a. Create a new column \"is_chain\". The value in each cell will be true if DBA in that row is in chains list and false if not. <br> b. Use value_counts() to count the number of non-chain restaurants in each borough and plot the values, except 'Missing'"
   ]
  },
  {
   "cell_type": "code",
   "execution_count": 20,
   "id": "c9c26531",
   "metadata": {},
   "outputs": [
    {
     "data": {
      "text/plain": [
       "<AxesSubplot:>"
      ]
     },
     "execution_count": 20,
     "metadata": {},
     "output_type": "execute_result"
    },
    {
     "data": {
      "image/png": "[encoded data removed]",
      "text/plain": [
       "<Figure size 432x288 with 1 Axes>"
      ]
     },
     "metadata": {
      "needs_background": "light"
     },
     "output_type": "display_data"
    }
   ],
   "source": [
    "# adding a new column - 'is_chain' tells if a given restaurant is a chain or not.\n",
    "df['is_chain']  = df['DBA'].apply(lambda x: x in list(chains.index.values))\n",
    "non_chain_res_boro = df[(df['is_chain'] == False) & (df['BORO'] != 'Missing')]\\\n",
    "                                                    [['RESTAURANT', 'BORO']].\\\n",
    "                                                    drop_duplicates()['BORO'].\\\n",
    "                                                    value_counts()\n",
    "non_chain_res_boro.plot(kind = 'bar')"
   ]
  },
  {
   "cell_type": "markdown",
   "id": "e46835c2",
   "metadata": {},
   "source": [
    "### [Q7, 8 points] Plot the fraction of non-chain restaurants in each boro. \n",
    "The boro with the most non-chain restaurants might just be the\n",
    "boro with the most restaurants in general. \n",
    "<br> If we want to find the boro that\n",
    "attracts the most “independent” restauranteurs, we must divide the number\n",
    "of non-chain restaurants by the total number of restaurants in the boro. Plot\n",
    "this.<br>\n",
    "Is the boro with the most independent restaurants also the one with the\n",
    "highest ratio of independent restaurants?"
   ]
  },
  {
   "cell_type": "markdown",
   "id": "2ada7253",
   "metadata": {},
   "source": [
    "<b> Solution: </b><br> a. Use value_counts() to count the number of restaurants in each borough <br> b. Calculate fraction of non-chain restaurants to total restaurants in each borough and plot the values, except 'Missing'<br><br> <b>INFERENCE:</b><br> The absolute number of non-chain restaurants in Manhattan is highest with 3323 independent restaurants, however, the highest ratio of non-chain restaurants is in Brooklyn with a value of 0.862 and Manhattan has the third highest ratio of 0.83"
   ]
  },
  {
   "cell_type": "code",
   "execution_count": 26,
   "id": "77656d7f",
   "metadata": {},
   "outputs": [
    {
     "data": {
      "text/plain": [
       "<AxesSubplot:>"
      ]
     },
     "execution_count": 26,
     "metadata": {},
     "output_type": "execute_result"
    },
    {
     "data": {
      "image/png": "[encoded data removed]",
      "text/plain": [
       "<Figure size 432x288 with 1 Axes>"
      ]
     },
     "metadata": {
      "needs_background": "light"
     },
     "output_type": "display_data"
    }
   ],
   "source": [
    "## Calculate the total number of restaurants in each borough\n",
    "res_boro = df[df['BORO'] != 'Missing'][['RESTAURANT', 'BORO']].\\\n",
    "                                                    drop_duplicates()['BORO'].\\\n",
    "                                                    value_counts()\n",
    "frac_non_chain = non_chain_res_boro / res_boro\n",
    "frac_non_chain.sort_values(ascending=False).plot(kind = 'bar')"
   ]
  },
  {
   "cell_type": "markdown",
   "id": "2e6e339c",
   "metadata": {},
   "source": [
    "### [Q8, 6 points] Plot the popularity of cuisines. \n",
    "Which cuisines are\n",
    "the most well-represented among all restaurants? Define the popularity of a\n",
    "cuisine as the number of restaurants serving that cuisine. <br> Plot the popularity\n",
    "of the top 20 cuisines.\n"
   ]
  },
  {
   "cell_type": "markdown",
   "id": "4d6a73ea",
   "metadata": {},
   "source": [
    "<b>Solution:</b><br> a. Use the unique_restaurants_df dataframe and value_counts() to calculate the number of unique restaurants serving a particular cuisine <br> b. Plot the top 20 cuisines"
   ]
  },
  {
   "cell_type": "code",
   "execution_count": 30,
   "id": "571702a9",
   "metadata": {},
   "outputs": [
    {
     "data": {
      "text/plain": [
       "<AxesSubplot:>"
      ]
     },
     "execution_count": 30,
     "metadata": {},
     "output_type": "execute_result"
    },
    {
     "data": {
      "image/png": "[encoded data removed]",
      "text/plain": [
       "<Figure size 432x288 with 1 Axes>"
      ]
     },
     "metadata": {
      "needs_background": "light"
     },
     "output_type": "display_data"
    }
   ],
   "source": [
    "## Identify the popular cuisines in NYC\n",
    "unique_restaurants_df = df[['RESTAURANT', 'CUISINE DESCRIPTION']].\\\n",
    "                            drop_duplicates()\n",
    "\n",
    "popular_cuisines = unique_restaurants_df['CUISINE DESCRIPTION'].\\\n",
    "                                            value_counts()\n",
    "\n",
    "## Plot the top 20 popular cuisines\n",
    "popular_cuisines[:20].plot(kind='bar')"
   ]
  },
  {
   "cell_type": "markdown",
   "id": "205d50a8",
   "metadata": {},
   "source": [
    "### [Q9, 9 points] Plot the cuisines among restaurants which never gotcited for violations. \n",
    "Ideally, you should explore and see what happens\n",
    "when there is no violation, but here I will just tell you: the ’VIOLATION\n",
    "CODE’ field is missing.<br>\n",
    "First, find the restaurants that were never cited for a code violation. The\n",
    "compute the popularity of each cuisine among these “clean” restaurants. <br>Plot\n",
    "the popularity of the top-20 among these cuisines."
   ]
  },
  {
   "cell_type": "markdown",
   "id": "b8302817",
   "metadata": {},
   "source": [
    "<b>Solution:</b><br> a. Identify all the restaurants that have had atleast one violation by using pd.notnull() and unique()<br>b. Create a new column \"has_ever_voilated\". this cell will be true if Restaurant is in \"restaurant voliation\" list created in Step a. <br>c. Filter for Restaurants that have never violated and drop duplicates for \"Restaurant\" and \"Cuisine\"<br>d. Calculate the count of cuisines for these clean restaurants and plot the top 20 cuisines"
   ]
  },
  {
   "cell_type": "code",
   "execution_count": 32,
   "id": "d050bda5",
   "metadata": {},
   "outputs": [
    {
     "data": {
      "text/plain": [
       "<AxesSubplot:>"
      ]
     },
     "execution_count": 32,
     "metadata": {},
     "output_type": "execute_result"
    },
    {
     "data": {
      "image/png": "[encoded data removed]",
      "text/plain": [
       "<Figure size 432x288 with 1 Axes>"
      ]
     },
     "metadata": {
      "needs_background": "light"
     },
     "output_type": "display_data"
    }
   ],
   "source": [
    "#list of restaurant that never voilated any codes\n",
    "restaurant_with_voilation = list(df[df['VIOLATION CODE'].notnull()]['RESTAURANT'].unique())\n",
    "\n",
    "#new column created\n",
    "df['has_ever_violated'] = df['RESTAURANT'].apply(lambda x: x in restaurant_with_voilation)\n",
    "\n",
    "# Counting for cuisines using value counts\n",
    "clean_cuisine = df[df['has_ever_violated'] == False]\\\n",
    "                    [[\"RESTAURANT\", \"CUISINE DESCRIPTION\"]].drop_duplicates()\\\n",
    "                    ['CUISINE DESCRIPTION'].value_counts()\n",
    "# plotting the graph\n",
    "clean_cuisine[:20].plot(kind = 'bar')"
   ]
  },
  {
   "cell_type": "markdown",
   "id": "f23e8e9e",
   "metadata": {},
   "source": [
    "### [Q10, 6 points] What cuisines tend to be the “cleanest”?\n",
    "• Select all cuisines for which there were at least 20 restaurants representing that cuisine.<br>\n",
    "• For each such cuisine, compute the ratio of the counts in Q9 to Q8.<br>\n",
    "This is the ratio of restaurants that never got cited, versus total number\n",
    "of restaurants, for each cuisine.<br>\n",
    "• Find the top-10 cuisines with the highest ratios; these are that cuisines\n",
    "whose restaurants are “most likely to be clean.”"
   ]
  },
  {
   "cell_type": "markdown",
   "id": "6967e616",
   "metadata": {},
   "source": [
    "<b>Solution:</b><br>a. Use value_counts() to identify cuisines with more than 20 restaurants serving them<br>b. Calculate the ratio of clean restaurants serving the cuisine to total restaurants serving the cuisine<br>c. Sort the ratios in descending order and plot the top 10 cuisines"
   ]
  },
  {
   "cell_type": "code",
   "execution_count": 46,
   "id": "eee59bb7",
   "metadata": {},
   "outputs": [
    {
     "data": {
      "text/html": [
       "<div>\n",
       "<style scoped>\n",
       "    .dataframe tbody tr th:only-of-type {\n",
       "        vertical-align: middle;\n",
       "    }\n",
       "\n",
       "    .dataframe tbody tr th {\n",
       "        vertical-align: top;\n",
       "    }\n",
       "\n",
       "    .dataframe thead th {\n",
       "        text-align: right;\n",
       "    }\n",
       "</style>\n",
       "<table border=\"1\" class=\"dataframe\">\n",
       "  <thead>\n",
       "    <tr style=\"text-align: right;\">\n",
       "      <th></th>\n",
       "      <th>CUISINE DESCRIPTION</th>\n",
       "    </tr>\n",
       "  </thead>\n",
       "  <tbody>\n",
       "    <tr>\n",
       "      <th>Soul Food</th>\n",
       "      <td>0.090909</td>\n",
       "    </tr>\n",
       "    <tr>\n",
       "      <th>Vietnamese/Cambodian/Malaysia</th>\n",
       "      <td>0.062500</td>\n",
       "    </tr>\n",
       "    <tr>\n",
       "      <th>Other</th>\n",
       "      <td>0.058252</td>\n",
       "    </tr>\n",
       "    <tr>\n",
       "      <th>Soups &amp; Sandwiches</th>\n",
       "      <td>0.047619</td>\n",
       "    </tr>\n",
       "    <tr>\n",
       "      <th>Continental</th>\n",
       "      <td>0.047619</td>\n",
       "    </tr>\n",
       "    <tr>\n",
       "      <th>Barbecue</th>\n",
       "      <td>0.047619</td>\n",
       "    </tr>\n",
       "    <tr>\n",
       "      <th>Asian</th>\n",
       "      <td>0.041096</td>\n",
       "    </tr>\n",
       "    <tr>\n",
       "      <th>Chinese</th>\n",
       "      <td>0.038251</td>\n",
       "    </tr>\n",
       "    <tr>\n",
       "      <th>Greek</th>\n",
       "      <td>0.036364</td>\n",
       "    </tr>\n",
       "    <tr>\n",
       "      <th>Peruvian</th>\n",
       "      <td>0.035714</td>\n",
       "    </tr>\n",
       "  </tbody>\n",
       "</table>\n",
       "</div>"
      ],
      "text/plain": [
       "                               CUISINE DESCRIPTION\n",
       "Soul Food                                 0.090909\n",
       "Vietnamese/Cambodian/Malaysia             0.062500\n",
       "Other                                     0.058252\n",
       "Soups & Sandwiches                        0.047619\n",
       "Continental                               0.047619\n",
       "Barbecue                                  0.047619\n",
       "Asian                                     0.041096\n",
       "Chinese                                   0.038251\n",
       "Greek                                     0.036364\n",
       "Peruvian                                  0.035714"
      ]
     },
     "execution_count": 46,
     "metadata": {},
     "output_type": "execute_result"
    }
   ],
   "source": [
    "## Identify cuisines with more than 20 restaurants serving them\n",
    "mask = unique_restaurants_df['CUISINE DESCRIPTION'].value_counts() >= 20\n",
    "\n",
    "## Calculate the ratio of clean restaurants serving the cuisine to total restaurants serving the cuisine\n",
    "## Sort the ratios in descending order \n",
    "most_likely_clean = pd.DataFrame(clean_cuisine[mask]/popular_cuisines[mask]).\\\n",
    "                                                dropna().\\\n",
    "                                                sort_values(by = 'CUISINE DESCRIPTION',\n",
    "                                                            ascending=False)\n",
    "\n",
    "## Plot the top 10 cuisines using ratio of clean restaurants to total restaurants\n",
    "most_likely_clean[:10]"
   ]
  },
  {
   "cell_type": "markdown",
   "id": "c1f2dc84",
   "metadata": {},
   "source": [
    "### [Q11, 8 points] What are the most common violations in each borough? \n",
    "Create a table of the number of times each violation description\n",
    "was observed in each borough, and figure out the most common violation\n",
    "description for each borough.\n",
    "To create the table, check out the crosstab function. We will see a more\n",
    "general version of this when we discuss groupby in class.Once you do have the table, you will still need to find the most common\n",
    "violation description for each borough."
   ]
  },
  {
   "cell_type": "markdown",
   "id": "64dc6637",
   "metadata": {},
   "source": [
    "<b>Solution:</b><br>a. Create a crosstab with 'VIOLATION CODE' and 'BORO' counting the number of violation codes in each borough<br>b. Use idxmax() to identify the most common violation code in each borough"
   ]
  },
  {
   "cell_type": "code",
   "execution_count": 37,
   "id": "b49875cd",
   "metadata": {},
   "outputs": [
    {
     "data": {
      "text/plain": [
       "col_0\n",
       "BRONX            10F\n",
       "BROOKLYN         10F\n",
       "MANHATTAN        10F\n",
       "Missing          10F\n",
       "QUEENS           10F\n",
       "STATEN ISLAND    10F\n",
       "dtype: object"
      ]
     },
     "execution_count": 37,
     "metadata": {},
     "output_type": "execute_result"
    }
   ],
   "source": [
    "## Create crosstab of violation code and borough\n",
    "violation = pd.Categorical(df['VIOLATION CODE'])\n",
    "borough = pd.Categorical(df['BORO'])\n",
    "boro_viol = pd.crosstab(violation, borough)\n",
    "\n",
    "## Identify most common violation codes in each borough\n",
    "boro_viol.idxmax()"
   ]
  },
  {
   "cell_type": "markdown",
   "id": "376e7713",
   "metadata": {},
   "source": [
    "### [Q12, 9 points] What are the most common violations per borough, after normalizing for the relative abundance of each violation?\n",
    "Hopefully, the answer to the previous question left you unsatisfied, because\n",
    "some violations are just very common, irrespective of borough. A better\n",
    "approach would be to normalize the violation counts, as follows.<br>\n",
    "• Get overall frequencies: Figure out how common each violation is, over\n",
    "the entire dataset; let’s call this violationFrequency.<br>\n",
    "• Normalize: Consider the table of number of violations by boro that\n",
    "you created for the previous question. For each borough, divide the\n",
    "number of violations of each type by the total number of violations for\n",
    "that type; i.e., divide the series of violations by violationFrequency.\n",
    "We want to do this for each borough.<br>\n",
    "• Find the biggest violations: Now, after this normalization, for each\n",
    "borough, figure out the most common violation description."
   ]
  },
  {
   "cell_type": "markdown",
   "id": "b2d22a1a",
   "metadata": {},
   "source": [
    "<b>Solution</b><br>a. Calculate the total count of violation codes irrespective of borough<br>b.Use crosstab with normalize function parameter, which will normalize the values i.e., divide the individual borough violation code count by sum of the total occurences of that violation code across all boroughs<br>c. Use idxmax() to identify the most common violation code in each borough using these normalized values"
   ]
  },
  {
   "cell_type": "code",
   "execution_count": 45,
   "id": "18a93596",
   "metadata": {},
   "outputs": [
    {
     "data": {
      "text/plain": [
       "col_0\n",
       "BRONX            04I\n",
       "BROOKLYN         02D\n",
       "MANHATTAN        03E\n",
       "Missing          10J\n",
       "QUEENS           03G\n",
       "STATEN ISLAND    03C\n",
       "dtype: object"
      ]
     },
     "execution_count": 45,
     "metadata": {},
     "output_type": "execute_result"
    }
   ],
   "source": [
    "## Calculate total count of violation codes irrespective of borough\n",
    "boro_viol.columns = boro_viol.columns.add_categories(['violationFrequency'])\n",
    "boro_viol['violationFrequency'] = boro_viol.sum(axis = 1)\n",
    "\n",
    "\n",
    "## Use crosstab with normalize function parameter to normalize the values \n",
    "violation = pd.Categorical(df['VIOLATION CODE'])\n",
    "borough = pd.Categorical(df['BORO'])\n",
    "boro_viol = pd.crosstab(violation, borough, normalize = 'index')\n",
    "\n",
    "\n",
    "## Identify the most common violation code in each borough using these normalized values\n",
    "boro_viol.idxmax()"
   ]
  },
  {
   "cell_type": "markdown",
   "id": "228d5e3d",
   "metadata": {},
   "source": [
    "### [Q13, 8 points] How many phone area codes correspond to a singlezipcode? \n",
    "The first three digits of the restaurant phone numbers are their\n",
    "area codes. The area codes do not generally align with zip codes, but some\n",
    "area codes are only for a single zip code. You must figure out how many area\n",
    "codes have this property.<br>\n",
    "• To extract the first 3 characters of the phone number, recall that strings\n",
    "are pretty similar to lists."
   ]
  },
  {
   "cell_type": "markdown",
   "id": "face559d",
   "metadata": {},
   "source": [
    "<b>Solution</b><br>a. Extract the first three digits from phone numbers as the area code<br>b. Count the number of unique area codes attached to a zipcode using nunique()<br>c. Count the number of zipcodes for which only 1 unique area code is attached"
   ]
  },
  {
   "cell_type": "code",
   "execution_count": 44,
   "id": "f413cd25",
   "metadata": {},
   "outputs": [
    {
     "name": "stdout",
     "output_type": "stream",
     "text": [
      "Number of area codes which are attached to only one zip code: 34\n"
     ]
    }
   ],
   "source": [
    "## Extract area code from phone number\n",
    "df['AREA CODE'] = df['PHONE'].str[:3]\n",
    "\n",
    "## Count the number of zipcodes for which only 1 unique area code is attached\n",
    "unique_zip_area = (df.groupby(['AREA CODE'])['ZIPCODE'].nunique() == 1).value_counts()[True]\n",
    "\n",
    "print(f'Number of area codes which are attached to only one zip code: {unique_zip_area}')"
   ]
  },
  {
   "cell_type": "markdown",
   "id": "394efb95",
   "metadata": {},
   "source": [
    "### [Q14, 10 points] Find common misspellings of street names\n",
    "Sometimes, it’s Avenue, and sometimes, it’s Ave. We will try to come up with an\n",
    "automated way to find common misspellings. The idea is the following: if\n",
    "Ave and Avenue are the same, they should show up often in similar-sounding\n",
    "street names, e.g., Lexington Ave and Lexington Avenue.<br>\n",
    "• Create a new column, called STREET TYPE, which is the the last word\n",
    "in the name of the street. For example, if the street is “Astoria Boulevard”, the street type should be “Boulevard”.<br>\n",
    "• Create another column, called STREET BASE, which contains everything\n",
    "but the last word in the name of the street. For example, if the street\n",
    "is “Astoria Boulevard”, the street base should be “Astoria”.<br>• Create a third column, called STREET BASE & ZIP, that combines the\n",
    "street base and the zipcode.<br>\n",
    "• Create a table containing just these three columns, and remove any\n",
    "duplicates or instances where street base is empty. This table now\n",
    "contains unique street names, along with the street type.<br>\n",
    "• Merge this table with itself, on the STREET BASE & ZIP column. Thus,\n",
    "in the new merged tabled, we will have two STREET TYPE fields for\n",
    "each street base and zipcode. For example, if both Lexington Ave and\n",
    "Lexington Avenue exist in the same zipcode, we will get a row for the\n",
    "street base Lexington and the two street types Ave and Avenue.<br>\n",
    "• From the merged table, select only the rows where the street types are\n",
    "different.<br>\n",
    "• Now, do a cross-tabulation of the two distinct street types (check out\n",
    "the crosstab function in Pandas). This gives us the number of times\n",
    "Ave and Avenue were used with the same STREET BASE & ZIP.<br>\n",
    "• From this cross-tabulation table, find the most commonly street type\n",
    "that occurs with each of the following: AVE, ST, RD, PL, BOULEARD,\n",
    "and BULEVARD<br>"
   ]
  },
  {
   "cell_type": "markdown",
   "id": "1453f03e",
   "metadata": {},
   "source": [
    "<b>Solution:</b><br>a. Create a column 'STREET TYPE' using str.split() on \" \" delimiter and select the last word as the value for this column<br>b. Create a column 'STREET BASE' using str.split() on \" \" delimiter and select everything but the last word and concatenate the list elements into a string<br>c. Create a column 'STREET BASE & ZIP' by concatenating the 'STREET BASE' and 'ZIPCODE' column values using '+' operator for string concatenation<br>d. Create a dataframe called street using only 'STREET TYPE','STREET BASE','STREET BASE & ZIP' columns and drop all duplicates<br>e. Merge this table with itself using merge() on 'STREET BASE & ZIP' column<br>f. Pick only the rows where 'STREET TYPE' of first table is != 'STREET TYPE' from second table<br>g. Create a crosstab for the 'STREET TYPE' column of both tables<br>h. Create a list of street names as in question and iterate through all items in the list to return the idxmax() for different street types showing the most common street type that are used inplace of them"
   ]
  },
  {
   "cell_type": "code",
   "execution_count": 43,
   "id": "8b5fd879",
   "metadata": {},
   "outputs": [
    {
     "name": "stdout",
     "output_type": "stream",
     "text": [
      "Most common street type for AVE: AVENUE\n",
      "Most common street type for ST: STREET\n",
      "Most common street type for RD: ROAD\n",
      "Most common street type for PL: PLACE\n",
      "Most common street type for BOULEARD: BLVD\n",
      "Most common street type for BULEVARD: BLVD\n"
     ]
    }
   ],
   "source": [
    "## Create a column 'STREET TYPE' using str.split() on \" \" delimiter \n",
    "#  and select the last word as the value for this column<\n",
    "df['STREET TYPE'] = df['STREET'].str.split().str[-1]\n",
    "\n",
    "\n",
    "## Create a column 'STREET BASE' using str.split() on \" \" delimiter and \n",
    "## select everything but the last word and concatenate the list elements into a string\n",
    "df['STREET BASE'] = df['STREET'].apply(lambda x: \" \".join(x.split()[:-1]))\n",
    "\n",
    "\n",
    "## Create a column 'STREET BASE & ZIP' by concatenating the 'STREET BASE' and 'ZIPCODE' column values using '+' \n",
    "df['STREET BASE & ZIP'] = df['STREET BASE'] + ' ' +df['ZIPCODE']\n",
    "\n",
    "## Create a dataframe called street using only 'STREET TYPE','STREET BASE','STREET BASE & ZIP' columns \n",
    "## and drop all duplicates\n",
    "street = df[['STREET TYPE','STREET BASE','STREET BASE & ZIP']].\\\n",
    "                                        drop_duplicates().\\\n",
    "                                        dropna(subset=['STREET BASE'])\n",
    "\n",
    "## Merge this table with itself using merge() on 'STREET BASE & ZIP' column\n",
    "street_merge = street.merge(street, \n",
    "                            left_on='STREET BASE & ZIP',\n",
    "                            right_on='STREET BASE & ZIP',\n",
    "                            suffixes=['_street1','_street2'])\n",
    "\n",
    "## Pick only the rows where 'STREET TYPE' of first table is != 'STREET TYPE' from second table\n",
    "street_merge = street_merge[street_merge['STREET TYPE_street1'] != street_merge['STREET TYPE_street2']]\n",
    "\n",
    "##  Create a crosstab for the 'STREET TYPE' column of both tables\n",
    "misspelling = pd.crosstab(index = street_merge['STREET TYPE_street1'], \n",
    "                 columns = street_merge['STREET TYPE_street2'])\n",
    "\n",
    "for st_type in ['AVE', 'ST', 'RD', 'PL', 'BOULEARD', 'BULEVARD']:\n",
    "    print (f'Most common street type for {st_type}: {misspelling[st_type].idxmax()}')"
   ]
  }
 ],
 "metadata": {
  "kernelspec": {
   "display_name": "Python 3",
   "language": "python",
   "name": "python3"
  },
  "language_info": {
   "codemirror_mode": {
    "name": "ipython",
    "version": 3
   },
   "file_extension": ".py",
   "mimetype": "text/x-python",
   "name": "python",
   "nbconvert_exporter": "python",
   "pygments_lexer": "ipython3",
   "version": "3.8.8"
  },
  "varInspector": {
   "cols": {
    "lenName": 16,
    "lenType": 16,
    "lenVar": 40
   },
   "kernels_config": {
    "python": {
     "delete_cmd_postfix": "",
     "delete_cmd_prefix": "del ",
     "library": "var_list.py",
     "varRefreshCmd": "print(var_dic_list())"
    },
    "r": {
     "delete_cmd_postfix": ") ",
     "delete_cmd_prefix": "rm(",
     "library": "var_list.r",
     "varRefreshCmd": "cat(var_dic_list()) "
    }
   },
   "types_to_exclude": [
    "module",
    "function",
    "builtin_function_or_method",
    "instance",
    "_Feature"
   ],
   "window_display": false
  }
 },
 "nbformat": 4,
 "nbformat_minor": 5
}
