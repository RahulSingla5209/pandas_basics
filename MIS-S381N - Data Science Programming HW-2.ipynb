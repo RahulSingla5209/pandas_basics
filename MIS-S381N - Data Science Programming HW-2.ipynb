{
 "cells": [
  {
   "cell_type": "markdown",
   "id": "0ac3897d",
   "metadata": {},
   "source": [
    "# NYC Restaurants\n"
   ]
  },
  {
   "cell_type": "markdown",
   "id": "e644e710",
   "metadata": {},
   "source": [
    "Load the data and read the values as strings"
   ]
  },
  {
   "cell_type": "code",
   "execution_count": 1,
   "id": "3d2dcd8c",
   "metadata": {},
   "outputs": [
    {
     "name": "stdout",
     "output_type": "stream",
     "text": [
      "Populating the interactive namespace from numpy and matplotlib\n"
     ]
    }
   ],
   "source": [
    "from pandas import Series, DataFrame\n",
    "import pandas as pd\n",
    "%pylab inline"
   ]
  },
  {
   "cell_type": "code",
   "execution_count": 2,
   "id": "7905ea2c",
   "metadata": {},
   "outputs": [],
   "source": [
    "df = pd.read_csv('NYC_Restaurants.csv', dtype=str)"
   ]
  },
  {
   "cell_type": "code",
   "execution_count": 3,
   "id": "1efe22a9",
   "metadata": {},
   "outputs": [
    {
     "data": {
      "text/plain": [
       "Index(['Unnamed: 0', 'CAMIS', 'DBA', 'BORO', 'BUILDING', 'STREET', 'ZIPCODE',\n",
       "       'PHONE', 'CUISINE DESCRIPTION', 'INSPECTION DATE', 'ACTION',\n",
       "       'VIOLATION CODE', 'VIOLATION DESCRIPTION', 'CRITICAL FLAG', 'SCORE',\n",
       "       'GRADE', 'GRADE DATE', 'RECORD DATE', 'INSPECTION TYPE'],\n",
       "      dtype='object')"
      ]
     },
     "execution_count": 3,
     "metadata": {},
     "output_type": "execute_result"
    }
   ],
   "source": [
    "df.columns"
   ]
  },
  {
   "cell_type": "code",
   "execution_count": 4,
   "id": "c8f5ecff",
   "metadata": {},
   "outputs": [
    {
     "data": {
      "text/plain": [
       "Unnamed: 0                                                               0\n",
       "CAMIS                                                             30112340\n",
       "DBA                                                                WENDY'S\n",
       "BORO                                                              BROOKLYN\n",
       "BUILDING                                                               469\n",
       "STREET                                                     FLATBUSH AVENUE\n",
       "ZIPCODE                                                              11225\n",
       "PHONE                                                           7182875005\n",
       "CUISINE DESCRIPTION                                             Hamburgers\n",
       "INSPECTION DATE                                                 12/30/2014\n",
       "ACTION                     Violations were cited in the following area(s).\n",
       "VIOLATION CODE                                                         06C\n",
       "VIOLATION DESCRIPTION    Food not protected from potential source of co...\n",
       "CRITICAL FLAG                                                     Critical\n",
       "SCORE                                                                    8\n",
       "GRADE                                                                    A\n",
       "GRADE DATE                                                      12/30/2014\n",
       "RECORD DATE                                                     02/12/2015\n",
       "INSPECTION TYPE                           Cycle Inspection / Re-inspection\n",
       "Name: 0, dtype: object"
      ]
     },
     "execution_count": 4,
     "metadata": {},
     "output_type": "execute_result"
    }
   ],
   "source": [
    "df.iloc[0]"
   ]
  },
  {
   "cell_type": "markdown",
   "id": "4e5ea717",
   "metadata": {},
   "source": [
    "### [Q1. 6 points] Create a unique name for each restaurant \n",
    "On the\n",
    "DataFrame created above, add a new column to your DataFrame, called\n",
    "’RESTAURANT’, that combines DBA, BUILDING, STREET, ZIPCODE,\n",
    "and BORO fields. <br>For example, “WENDY’S 469 FLATBUSH AVENUE\n",
    "11225 BROOKLYN”. Print the first 10 values of the RESTAURANT column\n",
    "of your DataFrame."
   ]
  },
  {
   "cell_type": "markdown",
   "id": "d80e8d4c",
   "metadata": {},
   "source": [
    "<b>Solution:</b><br>\n",
    "a. Concatenate the field values using '+' to create the new field as below<br>b. Print the top 10 rows using iloc"
   ]
  },
  {
   "cell_type": "code",
   "execution_count": 5,
   "id": "f316e7ac",
   "metadata": {},
   "outputs": [],
   "source": [
    "## Create a new column and concatenate the field values\n",
    "df['RESTAURANT'] = df['DBA'] + ' ' + df['BUILDING'] + ' ' + df['STREET'] + ' ' + df['ZIPCODE'] + ' ' + df['BORO']"
   ]
  },
  {
   "cell_type": "code",
   "execution_count": 6,
   "id": "44f5b09e",
   "metadata": {},
   "outputs": [
    {
     "data": {
      "text/plain": [
       "0           WENDY'S 469 FLATBUSH AVENUE 11225 BROOKLYN\n",
       "1           WENDY'S 469 FLATBUSH AVENUE 11225 BROOKLYN\n",
       "2           WENDY'S 469 FLATBUSH AVENUE 11225 BROOKLYN\n",
       "3           WENDY'S 469 FLATBUSH AVENUE 11225 BROOKLYN\n",
       "4           WENDY'S 469 FLATBUSH AVENUE 11225 BROOKLYN\n",
       "5        TOV KOSHER KITCHEN 97-22 63 ROAD 11374 QUEENS\n",
       "6        TOV KOSHER KITCHEN 97-22 63 ROAD 11374 QUEENS\n",
       "7        TOV KOSHER KITCHEN 97-22 63 ROAD 11374 QUEENS\n",
       "8        TOV KOSHER KITCHEN 97-22 63 ROAD 11374 QUEENS\n",
       "9    BRUNOS ON THE BOULEVARD 8825 ASTORIA BOULEVARD...\n",
       "Name: RESTAURANT, dtype: object"
      ]
     },
     "execution_count": 6,
     "metadata": {},
     "output_type": "execute_result"
    }
   ],
   "source": [
    "df['RESTAURANT'].iloc[:10]"
   ]
  },
  {
   "cell_type": "code",
   "execution_count": null,
   "id": "7247596b",
   "metadata": {},
   "outputs": [],
   "source": []
  },
  {
   "cell_type": "markdown",
   "id": "c88154ee",
   "metadata": {},
   "source": [
    "### [Q2, 6 points] How many restaurants are included in the data?\n",
    "Careful now:\n",
    "• A “Subway” in one particular address (i.e., building, street, zipcode,\n",
    "and boro) counts as one restaurant; don’t combine all Subways into\n",
    "one restaurant!\n",
    "• The data can have multiple violations for the same restaurant!"
   ]
  },
  {
   "cell_type": "markdown",
   "id": "1e2238e2",
   "metadata": {},
   "source": [
    "<b>Solution:</b>\n",
    "Identify the unique restaurant names(including building, street, zipcode, boro) using unique() and use len() to calculate the count the unique values"
   ]
  },
  {
   "cell_type": "code",
   "execution_count": 7,
   "id": "b362e827",
   "metadata": {},
   "outputs": [
    {
     "name": "stdout",
     "output_type": "stream",
     "text": [
      "Total number of restaurants in NYC: 10114\n"
     ]
    }
   ],
   "source": [
    "## Calculate the length of unique() values under 'RESTAURANTS'\n",
    "restaurants = len(df['RESTAURANT'].unique())\n",
    "print(f'Total number of restaurants in NYC: {restaurants}')"
   ]
  },
  {
   "cell_type": "code",
   "execution_count": null,
   "id": "b899d9d8",
   "metadata": {},
   "outputs": [],
   "source": []
  },
  {
   "cell_type": "markdown",
   "id": "0fde1ba7",
   "metadata": {},
   "source": [
    "### [Q3, 6 points] How many chains are there? \n",
    "Let us define a chain to be\n",
    "the same restaurant name occurring in at least two different (building, street,\n",
    "zipcode, boro) addresses (i.e., one DBA with multiple restaurant locations).\n",
    "You’ll see multiple versions of the name ”DUNKIN DONUTS”. Just act\n",
    "as if they are different chains."
   ]
  },
  {
   "cell_type": "markdown",
   "id": "07ce78d1",
   "metadata": {},
   "source": [
    "<b>Solution:</b> <br>a. Drop rows with NaN values and rows with duplicate DBA,RESTAURANT combination <br> b. Count the number of DBA values <br> c. Calculate the number of 'DBA' values for which the above is >= 2"
   ]
  },
  {
   "cell_type": "code",
   "execution_count": 8,
   "id": "8ea55aa1",
   "metadata": {},
   "outputs": [
    {
     "name": "stdout",
     "output_type": "stream",
     "text": [
      "Total number of restaurant chains in NYC: 368\n"
     ]
    }
   ],
   "source": [
    "## Calculate the number of DBA values in NYC with atleast 2 restaurant addresses\n",
    "chains = (df[['DBA','RESTAURANT']].dropna(how='any').drop_duplicates()['DBA'].value_counts()>=2).sum()\n",
    "print(f'Total number of restaurant chains in NYC: {chains}')"
   ]
  },
  {
   "cell_type": "code",
   "execution_count": null,
   "id": "f46bdc16",
   "metadata": {},
   "outputs": [],
   "source": []
  },
  {
   "cell_type": "markdown",
   "id": "c2c57010",
   "metadata": {},
   "source": [
    "### [Q4, 6 points] Plot a bar graph of the top 20 most popular chains.\n",
    "We already have the chains from the previous problem. Count the number\n",
    "of restaurants for each chain as a measure of its popularity."
   ]
  },
  {
   "cell_type": "markdown",
   "id": "f1836317",
   "metadata": {},
   "source": [
    "<b> Solution: </b> <br>a. Drop rows with NaN values and rows with duplicate DBA,RESTAURANT combination <br> b. Count the number of DBA values <br> c. Plot the bargraph using plot()"
   ]
  },
  {
   "cell_type": "code",
   "execution_count": 9,
   "id": "3ef98a88",
   "metadata": {},
   "outputs": [
    {
     "data": {
      "text/plain": [
       "<AxesSubplot:>"
      ]
     },
     "execution_count": 9,
     "metadata": {},
     "output_type": "execute_result"
    },
    {
     "data": {
      "image/png": "[encoded data removed]",
      "text/plain": [
       "<Figure size 432x288 with 1 Axes>"
      ]
     },
     "metadata": {
      "needs_background": "light"
     },
     "output_type": "display_data"
    }
   ],
   "source": [
    "## Plot the graph of top 20 restaurant chains with maximum restaurant outlets\n",
    "popular = df[['DBA','RESTAURANT']].dropna(how='any').drop_duplicates()['DBA'].value_counts()\n",
    "popular[:20].plot(kind='bar')"
   ]
  },
  {
   "cell_type": "code",
   "execution_count": null,
   "id": "f9db4783",
   "metadata": {},
   "outputs": [],
   "source": []
  },
  {
   "cell_type": "markdown",
   "id": "c0c8a75f",
   "metadata": {},
   "source": [
    "### [Q5, 6 points] What fraction of all restaurants are chain restaurants? \n",
    "You should think of a restaurant as being one restaurant at one\n",
    "location. So “Wendy’s 5th Street” and “Wendy’s on 10th Street” are two\n",
    "different restaurants. Essentially a restaurant is what you defined in Q1."
   ]
  },
  {
   "cell_type": "markdown",
   "id": "e3c214db",
   "metadata": {},
   "source": [
    "<b> Solution:</b> <br> a. Create a dataframe by dropping duplicate restaurant values <br> b. Create a function to check if the DBA value is one of the chain restaurants using apply() and assign to a mask <br> c. Calculate the number of restaurants part of a chain and divide it by the total restaurants"
   ]
  },
  {
   "cell_type": "code",
   "execution_count": 10,
   "id": "df612fc4",
   "metadata": {},
   "outputs": [
    {
     "data": {
      "text/plain": [
       "10114"
      ]
     },
     "execution_count": 10,
     "metadata": {},
     "output_type": "execute_result"
    }
   ],
   "source": [
    "restaurants"
   ]
  },
  {
   "cell_type": "code",
   "execution_count": 11,
   "id": "b5f0f8df",
   "metadata": {},
   "outputs": [
    {
     "data": {
      "text/html": [
       "<div>\n",
       "<style scoped>\n",
       "    .dataframe tbody tr th:only-of-type {\n",
       "        vertical-align: middle;\n",
       "    }\n",
       "\n",
       "    .dataframe tbody tr th {\n",
       "        vertical-align: top;\n",
       "    }\n",
       "\n",
       "    .dataframe thead th {\n",
       "        text-align: right;\n",
       "    }\n",
       "</style>\n",
       "<table border=\"1\" class=\"dataframe\">\n",
       "  <thead>\n",
       "    <tr style=\"text-align: right;\">\n",
       "      <th></th>\n",
       "      <th>Unnamed: 0</th>\n",
       "      <th>CAMIS</th>\n",
       "      <th>DBA</th>\n",
       "      <th>BORO</th>\n",
       "      <th>BUILDING</th>\n",
       "      <th>STREET</th>\n",
       "      <th>ZIPCODE</th>\n",
       "      <th>PHONE</th>\n",
       "      <th>CUISINE DESCRIPTION</th>\n",
       "      <th>INSPECTION DATE</th>\n",
       "      <th>ACTION</th>\n",
       "      <th>VIOLATION CODE</th>\n",
       "      <th>VIOLATION DESCRIPTION</th>\n",
       "      <th>CRITICAL FLAG</th>\n",
       "      <th>SCORE</th>\n",
       "      <th>GRADE</th>\n",
       "      <th>GRADE DATE</th>\n",
       "      <th>RECORD DATE</th>\n",
       "      <th>INSPECTION TYPE</th>\n",
       "      <th>RESTAURANT</th>\n",
       "    </tr>\n",
       "  </thead>\n",
       "  <tbody>\n",
       "    <tr>\n",
       "      <th>0</th>\n",
       "      <td>0</td>\n",
       "      <td>30112340</td>\n",
       "      <td>WENDY'S</td>\n",
       "      <td>BROOKLYN</td>\n",
       "      <td>469</td>\n",
       "      <td>FLATBUSH AVENUE</td>\n",
       "      <td>11225</td>\n",
       "      <td>7182875005</td>\n",
       "      <td>Hamburgers</td>\n",
       "      <td>12/30/2014</td>\n",
       "      <td>Violations were cited in the following area(s).</td>\n",
       "      <td>06C</td>\n",
       "      <td>Food not protected from potential source of co...</td>\n",
       "      <td>Critical</td>\n",
       "      <td>8</td>\n",
       "      <td>A</td>\n",
       "      <td>12/30/2014</td>\n",
       "      <td>02/12/2015</td>\n",
       "      <td>Cycle Inspection / Re-inspection</td>\n",
       "      <td>WENDY'S 469 FLATBUSH AVENUE 11225 BROOKLYN</td>\n",
       "    </tr>\n",
       "    <tr>\n",
       "      <th>5</th>\n",
       "      <td>5</td>\n",
       "      <td>40356068</td>\n",
       "      <td>TOV KOSHER KITCHEN</td>\n",
       "      <td>QUEENS</td>\n",
       "      <td>97-22</td>\n",
       "      <td>63 ROAD</td>\n",
       "      <td>11374</td>\n",
       "      <td>7188967788</td>\n",
       "      <td>Jewish/Kosher</td>\n",
       "      <td>11/24/2014</td>\n",
       "      <td>Violations were cited in the following area(s).</td>\n",
       "      <td>02B</td>\n",
       "      <td>Hot food item not held at or above 140º F.</td>\n",
       "      <td>Critical</td>\n",
       "      <td>20</td>\n",
       "      <td>Z</td>\n",
       "      <td>11/24/2014</td>\n",
       "      <td>02/12/2015</td>\n",
       "      <td>Cycle Inspection / Re-inspection</td>\n",
       "      <td>TOV KOSHER KITCHEN 97-22 63 ROAD 11374 QUEENS</td>\n",
       "    </tr>\n",
       "  </tbody>\n",
       "</table>\n",
       "</div>"
      ],
      "text/plain": [
       "  Unnamed: 0     CAMIS                 DBA      BORO BUILDING  \\\n",
       "0          0  30112340             WENDY'S  BROOKLYN      469   \n",
       "5          5  40356068  TOV KOSHER KITCHEN    QUEENS    97-22   \n",
       "\n",
       "            STREET ZIPCODE       PHONE CUISINE DESCRIPTION INSPECTION DATE  \\\n",
       "0  FLATBUSH AVENUE   11225  7182875005          Hamburgers      12/30/2014   \n",
       "5          63 ROAD   11374  7188967788       Jewish/Kosher      11/24/2014   \n",
       "\n",
       "                                            ACTION VIOLATION CODE  \\\n",
       "0  Violations were cited in the following area(s).            06C   \n",
       "5  Violations were cited in the following area(s).            02B   \n",
       "\n",
       "                               VIOLATION DESCRIPTION CRITICAL FLAG SCORE  \\\n",
       "0  Food not protected from potential source of co...      Critical     8   \n",
       "5         Hot food item not held at or above 140º F.      Critical    20   \n",
       "\n",
       "  GRADE  GRADE DATE RECORD DATE                   INSPECTION TYPE  \\\n",
       "0     A  12/30/2014  02/12/2015  Cycle Inspection / Re-inspection   \n",
       "5     Z  11/24/2014  02/12/2015  Cycle Inspection / Re-inspection   \n",
       "\n",
       "                                      RESTAURANT  \n",
       "0     WENDY'S 469 FLATBUSH AVENUE 11225 BROOKLYN  \n",
       "5  TOV KOSHER KITCHEN 97-22 63 ROAD 11374 QUEENS  "
      ]
     },
     "execution_count": 11,
     "metadata": {},
     "output_type": "execute_result"
    }
   ],
   "source": [
    "## Create a dataframe of unique restaurants\n",
    "unique_restaurants_df = df.drop_duplicates(subset=['RESTAURANT'])\n",
    "unique_restaurants_df.head(2)"
   ]
  },
  {
   "cell_type": "code",
   "execution_count": 12,
   "id": "369705d6",
   "metadata": {},
   "outputs": [
    {
     "data": {
      "text/plain": [
       "array(['SUBWAY', \"MCDONALD'S\", 'STARBUCKS COFFEE', \"DUNKIN' DONUTS\",\n",
       "       'DUNKIN DONUTS', 'KENNEDY FRIED CHICKEN', 'BURGER KING',\n",
       "       'CROWN FRIED CHICKEN', \"DUNKIN' DONUTS, BASKIN ROBBINS\",\n",
       "       \"DOMINO'S PIZZA\", 'CHIPOTLE MEXICAN GRILL',\n",
       "       'GOLDEN KRUST CARIBBEAN BAKERY & GRILL', 'LITTLE CAESARS',\n",
       "       'POPEYES CHICKEN & BISCUITS', 'AU BON PAIN', 'KFC',\n",
       "       'PRET A MANGER', 'CARVEL ICE CREAM', \"WENDY'S\", 'PRONTO PIZZA',\n",
       "       'CHECKERS', 'HALE & HEARTY SOUPS', 'BLIMPIE', 'LE PAIN QUOTIDIEN',\n",
       "       \"PAPA JOHN'S\", 'PANERA BREAD', 'DUNKIN DONUTS/BASKIN ROBBINS',\n",
       "       'KENTUCKY FRIED CHICKEN', 'DUNKIN DONUTS & BASKIN ROBBINS',\n",
       "       '2 BROS PIZZA', 'EUROPA CAFE', 'TBAAR', 'TACO BELL',\n",
       "       'WHITE CASTLE', 'FIVE GUYS BURGERS AND FRIES', 'Dunkin Donuts',\n",
       "       'JUST SALAD', 'BOSTON MARKET', 'MCDONALDS', 'GOLDEN KRUST',\n",
       "       'CAFFE BENE', 'CRUMBS BAKE SHOP', 'PLANET WINGS', 'FIKA', 'SPICE',\n",
       "       'CHINA KING', 'FAY DA BAKERY', 'IHOP',\n",
       "       \"DUNKIN' DONUTS/BASKIN ROBBINS\", \"XI'AN FAMOUS FOODS\", 'Subway',\n",
       "       'NO. 1 CHINESE RESTAURANT', 'JAMBA JUICE', 'KUNG FU TEA',\n",
       "       'DUNKIN DONUTS BASKIN ROBBINS', \"JIMBO'S HAMBURGER PALACE\",\n",
       "       'CROWN FRIED CHICKEN & PIZZA', 'PITA GRILL', 'SBARRO', 'CARVEL',\n",
       "       'COLD STONE CREAMERY', 'CHIRPING CHICKEN', 'FRESH & CO',\n",
       "       \"APPLEBEE'S NEIGHBORHOOD GRILL & BAR\", 'HONG KONG KITCHEN',\n",
       "       'Starbucks Coffee', 'FAMOUS FAMIGLIA PIZZA',\n",
       "       'POTBELLY SANDWICH SHOP', 'POPEYES', 'AROMA ESPRESSO BAR',\n",
       "       'KING WOK', 'MAISON KAYSER', 'CHINA WOK', 'SZECHUAN GOURMET',\n",
       "       \"LENNY'S\", 'VIVI BUBBLE TEA', 'COFFEE SHOP', 'BAREBURGER',\n",
       "       'FINANCIER PATISSERIE', 'PINKBERRY', 'DIG INN SEASONAL MARKET',\n",
       "       'NYONYA', 'GREAT WALL RESTAURANT', \"CHUCK E CHEESE'S\",\n",
       "       '16 HANDLES', 'NEW YORK FRIED CHICKEN', 'WESTVILLE', 'WICHCRAFT',\n",
       "       \"AMY'S BREAD\", 'STARBUCKS', 'LITTLE ITALY PIZZA',\n",
       "       'CHEEBURGER CHEEBURGER', 'PAPA JOHNS PIZZA',\n",
       "       'GOOD TASTE RESTAURANT', 'INSOMNIA COOKIES', 'RED MANGO',\n",
       "       'THE BEAN', 'CALEXICO', 'BARNES & NOBLE CAFE',\n",
       "       'CHINESE FRIED CHICKEN', 'KUMO SUSHI', 'LA SABROSURA',\n",
       "       'OXFORD CAFE', 'MR. WONTON', \"ABITINO'S PIZZA\", \"GINO'S PIZZA\",\n",
       "       \"JOE'S PIZZA\", 'SOOM SOOM', 'ELIXIR', 'EUROPAN CAFE',\n",
       "       'NATIONAL BAKERY', 'BELLA PIZZA', 'BED-STUY FISH FRY',\n",
       "       'HEARTLAND BREWERY', \"SHORTY'S\", 'EL VALLE RESTAURANT', 'BOCCA',\n",
       "       'PICCOLO CAFE', 'THE KATI ROLL COMPANY', 'ZAYTOONS RESTAURANT',\n",
       "       'PHO BANG RESTAURANT', 'PETITE ABEILLE', \"CHOP'T\", 'RETRO FITNESS',\n",
       "       \"PAPA JOHN'S PIZZA\", 'KING GARDEN', 'JACKSON HOLE',\n",
       "       \"BOBBY VAN'S GRILL\", \"T.G.I. FRIDAY'S\", 'BREAD & BUTTER',\n",
       "       'THE COFFEE BEAN & TEA LEAF', \"TONY'S PIZZA\",\n",
       "       'GREAT WALL CHINESE RESTAURANT', 'TASTE OF CHINA',\n",
       "       'PERKINS FAMILY RESTAURANT & BAKERY', 'DON ALEX RESTAURANT',\n",
       "       \"AUNTIE ANNE'S PRETZELS\", 'LA BAGEL DELIGHT', 'TOASTIES',\n",
       "       'CONNECTICUT MUFFIN', 'PIZZA HUT', 'HOT BAGELS', 'PAPAYA DOG',\n",
       "       'TOLOACHE', 'JOY CURRY & TANDOOR', \"TONY'S PIZZERIA & RESTAURANT\",\n",
       "       'TAVERNA KYCLADES', 'GYRO CAFE', 'VIVE LA CREPE', \"NINO'S PIZZA\",\n",
       "       'ASIAN KITCHEN', 'PATMAR BAKE SHOP', 'GOLDEN DRAGON RESTAURANT',\n",
       "       'PICK A BAGEL', 'PARIS BAGUETTE', \"KENNEDY'S CHICKEN & SANDWICHES\",\n",
       "       'CREATIVE JUICE', 'NO.1 KITCHEN', 'BRICKLANE CURRY HOUSE',\n",
       "       'NEW GREAT WALL RESTAURANT', 'POSH TOMATO', 'CREDIT SUISSE',\n",
       "       'AMAZE', 'HAPPY WOK', \"TONY ROMA'S\", 'FALAFEL OFF THE CORNER',\n",
       "       'BAGEL EXPRESS', 'GREAT WALL KITCHEN', 'KFC/TACO BELL', 'OBAO',\n",
       "       'NEW GARDEN CHINESE RESTAURANT', 'MITOUSHI SUSHI',\n",
       "       \"MIKE'S COFFEE SHOP\", \"MARIO'S PIZZERIA\", 'MAX RESTAURANT',\n",
       "       'CAFE REGULAR', 'MERCURY BAR', 'TOUS LES JOURS', 'KONDITORI',\n",
       "       'JUICE PRESS', 'VILLAGE POURHOUSE', 'CAFE GRUMPY', 'SNACK BAR',\n",
       "       'ESSEN', 'PILAR CUBAN EATERY', \"MOE'S CAFE\", 'MOMO SUSHI',\n",
       "       'UDON WEST', 'VERONA PIZZA', 'FOOTPRINTS CAFE',\n",
       "       'POLLOS A LA BRASA MARIO', 'NEW TASTE OF CHINA', 'PICCOLA CUCINA',\n",
       "       'BOCCA DI BACCO', \"BURGER KING, POPEYE'S CHICKEN & BISCUITS\",\n",
       "       'LAS AMERICAS BAKERY', 'PIZZA EXPRESS', 'EAST BUFFET & RESTAURANT',\n",
       "       'FORTUNE COOKIES', \"JACK'S STIR BREW COFFEE\", \"P.J. CLARKE'S\",\n",
       "       'OCEAN CHINESE RESTAURANT', 'DALLAS BBQ', 'ROSE PIZZA',\n",
       "       'GREAT WALL', 'TABLE 87', 'WILLIAMSBURG PIZZA', 'THE BAGEL STORE',\n",
       "       'CHINA DRAGON', 'YUMMY SUSHI', \"JOE'S SHANGHAI RESTAURANT\",\n",
       "       'PANDA CHINESE RESTAURANT', 'SAN LOCO', 'JOY BURGER BAR',\n",
       "       'DOS TOROS TAQUERIA', 'PANDA HOUSE', 'BBQ VILLAGE',\n",
       "       'NEW LUCKY GARDEN', 'NEW PANDA RESTAURANT', 'TWIN DONUT',\n",
       "       'GLAZE TERIYAKI GRILL', 'HANA SUSHI', 'NEW YUMMY TACO', 'AMBER',\n",
       "       'TWO BOOTS PIZZERIA', 'VENICE PIZZA', 'EL NUEVO BOHIO RESTAURANT',\n",
       "       'CASCABEL TAQUERIA', \"JOE'S CRAB SHACK\", 'LIQUITERIA',\n",
       "       \"ANGELO'S PIZZA\", \"ROSA'S PIZZA\", 'KENNEDY FRIED CHICKEN & PIZZA',\n",
       "       'CUCINA BENE PIZZERIA', 'NO 1 CHINESE RESTAURANT', 'MELT SHOP',\n",
       "       'NUMERO 28 PIZZERIA', 'HARU', \"NATHAN'S\", 'EL PATIO',\n",
       "       'JUICE GENERATION', 'KING HOUSE', 'ENERGY FUEL', \"PHOEBE'S\",\n",
       "       \"SAM'S RESTAURANT\", 'SIPS & BITES', 'BOULEVARD TAVERN',\n",
       "       'CHINA DELIGHT', 'DJERDAN', 'GRAND SICHUAN', 'BROADWAY BAKERY',\n",
       "       'GRULLON BAKERY', 'PITA PAN', 'MOONCAKE FOODS', 'PASTELES CAPY',\n",
       "       'CORNER BISTRO', \"GREGORY'S COFFEE\", 'CHIMU',\n",
       "       'TASTY DELICIOUS WEST INDIAN BAKERY & RESTAURANT', 'TEAFFEE',\n",
       "       'EMPIRE CHINESE RESTAURANT', 'HAPPY GARDEN', 'TASTI D-LITE',\n",
       "       \"S'MAC\", 'STAR MOUNTAIN COFFEE', 'DEE DAA', 'PIO PIO',\n",
       "       'SANTOS RESTAURANT', 'EASTERN CHINESE RESTAURANT', \"LENNY'S PIZZA\",\n",
       "       'POTBELLY SANDWICH WORKS', 'TASTY FAST FOOD', 'SUBSATIONAL',\n",
       "       'PIZZA BOSS', 'TRINI DELITE ROTI SHOP', 'PEKING KITCHEN',\n",
       "       'NEW GOLDEN STAR RESTAURANT', \"MONTE'S\", 'KINGSTON PIZZA',\n",
       "       'CAFE FRESCO', 'ARGO TEA CAFE', \"ARTICHOKE BASILLE'S PIZZA & BAR\",\n",
       "       'MY PIZZA', 'WRAPIDO', 'Pinkberry', \"TINA'S RESTAURANT\",\n",
       "       'GREEN CAFE', 'M & W BAKERY', 'PALACE CAFE', 'NEW ASIAN CUISINE',\n",
       "       \"MIKE'S PLACE\", 'JO JO PIZZA', 'KROLEWSKIE JADLO', 'BAR VELOCE',\n",
       "       'NINTH STREET ESPRESSO', 'FUEL', 'COSI', 'BLAKE & TODD',\n",
       "       \"CHEN'S KITCHEN\", 'FRESH TACO', 'PIZZA PLUS', 'EL POLLO INKA PERU',\n",
       "       'TRES CARNES', 'COFFEE BEAN TEA & LEAF', \"FISHERMAN'S COVE\",\n",
       "       'BLOSSOM DU JOUR', 'OLYMPIC PITA', 'THE POUR HOUSE',\n",
       "       'NEW GARDEN RESTAURANT', 'CIBAO RESTAURANT', 'CANTINA',\n",
       "       'BARNES & NOBLE BOOKSELLERS', 'COUNTRY DONUTS', 'MACARON PARLOUR',\n",
       "       'GOTHAM PIZZA', 'EL DORADO RESTAURANT', 'CAFE METRO',\n",
       "       'KAIETEUR RESTAURANT', \"MARIO'S PIZZA\", \"SOPHIE'S RESTAURANT\",\n",
       "       'WONTON NOODLE GARDEN', 'BELLA NAPOLI', \"AUNTIE ANNE'S\",\n",
       "       'BELLEROSE FAMOUS PIZZA', 'JAMAICAN FLAVORS', 'NAPOLI PIZZA',\n",
       "       'VARIETY CAFE', 'LUCAS PIZZERIA', \"VEYTA'S BAKERY CAFE\",\n",
       "       'FORTY CARROTS', 'LUCKY STAR RESTAURANT', 'UNO CHICAGO GRILL',\n",
       "       'L.A. BURRITO', 'CUBANA CAFE', \"LUIGI'S PIZZA\",\n",
       "       \"MARTHA'S COUNTRY BAKERY\", \"ALFONSO'S PASTRY SHOPPE\", \"COPPOLA'S\",\n",
       "       'SWEET MANGO', 'GO GO CURRY', 'CHATIME', 'GINGER', 'LA BERGAMOTE',\n",
       "       'LA ABUNDANCIA', 'CAFFEBENE', 'FEEL FOOD', 'NANKING', 'CABANA',\n",
       "       'BISMILLAH KABAB & CURRY', 'VYBES KITCHEN', 'Fire Grilled Burgers',\n",
       "       'CLASSIC PIZZA & RESTAURANT', 'WAFELS & DINGES',\n",
       "       'RED STAR CHINESE RESTAURANT',\n",
       "       'SILVER KRUST WEST INDIAN RESTAURANT', 'FIVE GUYS BURGERS & FRIES',\n",
       "       'DINING ROOM', 'AWASH ETHIOPIAN RESTAURANT',\n",
       "       \"POPEYE'S CHICKEN & BISCUITS\", 'JUAN VALDEZ CAFE', 'Gong Cha',\n",
       "       'BRAVO PIZZA', 'ZABB ELEE', 'CHINA ONE RESTAURANT',\n",
       "       'THE MEATBALL SHOP', \"Domino's Pizza\", 'FUSHA',\n",
       "       'RISPOLI PASTRY SHOP'], dtype=object)"
      ]
     },
     "execution_count": 12,
     "metadata": {},
     "output_type": "execute_result"
    }
   ],
   "source": [
    "rest_in_chains = df[['DBA','RESTAURANT']].dropna(how='any').drop_duplicates()['DBA'].value_counts()>=2\n",
    "rest_in_chains[rest_in_chains].index.values"
   ]
  },
  {
   "cell_type": "code",
   "execution_count": 13,
   "id": "dedec117",
   "metadata": {},
   "outputs": [],
   "source": [
    "def f(string):\n",
    "    '''\n",
    "    A function to check if the DBA value is one of the chain restaurants\n",
    "    \n",
    "    Parameters: \n",
    "    string (str): A string with name of restaurant\n",
    "    \n",
    "    Returns:\n",
    "    True if 'DBA' is one of the restaurant names in chain restaurants\n",
    "    False, otherwise\n",
    "    '''\n",
    "    \n",
    "    if string in rest_in_chains[rest_in_chains].index.values:\n",
    "        return True\n",
    "    else:\n",
    "        return False\n",
    "\n",
    "mask = unique_restaurants_df['DBA'].map(f)"
   ]
  },
  {
   "cell_type": "code",
   "execution_count": 14,
   "id": "89a6d0ba",
   "metadata": {},
   "outputs": [
    {
     "data": {
      "text/plain": [
       "0         True\n",
       "5        False\n",
       "9        False\n",
       "16       False\n",
       "22       False\n",
       "         ...  \n",
       "44621    False\n",
       "44622    False\n",
       "44627    False\n",
       "44628    False\n",
       "44629    False\n",
       "Name: DBA, Length: 10114, dtype: bool"
      ]
     },
     "execution_count": 14,
     "metadata": {},
     "output_type": "execute_result"
    }
   ],
   "source": [
    "mask"
   ]
  },
  {
   "cell_type": "code",
   "execution_count": 15,
   "id": "bf6e8e60",
   "metadata": {},
   "outputs": [
    {
     "name": "stdout",
     "output_type": "stream",
     "text": [
      "Total number of restaurants belonging to chains: 1666\n"
     ]
    }
   ],
   "source": [
    "## Calculate the number of restaurants part of chain restaurants\n",
    "restaurants_in_chain = mask.value_counts()[True]\n",
    "print(f'Total number of restaurants belonging to chains: {restaurants_in_chain}')"
   ]
  },
  {
   "cell_type": "code",
   "execution_count": 16,
   "id": "a17cdaa5",
   "metadata": {},
   "outputs": [
    {
     "name": "stdout",
     "output_type": "stream",
     "text": [
      "Fraction of restaurants belonging to chains: 0.16472216729286138\n"
     ]
    }
   ],
   "source": [
    "print(f'Fraction of restaurants belonging to chains: {restaurants_in_chain  / restaurants}')"
   ]
  },
  {
   "cell_type": "code",
   "execution_count": null,
   "id": "3b476091",
   "metadata": {},
   "outputs": [],
   "source": []
  },
  {
   "cell_type": "markdown",
   "id": "7ae0cb87",
   "metadata": {},
   "source": [
    "### [Q6, 6 points] Plot the number of non-chain restaurants in each boro. \n",
    "First, we need to figure out all the non-chain restaurants, then select\n",
    "out only those restaurants, and finally plot the number of such restaurants\n",
    "by boro. Make sure to look at the plot; we don’t want to see... oh... the\n",
    "“missing” boro."
   ]
  },
  {
   "cell_type": "markdown",
   "id": "2d651644",
   "metadata": {},
   "source": [
    "<b> Solution: </b> <br> a. Use the mask of the previous question to count the number of False values, giving the number of restaurants not part of chains <br> b. Use value_counts() to count the number of non-chain restaurants in each borough and plot the values, except 'Missing'"
   ]
  },
  {
   "cell_type": "code",
   "execution_count": 17,
   "id": "7cfbcad7",
   "metadata": {},
   "outputs": [
    {
     "name": "stdout",
     "output_type": "stream",
     "text": [
      "Total number of restaurants not belonging to chains: 8448\n"
     ]
    }
   ],
   "source": [
    "## Calculate the number of restaurants not part of chain restaurants\n",
    "restaurants_not_in_chain = mask.value_counts()[False]\n",
    "print(f'Total number of restaurants not belonging to chains: {restaurants_not_in_chain}')"
   ]
  },
  {
   "cell_type": "code",
   "execution_count": 18,
   "id": "4cd17eff",
   "metadata": {},
   "outputs": [
    {
     "data": {
      "text/plain": [
       "MANHATTAN        3323\n",
       "BROOKLYN         2180\n",
       "QUEENS           1968\n",
       "BRONX             659\n",
       "STATEN ISLAND     312\n",
       "Missing             6\n",
       "Name: BORO, dtype: int64"
      ]
     },
     "execution_count": 18,
     "metadata": {},
     "output_type": "execute_result"
    }
   ],
   "source": [
    "## Count the number of non-chain restaurants in each borough\n",
    "non_chain_rest = unique_restaurants_df[~mask]['BORO'].dropna(how='any').value_counts()\n",
    "non_chain_rest"
   ]
  },
  {
   "cell_type": "code",
   "execution_count": 19,
   "id": "501c546e",
   "metadata": {},
   "outputs": [
    {
     "data": {
      "text/plain": [
       "<AxesSubplot:>"
      ]
     },
     "execution_count": 19,
     "metadata": {},
     "output_type": "execute_result"
    },
    {
     "data": {
      "image/png": "[encoded data removed]",
      "text/plain": [
       "<Figure size 432x288 with 1 Axes>"
      ]
     },
     "metadata": {
      "needs_background": "light"
     },
     "output_type": "display_data"
    }
   ],
   "source": [
    "## Plot only top 5 boroughs, thus excluding 'Missing', and the corresponding non-chain restaurant counts for these boroughs\n",
    "non_chain_rest[:5].plot(kind='bar')"
   ]
  },
  {
   "cell_type": "code",
   "execution_count": null,
   "id": "9b0c1759",
   "metadata": {},
   "outputs": [],
   "source": []
  },
  {
   "cell_type": "markdown",
   "id": "e46835c2",
   "metadata": {},
   "source": [
    "### [Q7, 8 points] Plot the fraction of non-chain restaurants in each boro. \n",
    "The boro with the most non-chain restaurants might just be the\n",
    "boro with the most restaurants in general. \n",
    "<br> If we want to find the boro that\n",
    "attracts the most “independent” restauranteurs, we must divide the number\n",
    "of non-chain restaurants by the total number of restaurants in the boro. Plot\n",
    "this.<br>\n",
    "Is the boro with the most independent restaurants also the one with the\n",
    "highest ratio of independent restaurants?"
   ]
  },
  {
   "cell_type": "markdown",
   "id": "2ada7253",
   "metadata": {},
   "source": [
    "<b> Solution: </b><br> a. Use value_counts() to count the number of restaurants in each borough <br> b. Calculate fraction of non-chain restaurants to total restaurants in each borough and plot the values, except 'Missing'<br><br> <b>INFERENCE:</b><br> The absolute number of non-chain restaurants in Manhattan is highest with 3323 independent restaurants, however, the highest ratio of non-chain restaurants is in Brooklyn with a value of 0.862 and Manhattan has the third highest ratio of 0.83"
   ]
  },
  {
   "cell_type": "code",
   "execution_count": 20,
   "id": "77656d7f",
   "metadata": {},
   "outputs": [
    {
     "data": {
      "text/plain": [
       "MANHATTAN        4001\n",
       "BROOKLYN         2529\n",
       "QUEENS           2321\n",
       "BRONX             855\n",
       "STATEN ISLAND     394\n",
       "Missing            14\n",
       "Name: BORO, dtype: int64"
      ]
     },
     "execution_count": 20,
     "metadata": {},
     "output_type": "execute_result"
    }
   ],
   "source": [
    "## Calculate the total number of restaurants in each borough\n",
    "total_rest = unique_restaurants_df['BORO'].dropna(how='any').value_counts()\n",
    "total_rest"
   ]
  },
  {
   "cell_type": "code",
   "execution_count": 21,
   "id": "f954efa7",
   "metadata": {},
   "outputs": [
    {
     "data": {
      "text/plain": [
       "MANHATTAN        0.830542\n",
       "BROOKLYN         0.862001\n",
       "QUEENS           0.847910\n",
       "BRONX            0.770760\n",
       "STATEN ISLAND    0.791878\n",
       "Missing          0.428571\n",
       "Name: BORO, dtype: float64"
      ]
     },
     "execution_count": 21,
     "metadata": {},
     "output_type": "execute_result"
    }
   ],
   "source": [
    "## Calculate the fraction of non-chain restaurants to total restaurants in each borough\n",
    "frac_non_chain = non_chain_rest/total_rest\n",
    "frac_non_chain"
   ]
  },
  {
   "cell_type": "code",
   "execution_count": 22,
   "id": "1ff86298",
   "metadata": {},
   "outputs": [
    {
     "data": {
      "text/plain": [
       "<AxesSubplot:>"
      ]
     },
     "execution_count": 22,
     "metadata": {},
     "output_type": "execute_result"
    },
    {
     "data": {
      "image/png": "[encoded data removed]",
      "text/plain": [
       "<Figure size 432x288 with 1 Axes>"
      ]
     },
     "metadata": {
      "needs_background": "light"
     },
     "output_type": "display_data"
    }
   ],
   "source": [
    "## Plot the fraction of non-chain restaurants in all boroughs, except 'Missing'\n",
    "frac_non_chain[:5].plot(kind='bar')"
   ]
  },
  {
   "cell_type": "markdown",
   "id": "2e6e339c",
   "metadata": {},
   "source": [
    "### [Q8, 6 points] Plot the popularity of cuisines. \n",
    "Which cuisines are\n",
    "the most well-represented among all restaurants? Define the popularity of a\n",
    "cuisine as the number of restaurants serving that cuisine. <br> Plot the popularity\n",
    "of the top 20 cuisines.\n"
   ]
  },
  {
   "cell_type": "markdown",
   "id": "4d6a73ea",
   "metadata": {},
   "source": [
    "<b>Solution:</b><br> a. Use the unique_restaurants_df dataframe and value_counts() to calculate the number of unique restaurants serving a particular cuisine <br> b. Plot the top 20 cuisines"
   ]
  },
  {
   "cell_type": "code",
   "execution_count": 23,
   "id": "daa4e0ec",
   "metadata": {},
   "outputs": [
    {
     "data": {
      "text/plain": [
       "American              2238\n",
       "Chinese               1098\n",
       "Café/Coffee/Tea        498\n",
       "Pizza                  482\n",
       "Italian                451\n",
       "                      ... \n",
       "Nuts/Confectionary       2\n",
       "Scandinavian             2\n",
       "Californian              1\n",
       "Hawaiian                 1\n",
       "Iranian                  1\n",
       "Name: CUISINE DESCRIPTION, Length: 79, dtype: int64"
      ]
     },
     "execution_count": 23,
     "metadata": {},
     "output_type": "execute_result"
    }
   ],
   "source": [
    "## Identify the popular cuisines in NYC\n",
    "popular_cuisines = unique_restaurants_df['CUISINE DESCRIPTION'].value_counts()\n",
    "popular_cuisines"
   ]
  },
  {
   "cell_type": "code",
   "execution_count": 24,
   "id": "571702a9",
   "metadata": {},
   "outputs": [
    {
     "data": {
      "text/plain": [
       "<AxesSubplot:>"
      ]
     },
     "execution_count": 24,
     "metadata": {},
     "output_type": "execute_result"
    },
    {
     "data": {
      "image/png": "[encoded data removed]",
      "text/plain": [
       "<Figure size 432x288 with 1 Axes>"
      ]
     },
     "metadata": {
      "needs_background": "light"
     },
     "output_type": "display_data"
    }
   ],
   "source": [
    "## Plot the top 20 popular cuisines\n",
    "popular_cuisines[:20].plot(kind='bar')"
   ]
  },
  {
   "cell_type": "code",
   "execution_count": null,
   "id": "3407b6ba",
   "metadata": {},
   "outputs": [],
   "source": []
  },
  {
   "cell_type": "markdown",
   "id": "205d50a8",
   "metadata": {},
   "source": [
    "### [Q9, 9 points] Plot the cuisines among restaurants which never gotcited for violations. \n",
    "Ideally, you should explore and see what happens\n",
    "when there is no violation, but here I will just tell you: the ’VIOLATION\n",
    "CODE’ field is missing.<br>\n",
    "First, find the restaurants that were never cited for a code violation. The\n",
    "compute the popularity of each cuisine among these “clean” restaurants. <br>Plot\n",
    "the popularity of the top-20 among these cuisines."
   ]
  },
  {
   "cell_type": "markdown",
   "id": "b8302817",
   "metadata": {},
   "source": [
    "<b>Solution:</b><br> a. Identify all the restaurants that have had atleast one violation by using pd.notnull() and unique()<br>b. Using mask and map(), define a function to indentify restaurant names that are not in the array of violated restaurants<br>c. Calculate the count of cuisines for these clean restaurants and plot the top 20 cuisines"
   ]
  },
  {
   "cell_type": "code",
   "execution_count": 25,
   "id": "08b97a7a",
   "metadata": {},
   "outputs": [
    {
     "name": "stdout",
     "output_type": "stream",
     "text": [
      "Restaurants with atleast one violation: 9873\n"
     ]
    }
   ],
   "source": [
    "## Identify all restaurants that have atleast one violation\n",
    "violation_rest = df[pd.notnull(df['VIOLATION CODE'])]['RESTAURANT'].unique()\n",
    "print(f'Restaurants with atleast one violation: {len(violation_rest)}')"
   ]
  },
  {
   "cell_type": "code",
   "execution_count": 26,
   "id": "c5519333",
   "metadata": {},
   "outputs": [],
   "source": [
    "def f(string):\n",
    "    '''\n",
    "    A function to identify restaurants that have never violated\n",
    "    \n",
    "    Parameters:\n",
    "    string (str): Restaurant value\n",
    "    \n",
    "    Returns:\n",
    "    False, if the string is part of the violated restaurants array\n",
    "    True, if the string is not a part of the violated restaurants array\n",
    "    '''\n",
    "    \n",
    "    if string in violation_rest:\n",
    "        return False\n",
    "    else:\n",
    "        return True\n",
    "\n",
    "mask = df['RESTAURANT'].map(f)"
   ]
  },
  {
   "cell_type": "code",
   "execution_count": 27,
   "id": "2a923df3",
   "metadata": {},
   "outputs": [
    {
     "name": "stdout",
     "output_type": "stream",
     "text": [
      "The total number of clean restaurants: 241\n"
     ]
    }
   ],
   "source": [
    "clean_rest = df[mask].drop_duplicates('RESTAURANT')\n",
    "print(f'The total number of clean restaurants: {len(clean_rest)}')"
   ]
  },
  {
   "cell_type": "code",
   "execution_count": 28,
   "id": "b5be0eba",
   "metadata": {},
   "outputs": [
    {
     "data": {
      "text/plain": [
       "American                                                            49\n",
       "Chinese                                                             42\n",
       "Café/Coffee/Tea                                                     14\n",
       "Pizza                                                               11\n",
       "Italian                                                             10\n",
       "Latin (Cuban, Dominican, Puerto Rican, South & Central American)    10\n",
       "Spanish                                                              8\n",
       "Japanese                                                             8\n",
       "Bakery                                                               7\n",
       "Other                                                                6\n",
       "Asian                                                                6\n",
       "Donuts                                                               5\n",
       "Delicatessen                                                         5\n",
       "French                                                               4\n",
       "Thai                                                                 4\n",
       "Sandwiches/Salads/Mixed Buffet                                       3\n",
       "Korean                                                               3\n",
       "Pizza/Italian                                                        3\n",
       "Hamburgers                                                           3\n",
       "Sandwiches                                                           3\n",
       "Mexican                                                              3\n",
       "Juice, Smoothies, Fruit Salads                                       2\n",
       "Tex-Mex                                                              2\n",
       "Bagels/Pretzels                                                      2\n",
       "Chicken                                                              2\n",
       "Irish                                                                2\n",
       "Caribbean                                                            2\n",
       "Vietnamese/Cambodian/Malaysia                                        2\n",
       "Greek                                                                2\n",
       "Indian                                                               2\n",
       "Soul Food                                                            2\n",
       "Soups & Sandwiches                                                   1\n",
       "Salads                                                               1\n",
       "Barbecue                                                             1\n",
       "Jewish/Kosher                                                        1\n",
       "Chinese/Japanese                                                     1\n",
       "Peruvian                                                             1\n",
       "Continental                                                          1\n",
       "Chinese/Cuban                                                        1\n",
       "Russian                                                              1\n",
       "Turkish                                                              1\n",
       "Creole                                                               1\n",
       "Afghan                                                               1\n",
       "Mediterranean                                                        1\n",
       "Middle Eastern                                                       1\n",
       "Name: CUISINE DESCRIPTION, dtype: int64"
      ]
     },
     "execution_count": 28,
     "metadata": {},
     "output_type": "execute_result"
    }
   ],
   "source": [
    "## Calculate the count of cuisines in only these clean restaurants\n",
    "clean_cuisines = clean_rest.drop_duplicates()['CUISINE DESCRIPTION'].value_counts()\n",
    "clean_cuisines"
   ]
  },
  {
   "cell_type": "code",
   "execution_count": 29,
   "id": "8b81ea90",
   "metadata": {},
   "outputs": [
    {
     "data": {
      "text/plain": [
       "<AxesSubplot:>"
      ]
     },
     "execution_count": 29,
     "metadata": {},
     "output_type": "execute_result"
    },
    {
     "data": {
      "image/png": "[encoded data removed]",
      "text/plain": [
       "<Figure size 432x288 with 1 Axes>"
      ]
     },
     "metadata": {
      "needs_background": "light"
     },
     "output_type": "display_data"
    }
   ],
   "source": [
    "## Plot top 20 most popular cuisines from clean restaurants\n",
    "clean_cuisines[:20].plot(kind='bar')"
   ]
  },
  {
   "cell_type": "code",
   "execution_count": null,
   "id": "bd81a9c2",
   "metadata": {},
   "outputs": [],
   "source": []
  },
  {
   "cell_type": "markdown",
   "id": "f23e8e9e",
   "metadata": {},
   "source": [
    "### [Q10, 6 points] What cuisines tend to be the “cleanest”?\n",
    "• Select all cuisines for which there were at least 20 restaurants representing that cuisine.<br>\n",
    "• For each such cuisine, compute the ratio of the counts in Q9 to Q8.<br>\n",
    "This is the ratio of restaurants that never got cited, versus total number\n",
    "of restaurants, for each cuisine.<br>\n",
    "• Find the top-10 cuisines with the highest ratios; these are that cuisines\n",
    "whose restaurants are “most likely to be clean.”"
   ]
  },
  {
   "cell_type": "markdown",
   "id": "6967e616",
   "metadata": {},
   "source": [
    "<b>Solution:</b><br>a. Use value_counts() to identify cuisines with more than 20 restaurants serving them<br>b. Calculate the ratio of clean restaurants serving the cuisine to total restaurants serving the cuisine<br>c. Sort the ratios in descending order and plot the top 10 cuisines"
   ]
  },
  {
   "cell_type": "code",
   "execution_count": 30,
   "id": "eee59bb7",
   "metadata": {},
   "outputs": [
    {
     "data": {
      "text/plain": [
       "American               True\n",
       "Chinese                True\n",
       "Café/Coffee/Tea        True\n",
       "Pizza                  True\n",
       "Italian                True\n",
       "                      ...  \n",
       "Nuts/Confectionary    False\n",
       "Scandinavian          False\n",
       "Californian           False\n",
       "Hawaiian              False\n",
       "Iranian               False\n",
       "Name: CUISINE DESCRIPTION, Length: 79, dtype: bool"
      ]
     },
     "execution_count": 30,
     "metadata": {},
     "output_type": "execute_result"
    }
   ],
   "source": [
    "## Identify cuisines with more than 20 restaurants serving them\n",
    "mask = unique_restaurants_df['CUISINE DESCRIPTION'].value_counts()>=20\n",
    "mask"
   ]
  },
  {
   "cell_type": "code",
   "execution_count": 31,
   "id": "4f80dfb7",
   "metadata": {},
   "outputs": [
    {
     "data": {
      "text/html": [
       "<div>\n",
       "<style scoped>\n",
       "    .dataframe tbody tr th:only-of-type {\n",
       "        vertical-align: middle;\n",
       "    }\n",
       "\n",
       "    .dataframe tbody tr th {\n",
       "        vertical-align: top;\n",
       "    }\n",
       "\n",
       "    .dataframe thead th {\n",
       "        text-align: right;\n",
       "    }\n",
       "</style>\n",
       "<table border=\"1\" class=\"dataframe\">\n",
       "  <thead>\n",
       "    <tr style=\"text-align: right;\">\n",
       "      <th></th>\n",
       "      <th>CUISINE DESCRIPTION</th>\n",
       "    </tr>\n",
       "  </thead>\n",
       "  <tbody>\n",
       "    <tr>\n",
       "      <th>Soul Food</th>\n",
       "      <td>0.090909</td>\n",
       "    </tr>\n",
       "    <tr>\n",
       "      <th>Vietnamese/Cambodian/Malaysia</th>\n",
       "      <td>0.062500</td>\n",
       "    </tr>\n",
       "    <tr>\n",
       "      <th>Other</th>\n",
       "      <td>0.058252</td>\n",
       "    </tr>\n",
       "    <tr>\n",
       "      <th>Soups &amp; Sandwiches</th>\n",
       "      <td>0.047619</td>\n",
       "    </tr>\n",
       "    <tr>\n",
       "      <th>Continental</th>\n",
       "      <td>0.047619</td>\n",
       "    </tr>\n",
       "    <tr>\n",
       "      <th>Barbecue</th>\n",
       "      <td>0.047619</td>\n",
       "    </tr>\n",
       "    <tr>\n",
       "      <th>Asian</th>\n",
       "      <td>0.041096</td>\n",
       "    </tr>\n",
       "    <tr>\n",
       "      <th>Chinese</th>\n",
       "      <td>0.038251</td>\n",
       "    </tr>\n",
       "    <tr>\n",
       "      <th>Greek</th>\n",
       "      <td>0.036364</td>\n",
       "    </tr>\n",
       "    <tr>\n",
       "      <th>Peruvian</th>\n",
       "      <td>0.035714</td>\n",
       "    </tr>\n",
       "    <tr>\n",
       "      <th>Tex-Mex</th>\n",
       "      <td>0.034483</td>\n",
       "    </tr>\n",
       "    <tr>\n",
       "      <th>Delicatessen</th>\n",
       "      <td>0.032680</td>\n",
       "    </tr>\n",
       "    <tr>\n",
       "      <th>Thai</th>\n",
       "      <td>0.031250</td>\n",
       "    </tr>\n",
       "    <tr>\n",
       "      <th>Sandwiches/Salads/Mixed Buffet</th>\n",
       "      <td>0.028571</td>\n",
       "    </tr>\n",
       "    <tr>\n",
       "      <th>Bagels/Pretzels</th>\n",
       "      <td>0.028571</td>\n",
       "    </tr>\n",
       "    <tr>\n",
       "      <th>Irish</th>\n",
       "      <td>0.028571</td>\n",
       "    </tr>\n",
       "    <tr>\n",
       "      <th>Turkish</th>\n",
       "      <td>0.028571</td>\n",
       "    </tr>\n",
       "    <tr>\n",
       "      <th>Chinese/Japanese</th>\n",
       "      <td>0.028571</td>\n",
       "    </tr>\n",
       "    <tr>\n",
       "      <th>Donuts</th>\n",
       "      <td>0.028409</td>\n",
       "    </tr>\n",
       "    <tr>\n",
       "      <th>Café/Coffee/Tea</th>\n",
       "      <td>0.028112</td>\n",
       "    </tr>\n",
       "    <tr>\n",
       "      <th>Russian</th>\n",
       "      <td>0.027778</td>\n",
       "    </tr>\n",
       "    <tr>\n",
       "      <th>French</th>\n",
       "      <td>0.027586</td>\n",
       "    </tr>\n",
       "    <tr>\n",
       "      <th>Korean</th>\n",
       "      <td>0.027273</td>\n",
       "    </tr>\n",
       "    <tr>\n",
       "      <th>Spanish</th>\n",
       "      <td>0.025723</td>\n",
       "    </tr>\n",
       "    <tr>\n",
       "      <th>Latin (Cuban, Dominican, Puerto Rican, South &amp; Central American)</th>\n",
       "      <td>0.025575</td>\n",
       "    </tr>\n",
       "    <tr>\n",
       "      <th>Japanese</th>\n",
       "      <td>0.023529</td>\n",
       "    </tr>\n",
       "    <tr>\n",
       "      <th>Pizza</th>\n",
       "      <td>0.022822</td>\n",
       "    </tr>\n",
       "    <tr>\n",
       "      <th>Italian</th>\n",
       "      <td>0.022173</td>\n",
       "    </tr>\n",
       "    <tr>\n",
       "      <th>American</th>\n",
       "      <td>0.021895</td>\n",
       "    </tr>\n",
       "    <tr>\n",
       "      <th>Bakery</th>\n",
       "      <td>0.021472</td>\n",
       "    </tr>\n",
       "    <tr>\n",
       "      <th>Juice, Smoothies, Fruit Salads</th>\n",
       "      <td>0.020000</td>\n",
       "    </tr>\n",
       "    <tr>\n",
       "      <th>Sandwiches</th>\n",
       "      <td>0.018072</td>\n",
       "    </tr>\n",
       "    <tr>\n",
       "      <th>Hamburgers</th>\n",
       "      <td>0.017544</td>\n",
       "    </tr>\n",
       "    <tr>\n",
       "      <th>Indian</th>\n",
       "      <td>0.014286</td>\n",
       "    </tr>\n",
       "    <tr>\n",
       "      <th>Pizza/Italian</th>\n",
       "      <td>0.013825</td>\n",
       "    </tr>\n",
       "    <tr>\n",
       "      <th>Middle Eastern</th>\n",
       "      <td>0.012821</td>\n",
       "    </tr>\n",
       "    <tr>\n",
       "      <th>Chicken</th>\n",
       "      <td>0.012048</td>\n",
       "    </tr>\n",
       "    <tr>\n",
       "      <th>Mediterranean</th>\n",
       "      <td>0.011765</td>\n",
       "    </tr>\n",
       "    <tr>\n",
       "      <th>Mexican</th>\n",
       "      <td>0.008850</td>\n",
       "    </tr>\n",
       "    <tr>\n",
       "      <th>Caribbean</th>\n",
       "      <td>0.006969</td>\n",
       "    </tr>\n",
       "    <tr>\n",
       "      <th>Jewish/Kosher</th>\n",
       "      <td>0.006944</td>\n",
       "    </tr>\n",
       "  </tbody>\n",
       "</table>\n",
       "</div>"
      ],
      "text/plain": [
       "                                                    CUISINE DESCRIPTION\n",
       "Soul Food                                                      0.090909\n",
       "Vietnamese/Cambodian/Malaysia                                  0.062500\n",
       "Other                                                          0.058252\n",
       "Soups & Sandwiches                                             0.047619\n",
       "Continental                                                    0.047619\n",
       "Barbecue                                                       0.047619\n",
       "Asian                                                          0.041096\n",
       "Chinese                                                        0.038251\n",
       "Greek                                                          0.036364\n",
       "Peruvian                                                       0.035714\n",
       "Tex-Mex                                                        0.034483\n",
       "Delicatessen                                                   0.032680\n",
       "Thai                                                           0.031250\n",
       "Sandwiches/Salads/Mixed Buffet                                 0.028571\n",
       "Bagels/Pretzels                                                0.028571\n",
       "Irish                                                          0.028571\n",
       "Turkish                                                        0.028571\n",
       "Chinese/Japanese                                               0.028571\n",
       "Donuts                                                         0.028409\n",
       "Café/Coffee/Tea                                                0.028112\n",
       "Russian                                                        0.027778\n",
       "French                                                         0.027586\n",
       "Korean                                                         0.027273\n",
       "Spanish                                                        0.025723\n",
       "Latin (Cuban, Dominican, Puerto Rican, South & ...             0.025575\n",
       "Japanese                                                       0.023529\n",
       "Pizza                                                          0.022822\n",
       "Italian                                                        0.022173\n",
       "American                                                       0.021895\n",
       "Bakery                                                         0.021472\n",
       "Juice, Smoothies, Fruit Salads                                 0.020000\n",
       "Sandwiches                                                     0.018072\n",
       "Hamburgers                                                     0.017544\n",
       "Indian                                                         0.014286\n",
       "Pizza/Italian                                                  0.013825\n",
       "Middle Eastern                                                 0.012821\n",
       "Chicken                                                        0.012048\n",
       "Mediterranean                                                  0.011765\n",
       "Mexican                                                        0.008850\n",
       "Caribbean                                                      0.006969\n",
       "Jewish/Kosher                                                  0.006944"
      ]
     },
     "execution_count": 31,
     "metadata": {},
     "output_type": "execute_result"
    }
   ],
   "source": [
    "## Calculate the ratio of clean restaurants serving the cuisine to total restaurants serving the cuisine\n",
    "## Sort the ratios in descending order \n",
    "most_likely_clean = pd.DataFrame(clean_cuisines[mask]/popular_cuisines[mask]).dropna().sort_values(by='CUISINE DESCRIPTION',ascending=False)\n",
    "most_likely_clean"
   ]
  },
  {
   "cell_type": "code",
   "execution_count": 32,
   "id": "3541dd52",
   "metadata": {},
   "outputs": [
    {
     "data": {
      "text/plain": [
       "<AxesSubplot:>"
      ]
     },
     "execution_count": 32,
     "metadata": {},
     "output_type": "execute_result"
    },
    {
     "data": {
      "image/png": "[encoded data removed]",
      "text/plain": [
       "<Figure size 432x288 with 1 Axes>"
      ]
     },
     "metadata": {
      "needs_background": "light"
     },
     "output_type": "display_data"
    }
   ],
   "source": [
    "## Plot the top 10 cuisines using ratio of clean restaurants to total restaurants\n",
    "most_likely_clean[:20].plot(kind='bar')"
   ]
  },
  {
   "cell_type": "code",
   "execution_count": null,
   "id": "b2c31c6b",
   "metadata": {},
   "outputs": [],
   "source": []
  },
  {
   "cell_type": "markdown",
   "id": "c1f2dc84",
   "metadata": {},
   "source": [
    "### [Q11, 8 points] What are the most common violations in each borough? \n",
    "Create a table of the number of times each violation description\n",
    "was observed in each borough, and figure out the most common violation\n",
    "description for each borough.\n",
    "To create the table, check out the crosstab function. We will see a more\n",
    "general version of this when we discuss groupby in class.Once you do have the table, you will still need to find the most common\n",
    "violation description for each borough."
   ]
  },
  {
   "cell_type": "markdown",
   "id": "64dc6637",
   "metadata": {},
   "source": [
    "<b>Solution:</b><br>a. Create a crosstab with 'VIOLATION CODE' and 'BORO' counting the number of violation codes in each borough<br>b. Use idxmax() to identify the most common violation code in each borough"
   ]
  },
  {
   "cell_type": "code",
   "execution_count": 33,
   "id": "b49875cd",
   "metadata": {},
   "outputs": [
    {
     "data": {
      "text/html": [
       "<div>\n",
       "<style scoped>\n",
       "    .dataframe tbody tr th:only-of-type {\n",
       "        vertical-align: middle;\n",
       "    }\n",
       "\n",
       "    .dataframe tbody tr th {\n",
       "        vertical-align: top;\n",
       "    }\n",
       "\n",
       "    .dataframe thead th {\n",
       "        text-align: right;\n",
       "    }\n",
       "</style>\n",
       "<table border=\"1\" class=\"dataframe\">\n",
       "  <thead>\n",
       "    <tr style=\"text-align: right;\">\n",
       "      <th>col_0</th>\n",
       "      <th>BRONX</th>\n",
       "      <th>BROOKLYN</th>\n",
       "      <th>MANHATTAN</th>\n",
       "      <th>Missing</th>\n",
       "      <th>QUEENS</th>\n",
       "      <th>STATEN ISLAND</th>\n",
       "    </tr>\n",
       "    <tr>\n",
       "      <th>row_0</th>\n",
       "      <th></th>\n",
       "      <th></th>\n",
       "      <th></th>\n",
       "      <th></th>\n",
       "      <th></th>\n",
       "      <th></th>\n",
       "    </tr>\n",
       "  </thead>\n",
       "  <tbody>\n",
       "    <tr>\n",
       "      <th>02A</th>\n",
       "      <td>1</td>\n",
       "      <td>11</td>\n",
       "      <td>18</td>\n",
       "      <td>0</td>\n",
       "      <td>7</td>\n",
       "      <td>1</td>\n",
       "    </tr>\n",
       "    <tr>\n",
       "      <th>02B</th>\n",
       "      <td>193</td>\n",
       "      <td>597</td>\n",
       "      <td>831</td>\n",
       "      <td>1</td>\n",
       "      <td>567</td>\n",
       "      <td>94</td>\n",
       "    </tr>\n",
       "    <tr>\n",
       "      <th>02C</th>\n",
       "      <td>8</td>\n",
       "      <td>24</td>\n",
       "      <td>18</td>\n",
       "      <td>0</td>\n",
       "      <td>25</td>\n",
       "      <td>0</td>\n",
       "    </tr>\n",
       "    <tr>\n",
       "      <th>02D</th>\n",
       "      <td>0</td>\n",
       "      <td>5</td>\n",
       "      <td>2</td>\n",
       "      <td>0</td>\n",
       "      <td>0</td>\n",
       "      <td>0</td>\n",
       "    </tr>\n",
       "    <tr>\n",
       "      <th>02F</th>\n",
       "      <td>0</td>\n",
       "      <td>0</td>\n",
       "      <td>1</td>\n",
       "      <td>0</td>\n",
       "      <td>1</td>\n",
       "      <td>0</td>\n",
       "    </tr>\n",
       "    <tr>\n",
       "      <th>...</th>\n",
       "      <td>...</td>\n",
       "      <td>...</td>\n",
       "      <td>...</td>\n",
       "      <td>...</td>\n",
       "      <td>...</td>\n",
       "      <td>...</td>\n",
       "    </tr>\n",
       "    <tr>\n",
       "      <th>22A</th>\n",
       "      <td>6</td>\n",
       "      <td>37</td>\n",
       "      <td>63</td>\n",
       "      <td>0</td>\n",
       "      <td>38</td>\n",
       "      <td>2</td>\n",
       "    </tr>\n",
       "    <tr>\n",
       "      <th>22B</th>\n",
       "      <td>1</td>\n",
       "      <td>5</td>\n",
       "      <td>7</td>\n",
       "      <td>0</td>\n",
       "      <td>2</td>\n",
       "      <td>1</td>\n",
       "    </tr>\n",
       "    <tr>\n",
       "      <th>22C</th>\n",
       "      <td>20</td>\n",
       "      <td>93</td>\n",
       "      <td>168</td>\n",
       "      <td>0</td>\n",
       "      <td>80</td>\n",
       "      <td>10</td>\n",
       "    </tr>\n",
       "    <tr>\n",
       "      <th>22E</th>\n",
       "      <td>0</td>\n",
       "      <td>1</td>\n",
       "      <td>2</td>\n",
       "      <td>0</td>\n",
       "      <td>1</td>\n",
       "      <td>0</td>\n",
       "    </tr>\n",
       "    <tr>\n",
       "      <th>22F</th>\n",
       "      <td>0</td>\n",
       "      <td>4</td>\n",
       "      <td>15</td>\n",
       "      <td>0</td>\n",
       "      <td>5</td>\n",
       "      <td>0</td>\n",
       "    </tr>\n",
       "  </tbody>\n",
       "</table>\n",
       "<p>83 rows × 6 columns</p>\n",
       "</div>"
      ],
      "text/plain": [
       "col_0  BRONX  BROOKLYN  MANHATTAN  Missing  QUEENS  STATEN ISLAND\n",
       "row_0                                                            \n",
       "02A        1        11         18        0       7              1\n",
       "02B      193       597        831        1     567             94\n",
       "02C        8        24         18        0      25              0\n",
       "02D        0         5          2        0       0              0\n",
       "02F        0         0          1        0       1              0\n",
       "...      ...       ...        ...      ...     ...            ...\n",
       "22A        6        37         63        0      38              2\n",
       "22B        1         5          7        0       2              1\n",
       "22C       20        93        168        0      80             10\n",
       "22E        0         1          2        0       1              0\n",
       "22F        0         4         15        0       5              0\n",
       "\n",
       "[83 rows x 6 columns]"
      ]
     },
     "execution_count": 33,
     "metadata": {},
     "output_type": "execute_result"
    }
   ],
   "source": [
    "## Create crosstab of violation code and borough\n",
    "violation = pd.Categorical(df['VIOLATION CODE'])\n",
    "borough = pd.Categorical(df['BORO'])\n",
    "boro_viol = pd.crosstab(violation, borough)\n",
    "boro_viol"
   ]
  },
  {
   "cell_type": "code",
   "execution_count": 34,
   "id": "a34556e9",
   "metadata": {},
   "outputs": [
    {
     "data": {
      "text/plain": [
       "col_0\n",
       "BRONX            10F\n",
       "BROOKLYN         10F\n",
       "MANHATTAN        10F\n",
       "Missing          10F\n",
       "QUEENS           10F\n",
       "STATEN ISLAND    10F\n",
       "dtype: object"
      ]
     },
     "execution_count": 34,
     "metadata": {},
     "output_type": "execute_result"
    }
   ],
   "source": [
    "## Identify most common violation codes in each borough\n",
    "boro_viol.idxmax()"
   ]
  },
  {
   "cell_type": "code",
   "execution_count": null,
   "id": "85720108",
   "metadata": {},
   "outputs": [],
   "source": []
  },
  {
   "cell_type": "markdown",
   "id": "376e7713",
   "metadata": {},
   "source": [
    "### [Q12, 9 points] What are the most common violations per borough, after normalizing for the relative abundance of each violation?\n",
    "Hopefully, the answer to the previous question left you unsatisfied, because\n",
    "some violations are just very common, irrespective of borough. A better\n",
    "approach would be to normalize the violation counts, as follows.<br>\n",
    "• Get overall frequencies: Figure out how common each violation is, over\n",
    "the entire dataset; let’s call this violationFrequency.<br>\n",
    "• Normalize: Consider the table of number of violations by boro that\n",
    "you created for the previous question. For each borough, divide the\n",
    "number of violations of each type by the total number of violations for\n",
    "that type; i.e., divide the series of violations by violationFrequency.\n",
    "We want to do this for each borough.<br>\n",
    "• Find the biggest violations: Now, after this normalization, for each\n",
    "borough, figure out the most common violation description."
   ]
  },
  {
   "cell_type": "markdown",
   "id": "b2d22a1a",
   "metadata": {},
   "source": [
    "<b>Solution</b><br>a. Calculate the total count of violation codes irrespective of borough<br>b.Use crosstab with normalize function parameter, which will normalize the values i.e., divide the individual borough violation code count by sum of the total occurences of that violation code across all boroughs<br>c. Use idxmax() to identify the most common violation code in each borough using these normalized values"
   ]
  },
  {
   "cell_type": "code",
   "execution_count": 35,
   "id": "18a93596",
   "metadata": {},
   "outputs": [
    {
     "name": "stdout",
     "output_type": "stream",
     "text": [
      "col_0  BRONX  BROOKLYN  MANHATTAN  Missing  QUEENS  STATEN ISLAND  \\\n",
      "row_0                                                               \n",
      "02A        1        11         18        0       7              1   \n",
      "02B      193       597        831        1     567             94   \n",
      "02C        8        24         18        0      25              0   \n",
      "02D        0         5          2        0       0              0   \n",
      "02F        0         0          1        0       1              0   \n",
      "...      ...       ...        ...      ...     ...            ...   \n",
      "22A        6        37         63        0      38              2   \n",
      "22B        1         5          7        0       2              1   \n",
      "22C       20        93        168        0      80             10   \n",
      "22E        0         1          2        0       1              0   \n",
      "22F        0         4         15        0       5              0   \n",
      "\n",
      "col_0  violationFrequency  \n",
      "row_0                      \n",
      "02A                    38  \n",
      "02B                  2283  \n",
      "02C                    75  \n",
      "02D                     7  \n",
      "02F                     2  \n",
      "...                   ...  \n",
      "22A                   146  \n",
      "22B                    16  \n",
      "22C                   371  \n",
      "22E                     4  \n",
      "22F                    24  \n",
      "\n",
      "[83 rows x 7 columns]\n"
     ]
    }
   ],
   "source": [
    "## Calculate total count of violation codes irrespective of borough\n",
    "boro_viol.columns = boro_viol.columns.add_categories(['violationFrequency'])\n",
    "boro_viol['violationFrequency'] = boro_viol.sum(axis = 1)\n",
    "print (boro_viol)"
   ]
  },
  {
   "cell_type": "code",
   "execution_count": 36,
   "id": "f5b2a652",
   "metadata": {},
   "outputs": [
    {
     "data": {
      "text/html": [
       "<div>\n",
       "<style scoped>\n",
       "    .dataframe tbody tr th:only-of-type {\n",
       "        vertical-align: middle;\n",
       "    }\n",
       "\n",
       "    .dataframe tbody tr th {\n",
       "        vertical-align: top;\n",
       "    }\n",
       "\n",
       "    .dataframe thead th {\n",
       "        text-align: right;\n",
       "    }\n",
       "</style>\n",
       "<table border=\"1\" class=\"dataframe\">\n",
       "  <thead>\n",
       "    <tr style=\"text-align: right;\">\n",
       "      <th>col_0</th>\n",
       "      <th>BRONX</th>\n",
       "      <th>BROOKLYN</th>\n",
       "      <th>MANHATTAN</th>\n",
       "      <th>Missing</th>\n",
       "      <th>QUEENS</th>\n",
       "      <th>STATEN ISLAND</th>\n",
       "    </tr>\n",
       "    <tr>\n",
       "      <th>row_0</th>\n",
       "      <th></th>\n",
       "      <th></th>\n",
       "      <th></th>\n",
       "      <th></th>\n",
       "      <th></th>\n",
       "      <th></th>\n",
       "    </tr>\n",
       "  </thead>\n",
       "  <tbody>\n",
       "    <tr>\n",
       "      <th>02A</th>\n",
       "      <td>0.026316</td>\n",
       "      <td>0.289474</td>\n",
       "      <td>0.473684</td>\n",
       "      <td>0.000000</td>\n",
       "      <td>0.184211</td>\n",
       "      <td>0.026316</td>\n",
       "    </tr>\n",
       "    <tr>\n",
       "      <th>02B</th>\n",
       "      <td>0.084538</td>\n",
       "      <td>0.261498</td>\n",
       "      <td>0.363995</td>\n",
       "      <td>0.000438</td>\n",
       "      <td>0.248357</td>\n",
       "      <td>0.041174</td>\n",
       "    </tr>\n",
       "    <tr>\n",
       "      <th>02C</th>\n",
       "      <td>0.106667</td>\n",
       "      <td>0.320000</td>\n",
       "      <td>0.240000</td>\n",
       "      <td>0.000000</td>\n",
       "      <td>0.333333</td>\n",
       "      <td>0.000000</td>\n",
       "    </tr>\n",
       "    <tr>\n",
       "      <th>02D</th>\n",
       "      <td>0.000000</td>\n",
       "      <td>0.714286</td>\n",
       "      <td>0.285714</td>\n",
       "      <td>0.000000</td>\n",
       "      <td>0.000000</td>\n",
       "      <td>0.000000</td>\n",
       "    </tr>\n",
       "    <tr>\n",
       "      <th>02F</th>\n",
       "      <td>0.000000</td>\n",
       "      <td>0.000000</td>\n",
       "      <td>0.500000</td>\n",
       "      <td>0.000000</td>\n",
       "      <td>0.500000</td>\n",
       "      <td>0.000000</td>\n",
       "    </tr>\n",
       "    <tr>\n",
       "      <th>...</th>\n",
       "      <td>...</td>\n",
       "      <td>...</td>\n",
       "      <td>...</td>\n",
       "      <td>...</td>\n",
       "      <td>...</td>\n",
       "      <td>...</td>\n",
       "    </tr>\n",
       "    <tr>\n",
       "      <th>22A</th>\n",
       "      <td>0.041096</td>\n",
       "      <td>0.253425</td>\n",
       "      <td>0.431507</td>\n",
       "      <td>0.000000</td>\n",
       "      <td>0.260274</td>\n",
       "      <td>0.013699</td>\n",
       "    </tr>\n",
       "    <tr>\n",
       "      <th>22B</th>\n",
       "      <td>0.062500</td>\n",
       "      <td>0.312500</td>\n",
       "      <td>0.437500</td>\n",
       "      <td>0.000000</td>\n",
       "      <td>0.125000</td>\n",
       "      <td>0.062500</td>\n",
       "    </tr>\n",
       "    <tr>\n",
       "      <th>22C</th>\n",
       "      <td>0.053908</td>\n",
       "      <td>0.250674</td>\n",
       "      <td>0.452830</td>\n",
       "      <td>0.000000</td>\n",
       "      <td>0.215633</td>\n",
       "      <td>0.026954</td>\n",
       "    </tr>\n",
       "    <tr>\n",
       "      <th>22E</th>\n",
       "      <td>0.000000</td>\n",
       "      <td>0.250000</td>\n",
       "      <td>0.500000</td>\n",
       "      <td>0.000000</td>\n",
       "      <td>0.250000</td>\n",
       "      <td>0.000000</td>\n",
       "    </tr>\n",
       "    <tr>\n",
       "      <th>22F</th>\n",
       "      <td>0.000000</td>\n",
       "      <td>0.166667</td>\n",
       "      <td>0.625000</td>\n",
       "      <td>0.000000</td>\n",
       "      <td>0.208333</td>\n",
       "      <td>0.000000</td>\n",
       "    </tr>\n",
       "  </tbody>\n",
       "</table>\n",
       "<p>83 rows × 6 columns</p>\n",
       "</div>"
      ],
      "text/plain": [
       "col_0     BRONX  BROOKLYN  MANHATTAN   Missing    QUEENS  STATEN ISLAND\n",
       "row_0                                                                  \n",
       "02A    0.026316  0.289474   0.473684  0.000000  0.184211       0.026316\n",
       "02B    0.084538  0.261498   0.363995  0.000438  0.248357       0.041174\n",
       "02C    0.106667  0.320000   0.240000  0.000000  0.333333       0.000000\n",
       "02D    0.000000  0.714286   0.285714  0.000000  0.000000       0.000000\n",
       "02F    0.000000  0.000000   0.500000  0.000000  0.500000       0.000000\n",
       "...         ...       ...        ...       ...       ...            ...\n",
       "22A    0.041096  0.253425   0.431507  0.000000  0.260274       0.013699\n",
       "22B    0.062500  0.312500   0.437500  0.000000  0.125000       0.062500\n",
       "22C    0.053908  0.250674   0.452830  0.000000  0.215633       0.026954\n",
       "22E    0.000000  0.250000   0.500000  0.000000  0.250000       0.000000\n",
       "22F    0.000000  0.166667   0.625000  0.000000  0.208333       0.000000\n",
       "\n",
       "[83 rows x 6 columns]"
      ]
     },
     "execution_count": 36,
     "metadata": {},
     "output_type": "execute_result"
    }
   ],
   "source": [
    "## Use crosstab with normalize function parameter to normalize the values \n",
    "violation = pd.Categorical(df['VIOLATION CODE'])\n",
    "borough = pd.Categorical(df['BORO'])\n",
    "boro_viol = pd.crosstab(violation, borough, normalize='index')\n",
    "boro_viol"
   ]
  },
  {
   "cell_type": "code",
   "execution_count": 37,
   "id": "3f6ab615",
   "metadata": {},
   "outputs": [
    {
     "data": {
      "text/plain": [
       "col_0\n",
       "BRONX            04I\n",
       "BROOKLYN         02D\n",
       "MANHATTAN        03E\n",
       "Missing          10J\n",
       "QUEENS           03G\n",
       "STATEN ISLAND    03C\n",
       "dtype: object"
      ]
     },
     "execution_count": 37,
     "metadata": {},
     "output_type": "execute_result"
    }
   ],
   "source": [
    "## Identify the most common violation code in each borough using these normalized values\n",
    "boro_viol.idxmax()"
   ]
  },
  {
   "cell_type": "code",
   "execution_count": null,
   "id": "cdfd37d4",
   "metadata": {},
   "outputs": [],
   "source": []
  },
  {
   "cell_type": "markdown",
   "id": "228d5e3d",
   "metadata": {},
   "source": [
    "### [Q13, 8 points] How many phone area codes correspond to a singlezipcode? \n",
    "The first three digits of the restaurant phone numbers are their\n",
    "area codes. The area codes do not generally align with zip codes, but some\n",
    "area codes are only for a single zip code. You must figure out how many area\n",
    "codes have this property.<br>\n",
    "• To extract the first 3 characters of the phone number, recall that strings\n",
    "are pretty similar to lists."
   ]
  },
  {
   "cell_type": "markdown",
   "id": "face559d",
   "metadata": {},
   "source": [
    "<b>Solution</b><br>a. Extract the first three digits from phone numbers as the area code<br>b. Count the number of unique area codes attached to a zipcode using nunique()<br>c. Count the number of zipcodes for which only 1 unique area code is attached"
   ]
  },
  {
   "cell_type": "code",
   "execution_count": 38,
   "id": "f413cd25",
   "metadata": {},
   "outputs": [
    {
     "data": {
      "text/plain": [
       "0        718\n",
       "1        718\n",
       "2        718\n",
       "3        718\n",
       "4        718\n",
       "        ... \n",
       "44628    917\n",
       "44629    212\n",
       "44630    212\n",
       "44631    212\n",
       "44632    212\n",
       "Name: AREA CODE, Length: 44633, dtype: object"
      ]
     },
     "execution_count": 38,
     "metadata": {},
     "output_type": "execute_result"
    }
   ],
   "source": [
    "## Extract area code from phone number\n",
    "df['AREA CODE'] = df['PHONE'].str[:3]\n",
    "df['AREA CODE']"
   ]
  },
  {
   "cell_type": "code",
   "execution_count": 39,
   "id": "9643e738",
   "metadata": {},
   "outputs": [
    {
     "data": {
      "text/plain": [
       "AREA CODE\n",
       "000      1\n",
       "171      1\n",
       "175      1\n",
       "191      1\n",
       "201     11\n",
       "202      1\n",
       "206      1\n",
       "212     65\n",
       "215      4\n",
       "270      2\n",
       "281      1\n",
       "303      1\n",
       "305      1\n",
       "347    130\n",
       "404      1\n",
       "407      2\n",
       "410      1\n",
       "412      1\n",
       "434      1\n",
       "502      1\n",
       "505      1\n",
       "516     21\n",
       "570      1\n",
       "605      1\n",
       "607      1\n",
       "610      1\n",
       "612      1\n",
       "615      1\n",
       "617      1\n",
       "626      1\n",
       "631      3\n",
       "646     95\n",
       "702      1\n",
       "703      2\n",
       "716      1\n",
       "718    151\n",
       "728      1\n",
       "732      5\n",
       "813      2\n",
       "845      3\n",
       "848      2\n",
       "855      1\n",
       "860      1\n",
       "862      2\n",
       "877      3\n",
       "905      1\n",
       "908      1\n",
       "914      9\n",
       "917    117\n",
       "929     15\n",
       "954      1\n",
       "964      1\n",
       "970      1\n",
       "973      2\n",
       "985      1\n",
       "___      7\n",
       "Name: ZIPCODE, dtype: int64"
      ]
     },
     "execution_count": 39,
     "metadata": {},
     "output_type": "execute_result"
    }
   ],
   "source": [
    "## Count the number of unique area codes attached to a zipcode using nunique()\n",
    "df.groupby(['AREA CODE'])['ZIPCODE'].nunique()"
   ]
  },
  {
   "cell_type": "code",
   "execution_count": 40,
   "id": "66508667",
   "metadata": {},
   "outputs": [
    {
     "name": "stdout",
     "output_type": "stream",
     "text": [
      "Number of area codes which are attached to only one zip code: 34\n"
     ]
    }
   ],
   "source": [
    "## Count the number of zipcodes for which only 1 unique area code is attached\n",
    "unique_zip_area = (df.groupby(['AREA CODE'])['ZIPCODE'].nunique()==1).value_counts()[True]\n",
    "print(f'Number of area codes which are attached to only one zip code: {unique_zip_area}')"
   ]
  },
  {
   "cell_type": "code",
   "execution_count": null,
   "id": "b2037909",
   "metadata": {},
   "outputs": [],
   "source": []
  },
  {
   "cell_type": "markdown",
   "id": "394efb95",
   "metadata": {},
   "source": [
    "### [Q14, 10 points] Find common misspellings of street names\n",
    "Sometimes, it’s Avenue, and sometimes, it’s Ave. We will try to come up with an\n",
    "automated way to find common misspellings. The idea is the following: if\n",
    "Ave and Avenue are the same, they should show up often in similar-sounding\n",
    "street names, e.g., Lexington Ave and Lexington Avenue.<br>\n",
    "• Create a new column, called STREET TYPE, which is the the last word\n",
    "in the name of the street. For example, if the street is “Astoria Boulevard”, the street type should be “Boulevard”.<br>\n",
    "• Create another column, called STREET BASE, which contains everything\n",
    "but the last word in the name of the street. For example, if the street\n",
    "is “Astoria Boulevard”, the street base should be “Astoria”.<br>• Create a third column, called STREET BASE & ZIP, that combines the\n",
    "street base and the zipcode.<br>\n",
    "• Create a table containing just these three columns, and remove any\n",
    "duplicates or instances where street base is empty. This table now\n",
    "contains unique street names, along with the street type.<br>\n",
    "• Merge this table with itself, on the STREET BASE & ZIP column. Thus,\n",
    "in the new merged tabled, we will have two STREET TYPE fields for\n",
    "each street base and zipcode. For example, if both Lexington Ave and\n",
    "Lexington Avenue exist in the same zipcode, we will get a row for the\n",
    "street base Lexington and the two street types Ave and Avenue.<br>\n",
    "• From the merged table, select only the rows where the street types are\n",
    "different.<br>\n",
    "• Now, do a cross-tabulation of the two distinct street types (check out\n",
    "the crosstab function in Pandas). This gives us the number of times\n",
    "Ave and Avenue were used with the same STREET BASE & ZIP.<br>\n",
    "• From this cross-tabulation table, find the most commonly street type\n",
    "that occurs with each of the following: AVE, ST, RD, PL, BOULEARD,\n",
    "and BULEVARD<br>"
   ]
  },
  {
   "cell_type": "markdown",
   "id": "1453f03e",
   "metadata": {},
   "source": [
    "<b>Solution:</b><br>a. Create a column 'STREET TYPE' using str.split() on \" \" delimiter and select the last word as the value for this column<br>b. Create a column 'STREET BASE' using str.split() on \" \" delimiter and select everything but the last word and concatenate the list elements into a string<br>c. Create a column 'STREET BASE & ZIP' by concatenating the 'STREET BASE' and 'ZIPCODE' column values using '+' operator for string concatenation<br>d. Create a dataframe called street using only 'STREET TYPE','STREET BASE','STREET BASE & ZIP' columns and drop all duplicates<br>e. Merge this table with itself using merge() on 'STREET BASE & ZIP' column<br>f. Pick only the rows where 'STREET TYPE' of first table is != 'STREET TYPE' from second table<br>g. Create a crosstab for the 'STREET TYPE' column of both tables<br>h. Create a list of street names as in question and iterate through all items in the list to return the idxmax() for different street types showing the most common street type that are used inplace of them"
   ]
  },
  {
   "cell_type": "code",
   "execution_count": 41,
   "id": "8b5fd879",
   "metadata": {},
   "outputs": [
    {
     "data": {
      "text/html": [
       "<div>\n",
       "<style scoped>\n",
       "    .dataframe tbody tr th:only-of-type {\n",
       "        vertical-align: middle;\n",
       "    }\n",
       "\n",
       "    .dataframe tbody tr th {\n",
       "        vertical-align: top;\n",
       "    }\n",
       "\n",
       "    .dataframe thead th {\n",
       "        text-align: right;\n",
       "    }\n",
       "</style>\n",
       "<table border=\"1\" class=\"dataframe\">\n",
       "  <thead>\n",
       "    <tr style=\"text-align: right;\">\n",
       "      <th></th>\n",
       "      <th>Unnamed: 0</th>\n",
       "      <th>CAMIS</th>\n",
       "      <th>DBA</th>\n",
       "      <th>BORO</th>\n",
       "      <th>BUILDING</th>\n",
       "      <th>STREET</th>\n",
       "      <th>ZIPCODE</th>\n",
       "      <th>PHONE</th>\n",
       "      <th>CUISINE DESCRIPTION</th>\n",
       "      <th>INSPECTION DATE</th>\n",
       "      <th>...</th>\n",
       "      <th>VIOLATION DESCRIPTION</th>\n",
       "      <th>CRITICAL FLAG</th>\n",
       "      <th>SCORE</th>\n",
       "      <th>GRADE</th>\n",
       "      <th>GRADE DATE</th>\n",
       "      <th>RECORD DATE</th>\n",
       "      <th>INSPECTION TYPE</th>\n",
       "      <th>RESTAURANT</th>\n",
       "      <th>AREA CODE</th>\n",
       "      <th>STREET TYPE</th>\n",
       "    </tr>\n",
       "  </thead>\n",
       "  <tbody>\n",
       "    <tr>\n",
       "      <th>0</th>\n",
       "      <td>0</td>\n",
       "      <td>30112340</td>\n",
       "      <td>WENDY'S</td>\n",
       "      <td>BROOKLYN</td>\n",
       "      <td>469</td>\n",
       "      <td>FLATBUSH AVENUE</td>\n",
       "      <td>11225</td>\n",
       "      <td>7182875005</td>\n",
       "      <td>Hamburgers</td>\n",
       "      <td>12/30/2014</td>\n",
       "      <td>...</td>\n",
       "      <td>Food not protected from potential source of co...</td>\n",
       "      <td>Critical</td>\n",
       "      <td>8</td>\n",
       "      <td>A</td>\n",
       "      <td>12/30/2014</td>\n",
       "      <td>02/12/2015</td>\n",
       "      <td>Cycle Inspection / Re-inspection</td>\n",
       "      <td>WENDY'S 469 FLATBUSH AVENUE 11225 BROOKLYN</td>\n",
       "      <td>718</td>\n",
       "      <td>AVENUE</td>\n",
       "    </tr>\n",
       "    <tr>\n",
       "      <th>1</th>\n",
       "      <td>1</td>\n",
       "      <td>30112340</td>\n",
       "      <td>WENDY'S</td>\n",
       "      <td>BROOKLYN</td>\n",
       "      <td>469</td>\n",
       "      <td>FLATBUSH AVENUE</td>\n",
       "      <td>11225</td>\n",
       "      <td>7182875005</td>\n",
       "      <td>Hamburgers</td>\n",
       "      <td>12/30/2014</td>\n",
       "      <td>...</td>\n",
       "      <td>Non-food contact surface improperly constructe...</td>\n",
       "      <td>Not Critical</td>\n",
       "      <td>8</td>\n",
       "      <td>A</td>\n",
       "      <td>12/30/2014</td>\n",
       "      <td>02/12/2015</td>\n",
       "      <td>Cycle Inspection / Re-inspection</td>\n",
       "      <td>WENDY'S 469 FLATBUSH AVENUE 11225 BROOKLYN</td>\n",
       "      <td>718</td>\n",
       "      <td>AVENUE</td>\n",
       "    </tr>\n",
       "  </tbody>\n",
       "</table>\n",
       "<p>2 rows × 22 columns</p>\n",
       "</div>"
      ],
      "text/plain": [
       "  Unnamed: 0     CAMIS      DBA      BORO BUILDING           STREET ZIPCODE  \\\n",
       "0          0  30112340  WENDY'S  BROOKLYN      469  FLATBUSH AVENUE   11225   \n",
       "1          1  30112340  WENDY'S  BROOKLYN      469  FLATBUSH AVENUE   11225   \n",
       "\n",
       "        PHONE CUISINE DESCRIPTION INSPECTION DATE  ...  \\\n",
       "0  7182875005          Hamburgers      12/30/2014  ...   \n",
       "1  7182875005          Hamburgers      12/30/2014  ...   \n",
       "\n",
       "                               VIOLATION DESCRIPTION CRITICAL FLAG SCORE  \\\n",
       "0  Food not protected from potential source of co...      Critical     8   \n",
       "1  Non-food contact surface improperly constructe...  Not Critical     8   \n",
       "\n",
       "  GRADE  GRADE DATE RECORD DATE                   INSPECTION TYPE  \\\n",
       "0     A  12/30/2014  02/12/2015  Cycle Inspection / Re-inspection   \n",
       "1     A  12/30/2014  02/12/2015  Cycle Inspection / Re-inspection   \n",
       "\n",
       "                                   RESTAURANT AREA CODE STREET TYPE  \n",
       "0  WENDY'S 469 FLATBUSH AVENUE 11225 BROOKLYN       718      AVENUE  \n",
       "1  WENDY'S 469 FLATBUSH AVENUE 11225 BROOKLYN       718      AVENUE  \n",
       "\n",
       "[2 rows x 22 columns]"
      ]
     },
     "execution_count": 41,
     "metadata": {},
     "output_type": "execute_result"
    }
   ],
   "source": [
    "## Create a column 'STREET TYPE' using str.split() on \" \" delimiter and select the last word as the value for this column<\n",
    "df['STREET TYPE'] = df['STREET'].str.split().str[-1]\n",
    "df.head(2)"
   ]
  },
  {
   "cell_type": "code",
   "execution_count": 42,
   "id": "9caa16cb",
   "metadata": {},
   "outputs": [
    {
     "data": {
      "text/html": [
       "<div>\n",
       "<style scoped>\n",
       "    .dataframe tbody tr th:only-of-type {\n",
       "        vertical-align: middle;\n",
       "    }\n",
       "\n",
       "    .dataframe tbody tr th {\n",
       "        vertical-align: top;\n",
       "    }\n",
       "\n",
       "    .dataframe thead th {\n",
       "        text-align: right;\n",
       "    }\n",
       "</style>\n",
       "<table border=\"1\" class=\"dataframe\">\n",
       "  <thead>\n",
       "    <tr style=\"text-align: right;\">\n",
       "      <th></th>\n",
       "      <th>Unnamed: 0</th>\n",
       "      <th>CAMIS</th>\n",
       "      <th>DBA</th>\n",
       "      <th>BORO</th>\n",
       "      <th>BUILDING</th>\n",
       "      <th>STREET</th>\n",
       "      <th>ZIPCODE</th>\n",
       "      <th>PHONE</th>\n",
       "      <th>CUISINE DESCRIPTION</th>\n",
       "      <th>INSPECTION DATE</th>\n",
       "      <th>...</th>\n",
       "      <th>CRITICAL FLAG</th>\n",
       "      <th>SCORE</th>\n",
       "      <th>GRADE</th>\n",
       "      <th>GRADE DATE</th>\n",
       "      <th>RECORD DATE</th>\n",
       "      <th>INSPECTION TYPE</th>\n",
       "      <th>RESTAURANT</th>\n",
       "      <th>AREA CODE</th>\n",
       "      <th>STREET TYPE</th>\n",
       "      <th>STREET BASE</th>\n",
       "    </tr>\n",
       "  </thead>\n",
       "  <tbody>\n",
       "    <tr>\n",
       "      <th>0</th>\n",
       "      <td>0</td>\n",
       "      <td>30112340</td>\n",
       "      <td>WENDY'S</td>\n",
       "      <td>BROOKLYN</td>\n",
       "      <td>469</td>\n",
       "      <td>FLATBUSH AVENUE</td>\n",
       "      <td>11225</td>\n",
       "      <td>7182875005</td>\n",
       "      <td>Hamburgers</td>\n",
       "      <td>12/30/2014</td>\n",
       "      <td>...</td>\n",
       "      <td>Critical</td>\n",
       "      <td>8</td>\n",
       "      <td>A</td>\n",
       "      <td>12/30/2014</td>\n",
       "      <td>02/12/2015</td>\n",
       "      <td>Cycle Inspection / Re-inspection</td>\n",
       "      <td>WENDY'S 469 FLATBUSH AVENUE 11225 BROOKLYN</td>\n",
       "      <td>718</td>\n",
       "      <td>AVENUE</td>\n",
       "      <td>FLATBUSH</td>\n",
       "    </tr>\n",
       "    <tr>\n",
       "      <th>1</th>\n",
       "      <td>1</td>\n",
       "      <td>30112340</td>\n",
       "      <td>WENDY'S</td>\n",
       "      <td>BROOKLYN</td>\n",
       "      <td>469</td>\n",
       "      <td>FLATBUSH AVENUE</td>\n",
       "      <td>11225</td>\n",
       "      <td>7182875005</td>\n",
       "      <td>Hamburgers</td>\n",
       "      <td>12/30/2014</td>\n",
       "      <td>...</td>\n",
       "      <td>Not Critical</td>\n",
       "      <td>8</td>\n",
       "      <td>A</td>\n",
       "      <td>12/30/2014</td>\n",
       "      <td>02/12/2015</td>\n",
       "      <td>Cycle Inspection / Re-inspection</td>\n",
       "      <td>WENDY'S 469 FLATBUSH AVENUE 11225 BROOKLYN</td>\n",
       "      <td>718</td>\n",
       "      <td>AVENUE</td>\n",
       "      <td>FLATBUSH</td>\n",
       "    </tr>\n",
       "  </tbody>\n",
       "</table>\n",
       "<p>2 rows × 23 columns</p>\n",
       "</div>"
      ],
      "text/plain": [
       "  Unnamed: 0     CAMIS      DBA      BORO BUILDING           STREET ZIPCODE  \\\n",
       "0          0  30112340  WENDY'S  BROOKLYN      469  FLATBUSH AVENUE   11225   \n",
       "1          1  30112340  WENDY'S  BROOKLYN      469  FLATBUSH AVENUE   11225   \n",
       "\n",
       "        PHONE CUISINE DESCRIPTION INSPECTION DATE  ... CRITICAL FLAG SCORE  \\\n",
       "0  7182875005          Hamburgers      12/30/2014  ...      Critical     8   \n",
       "1  7182875005          Hamburgers      12/30/2014  ...  Not Critical     8   \n",
       "\n",
       "  GRADE  GRADE DATE RECORD DATE                   INSPECTION TYPE  \\\n",
       "0     A  12/30/2014  02/12/2015  Cycle Inspection / Re-inspection   \n",
       "1     A  12/30/2014  02/12/2015  Cycle Inspection / Re-inspection   \n",
       "\n",
       "                                   RESTAURANT AREA CODE STREET TYPE  \\\n",
       "0  WENDY'S 469 FLATBUSH AVENUE 11225 BROOKLYN       718      AVENUE   \n",
       "1  WENDY'S 469 FLATBUSH AVENUE 11225 BROOKLYN       718      AVENUE   \n",
       "\n",
       "  STREET BASE  \n",
       "0    FLATBUSH  \n",
       "1    FLATBUSH  \n",
       "\n",
       "[2 rows x 23 columns]"
      ]
     },
     "execution_count": 42,
     "metadata": {},
     "output_type": "execute_result"
    }
   ],
   "source": [
    "## Create a column 'STREET BASE' using str.split() on \" \" delimiter and \n",
    "## select everything but the last word and concatenate the list elements into a string\n",
    "df['STREET BASE'] = df['STREET'].str.split().str[:-1]\n",
    "df['STREET BASE'] = [' '.join(map(str, l)) for l in df['STREET BASE']]\n",
    "df.head(2)"
   ]
  },
  {
   "cell_type": "code",
   "execution_count": 43,
   "id": "28b0035e",
   "metadata": {},
   "outputs": [],
   "source": [
    "## Create a column 'STREET BASE & ZIP' by concatenating the 'STREET BASE' and 'ZIPCODE' column values using '+' \n",
    "df['STREET BASE & ZIP'] = df['STREET BASE'] + ' ' +df['ZIPCODE']"
   ]
  },
  {
   "cell_type": "code",
   "execution_count": 44,
   "id": "5d1f456d",
   "metadata": {},
   "outputs": [
    {
     "data": {
      "text/plain": [
       "STREET TYPE                  AVE\n",
       "STREET BASE                GRAND\n",
       "STREET BASE & ZIP    GRAND 11378\n",
       "Name: 44618, dtype: object"
      ]
     },
     "execution_count": 44,
     "metadata": {},
     "output_type": "execute_result"
    }
   ],
   "source": [
    "df.iloc[44618][['STREET TYPE','STREET BASE','STREET BASE & ZIP']]"
   ]
  },
  {
   "cell_type": "code",
   "execution_count": 45,
   "id": "58f19943",
   "metadata": {},
   "outputs": [],
   "source": [
    "## Create a dataframe called street using only 'STREET TYPE','STREET BASE','STREET BASE & ZIP' columns and drop all duplicates\n",
    "street = df[['STREET TYPE','STREET BASE','STREET BASE & ZIP']].drop_duplicates().dropna(subset=['STREET BASE'])"
   ]
  },
  {
   "cell_type": "code",
   "execution_count": 46,
   "id": "81a98474",
   "metadata": {},
   "outputs": [
    {
     "data": {
      "text/html": [
       "<div>\n",
       "<style scoped>\n",
       "    .dataframe tbody tr th:only-of-type {\n",
       "        vertical-align: middle;\n",
       "    }\n",
       "\n",
       "    .dataframe tbody tr th {\n",
       "        vertical-align: top;\n",
       "    }\n",
       "\n",
       "    .dataframe thead th {\n",
       "        text-align: right;\n",
       "    }\n",
       "</style>\n",
       "<table border=\"1\" class=\"dataframe\">\n",
       "  <thead>\n",
       "    <tr style=\"text-align: right;\">\n",
       "      <th></th>\n",
       "      <th>STREET TYPE</th>\n",
       "      <th>STREET BASE</th>\n",
       "      <th>STREET BASE &amp; ZIP</th>\n",
       "    </tr>\n",
       "  </thead>\n",
       "  <tbody>\n",
       "    <tr>\n",
       "      <th>0</th>\n",
       "      <td>AVENUE</td>\n",
       "      <td>FLATBUSH</td>\n",
       "      <td>FLATBUSH 11225</td>\n",
       "    </tr>\n",
       "    <tr>\n",
       "      <th>5</th>\n",
       "      <td>ROAD</td>\n",
       "      <td>63</td>\n",
       "      <td>63 11374</td>\n",
       "    </tr>\n",
       "    <tr>\n",
       "      <th>9</th>\n",
       "      <td>BOULEVARD</td>\n",
       "      <td>ASTORIA</td>\n",
       "      <td>ASTORIA 11369</td>\n",
       "    </tr>\n",
       "    <tr>\n",
       "      <th>16</th>\n",
       "      <td>AVENUE</td>\n",
       "      <td>SUTTER</td>\n",
       "      <td>SUTTER 11208</td>\n",
       "    </tr>\n",
       "    <tr>\n",
       "      <th>22</th>\n",
       "      <td>HIGHWAY</td>\n",
       "      <td>KINGS</td>\n",
       "      <td>KINGS 11223</td>\n",
       "    </tr>\n",
       "    <tr>\n",
       "      <th>...</th>\n",
       "      <td>...</td>\n",
       "      <td>...</td>\n",
       "      <td>...</td>\n",
       "    </tr>\n",
       "    <tr>\n",
       "      <th>44613</th>\n",
       "      <td>ST</td>\n",
       "      <td>9TH</td>\n",
       "      <td>9TH 11101</td>\n",
       "    </tr>\n",
       "    <tr>\n",
       "      <th>44617</th>\n",
       "      <td>AVE</td>\n",
       "      <td>ROGERS</td>\n",
       "      <td>ROGERS 11216</td>\n",
       "    </tr>\n",
       "    <tr>\n",
       "      <th>44618</th>\n",
       "      <td>AVE</td>\n",
       "      <td>GRAND</td>\n",
       "      <td>GRAND 11378</td>\n",
       "    </tr>\n",
       "    <tr>\n",
       "      <th>44619</th>\n",
       "      <td>ST</td>\n",
       "      <td>E 48TH</td>\n",
       "      <td>E 48TH 10017</td>\n",
       "    </tr>\n",
       "    <tr>\n",
       "      <th>44629</th>\n",
       "      <td>ST</td>\n",
       "      <td>E 13TH</td>\n",
       "      <td>E 13TH 10009</td>\n",
       "    </tr>\n",
       "  </tbody>\n",
       "</table>\n",
       "<p>2814 rows × 3 columns</p>\n",
       "</div>"
      ],
      "text/plain": [
       "      STREET TYPE STREET BASE STREET BASE & ZIP\n",
       "0          AVENUE    FLATBUSH    FLATBUSH 11225\n",
       "5            ROAD          63          63 11374\n",
       "9       BOULEVARD     ASTORIA     ASTORIA 11369\n",
       "16         AVENUE      SUTTER      SUTTER 11208\n",
       "22        HIGHWAY       KINGS       KINGS 11223\n",
       "...           ...         ...               ...\n",
       "44613          ST         9TH         9TH 11101\n",
       "44617         AVE      ROGERS      ROGERS 11216\n",
       "44618         AVE       GRAND       GRAND 11378\n",
       "44619          ST      E 48TH      E 48TH 10017\n",
       "44629          ST      E 13TH      E 13TH 10009\n",
       "\n",
       "[2814 rows x 3 columns]"
      ]
     },
     "execution_count": 46,
     "metadata": {},
     "output_type": "execute_result"
    }
   ],
   "source": [
    "street"
   ]
  },
  {
   "cell_type": "code",
   "execution_count": 47,
   "id": "9200d301",
   "metadata": {},
   "outputs": [],
   "source": [
    "## Merge this table with itself using merge() on 'STREET BASE & ZIP' column\n",
    "street_merge = street.merge(street, \n",
    "                            left_on='STREET BASE & ZIP',\n",
    "                            right_on='STREET BASE & ZIP',\n",
    "                            suffixes=['_street1','_street2'])\n",
    "##suffixes for columns that have same name to distingush between the names"
   ]
  },
  {
   "cell_type": "code",
   "execution_count": 48,
   "id": "48d5c6f5",
   "metadata": {},
   "outputs": [
    {
     "data": {
      "text/html": [
       "<div>\n",
       "<style scoped>\n",
       "    .dataframe tbody tr th:only-of-type {\n",
       "        vertical-align: middle;\n",
       "    }\n",
       "\n",
       "    .dataframe tbody tr th {\n",
       "        vertical-align: top;\n",
       "    }\n",
       "\n",
       "    .dataframe thead th {\n",
       "        text-align: right;\n",
       "    }\n",
       "</style>\n",
       "<table border=\"1\" class=\"dataframe\">\n",
       "  <thead>\n",
       "    <tr style=\"text-align: right;\">\n",
       "      <th></th>\n",
       "      <th>STREET TYPE_street1</th>\n",
       "      <th>STREET BASE_street1</th>\n",
       "      <th>STREET BASE &amp; ZIP</th>\n",
       "      <th>STREET TYPE_street2</th>\n",
       "      <th>STREET BASE_street2</th>\n",
       "    </tr>\n",
       "  </thead>\n",
       "  <tbody>\n",
       "    <tr>\n",
       "      <th>0</th>\n",
       "      <td>AVENUE</td>\n",
       "      <td>FLATBUSH</td>\n",
       "      <td>FLATBUSH 11225</td>\n",
       "      <td>AVENUE</td>\n",
       "      <td>FLATBUSH</td>\n",
       "    </tr>\n",
       "    <tr>\n",
       "      <th>1</th>\n",
       "      <td>AVENUE</td>\n",
       "      <td>FLATBUSH</td>\n",
       "      <td>FLATBUSH 11225</td>\n",
       "      <td>AVE</td>\n",
       "      <td>FLATBUSH</td>\n",
       "    </tr>\n",
       "    <tr>\n",
       "      <th>2</th>\n",
       "      <td>AVE</td>\n",
       "      <td>FLATBUSH</td>\n",
       "      <td>FLATBUSH 11225</td>\n",
       "      <td>AVENUE</td>\n",
       "      <td>FLATBUSH</td>\n",
       "    </tr>\n",
       "    <tr>\n",
       "      <th>3</th>\n",
       "      <td>AVE</td>\n",
       "      <td>FLATBUSH</td>\n",
       "      <td>FLATBUSH 11225</td>\n",
       "      <td>AVE</td>\n",
       "      <td>FLATBUSH</td>\n",
       "    </tr>\n",
       "    <tr>\n",
       "      <th>4</th>\n",
       "      <td>ROAD</td>\n",
       "      <td>63</td>\n",
       "      <td>63 11374</td>\n",
       "      <td>ROAD</td>\n",
       "      <td>63</td>\n",
       "    </tr>\n",
       "    <tr>\n",
       "      <th>...</th>\n",
       "      <td>...</td>\n",
       "      <td>...</td>\n",
       "      <td>...</td>\n",
       "      <td>...</td>\n",
       "      <td>...</td>\n",
       "    </tr>\n",
       "    <tr>\n",
       "      <th>3703</th>\n",
       "      <td>AVE</td>\n",
       "      <td>GREENE</td>\n",
       "      <td>GREENE 11216</td>\n",
       "      <td>AVE</td>\n",
       "      <td>GREENE</td>\n",
       "    </tr>\n",
       "    <tr>\n",
       "      <th>3704</th>\n",
       "      <td>ST</td>\n",
       "      <td>9TH</td>\n",
       "      <td>9TH 11101</td>\n",
       "      <td>ST</td>\n",
       "      <td>9TH</td>\n",
       "    </tr>\n",
       "    <tr>\n",
       "      <th>3705</th>\n",
       "      <td>AVE</td>\n",
       "      <td>ROGERS</td>\n",
       "      <td>ROGERS 11216</td>\n",
       "      <td>AVE</td>\n",
       "      <td>ROGERS</td>\n",
       "    </tr>\n",
       "    <tr>\n",
       "      <th>3706</th>\n",
       "      <td>ST</td>\n",
       "      <td>E 48TH</td>\n",
       "      <td>E 48TH 10017</td>\n",
       "      <td>ST</td>\n",
       "      <td>E 48TH</td>\n",
       "    </tr>\n",
       "    <tr>\n",
       "      <th>3707</th>\n",
       "      <td>ST</td>\n",
       "      <td>E 13TH</td>\n",
       "      <td>E 13TH 10009</td>\n",
       "      <td>ST</td>\n",
       "      <td>E 13TH</td>\n",
       "    </tr>\n",
       "  </tbody>\n",
       "</table>\n",
       "<p>3708 rows × 5 columns</p>\n",
       "</div>"
      ],
      "text/plain": [
       "     STREET TYPE_street1 STREET BASE_street1 STREET BASE & ZIP  \\\n",
       "0                 AVENUE            FLATBUSH    FLATBUSH 11225   \n",
       "1                 AVENUE            FLATBUSH    FLATBUSH 11225   \n",
       "2                    AVE            FLATBUSH    FLATBUSH 11225   \n",
       "3                    AVE            FLATBUSH    FLATBUSH 11225   \n",
       "4                   ROAD                  63          63 11374   \n",
       "...                  ...                 ...               ...   \n",
       "3703                 AVE              GREENE      GREENE 11216   \n",
       "3704                  ST                 9TH         9TH 11101   \n",
       "3705                 AVE              ROGERS      ROGERS 11216   \n",
       "3706                  ST              E 48TH      E 48TH 10017   \n",
       "3707                  ST              E 13TH      E 13TH 10009   \n",
       "\n",
       "     STREET TYPE_street2 STREET BASE_street2  \n",
       "0                 AVENUE            FLATBUSH  \n",
       "1                    AVE            FLATBUSH  \n",
       "2                 AVENUE            FLATBUSH  \n",
       "3                    AVE            FLATBUSH  \n",
       "4                   ROAD                  63  \n",
       "...                  ...                 ...  \n",
       "3703                 AVE              GREENE  \n",
       "3704                  ST                 9TH  \n",
       "3705                 AVE              ROGERS  \n",
       "3706                  ST              E 48TH  \n",
       "3707                  ST              E 13TH  \n",
       "\n",
       "[3708 rows x 5 columns]"
      ]
     },
     "execution_count": 48,
     "metadata": {},
     "output_type": "execute_result"
    }
   ],
   "source": [
    "street_merge"
   ]
  },
  {
   "cell_type": "code",
   "execution_count": 57,
   "id": "650a2920",
   "metadata": {},
   "outputs": [
    {
     "data": {
      "text/html": [
       "<div>\n",
       "<style scoped>\n",
       "    .dataframe tbody tr th:only-of-type {\n",
       "        vertical-align: middle;\n",
       "    }\n",
       "\n",
       "    .dataframe tbody tr th {\n",
       "        vertical-align: top;\n",
       "    }\n",
       "\n",
       "    .dataframe thead th {\n",
       "        text-align: right;\n",
       "    }\n",
       "</style>\n",
       "<table border=\"1\" class=\"dataframe\">\n",
       "  <thead>\n",
       "    <tr style=\"text-align: right;\">\n",
       "      <th></th>\n",
       "      <th>STREET TYPE_street1</th>\n",
       "      <th>STREET BASE_street1</th>\n",
       "      <th>STREET BASE &amp; ZIP</th>\n",
       "      <th>STREET TYPE_street2</th>\n",
       "      <th>STREET BASE_street2</th>\n",
       "    </tr>\n",
       "  </thead>\n",
       "  <tbody>\n",
       "    <tr>\n",
       "      <th>1</th>\n",
       "      <td>AVENUE</td>\n",
       "      <td>FLATBUSH</td>\n",
       "      <td>FLATBUSH 11225</td>\n",
       "      <td>AVE</td>\n",
       "      <td>FLATBUSH</td>\n",
       "    </tr>\n",
       "    <tr>\n",
       "      <th>2</th>\n",
       "      <td>AVE</td>\n",
       "      <td>FLATBUSH</td>\n",
       "      <td>FLATBUSH 11225</td>\n",
       "      <td>AVENUE</td>\n",
       "      <td>FLATBUSH</td>\n",
       "    </tr>\n",
       "    <tr>\n",
       "      <th>5</th>\n",
       "      <td>ROAD</td>\n",
       "      <td>63</td>\n",
       "      <td>63 11374</td>\n",
       "      <td>DRIVE</td>\n",
       "      <td>63</td>\n",
       "    </tr>\n",
       "    <tr>\n",
       "      <th>6</th>\n",
       "      <td>DRIVE</td>\n",
       "      <td>63</td>\n",
       "      <td>63 11374</td>\n",
       "      <td>ROAD</td>\n",
       "      <td>63</td>\n",
       "    </tr>\n",
       "    <tr>\n",
       "      <th>12</th>\n",
       "      <td>AVENUE</td>\n",
       "      <td>CHURCH</td>\n",
       "      <td>CHURCH 11218</td>\n",
       "      <td>AVE</td>\n",
       "      <td>CHURCH</td>\n",
       "    </tr>\n",
       "    <tr>\n",
       "      <th>...</th>\n",
       "      <td>...</td>\n",
       "      <td>...</td>\n",
       "      <td>...</td>\n",
       "      <td>...</td>\n",
       "      <td>...</td>\n",
       "    </tr>\n",
       "    <tr>\n",
       "      <th>3338</th>\n",
       "      <td>AVENUE</td>\n",
       "      <td>PATCHEN</td>\n",
       "      <td>PATCHEN 11233</td>\n",
       "      <td>AVE</td>\n",
       "      <td>PATCHEN</td>\n",
       "    </tr>\n",
       "    <tr>\n",
       "      <th>3424</th>\n",
       "      <td>STREET</td>\n",
       "      <td>48</td>\n",
       "      <td>48 11101</td>\n",
       "      <td>AVENUE</td>\n",
       "      <td>48</td>\n",
       "    </tr>\n",
       "    <tr>\n",
       "      <th>3425</th>\n",
       "      <td>AVENUE</td>\n",
       "      <td>48</td>\n",
       "      <td>48 11101</td>\n",
       "      <td>STREET</td>\n",
       "      <td>48</td>\n",
       "    </tr>\n",
       "    <tr>\n",
       "      <th>3475</th>\n",
       "      <td>PARKWAY</td>\n",
       "      <td>HUTCHINSON RIVER</td>\n",
       "      <td>HUTCHINSON RIVER 10465</td>\n",
       "      <td>PKWY</td>\n",
       "      <td>HUTCHINSON RIVER</td>\n",
       "    </tr>\n",
       "    <tr>\n",
       "      <th>3476</th>\n",
       "      <td>PKWY</td>\n",
       "      <td>HUTCHINSON RIVER</td>\n",
       "      <td>HUTCHINSON RIVER 10465</td>\n",
       "      <td>PARKWAY</td>\n",
       "      <td>HUTCHINSON RIVER</td>\n",
       "    </tr>\n",
       "  </tbody>\n",
       "</table>\n",
       "<p>894 rows × 5 columns</p>\n",
       "</div>"
      ],
      "text/plain": [
       "     STREET TYPE_street1 STREET BASE_street1       STREET BASE & ZIP  \\\n",
       "1                 AVENUE            FLATBUSH          FLATBUSH 11225   \n",
       "2                    AVE            FLATBUSH          FLATBUSH 11225   \n",
       "5                   ROAD                  63                63 11374   \n",
       "6                  DRIVE                  63                63 11374   \n",
       "12                AVENUE              CHURCH            CHURCH 11218   \n",
       "...                  ...                 ...                     ...   \n",
       "3338              AVENUE             PATCHEN           PATCHEN 11233   \n",
       "3424              STREET                  48                48 11101   \n",
       "3425              AVENUE                  48                48 11101   \n",
       "3475             PARKWAY    HUTCHINSON RIVER  HUTCHINSON RIVER 10465   \n",
       "3476                PKWY    HUTCHINSON RIVER  HUTCHINSON RIVER 10465   \n",
       "\n",
       "     STREET TYPE_street2 STREET BASE_street2  \n",
       "1                    AVE            FLATBUSH  \n",
       "2                 AVENUE            FLATBUSH  \n",
       "5                  DRIVE                  63  \n",
       "6                   ROAD                  63  \n",
       "12                   AVE              CHURCH  \n",
       "...                  ...                 ...  \n",
       "3338                 AVE             PATCHEN  \n",
       "3424              AVENUE                  48  \n",
       "3425              STREET                  48  \n",
       "3475                PKWY    HUTCHINSON RIVER  \n",
       "3476             PARKWAY    HUTCHINSON RIVER  \n",
       "\n",
       "[894 rows x 5 columns]"
      ]
     },
     "execution_count": 57,
     "metadata": {},
     "output_type": "execute_result"
    }
   ],
   "source": [
    "## Pick only the rows where 'STREET TYPE' of first table is != 'STREET TYPE' from second table\n",
    "street_merge = street_merge[street_merge['STREET TYPE_street1']!=street_merge['STREET TYPE_street2']]\n",
    "street_merge"
   ]
  },
  {
   "cell_type": "code",
   "execution_count": 58,
   "id": "380ac9ee",
   "metadata": {},
   "outputs": [
    {
     "data": {
      "text/html": [
       "<div>\n",
       "<style scoped>\n",
       "    .dataframe tbody tr th:only-of-type {\n",
       "        vertical-align: middle;\n",
       "    }\n",
       "\n",
       "    .dataframe tbody tr th {\n",
       "        vertical-align: top;\n",
       "    }\n",
       "\n",
       "    .dataframe thead th {\n",
       "        text-align: right;\n",
       "    }\n",
       "</style>\n",
       "<table border=\"1\" class=\"dataframe\">\n",
       "  <thead>\n",
       "    <tr style=\"text-align: right;\">\n",
       "      <th>STREET TYPE_street2</th>\n",
       "      <th>A</th>\n",
       "      <th>AAVENUE</th>\n",
       "      <th>AIRPOR</th>\n",
       "      <th>AIRPORT</th>\n",
       "      <th>AVE</th>\n",
       "      <th>AVENUE</th>\n",
       "      <th>AVEUE</th>\n",
       "      <th>B</th>\n",
       "      <th>BLVD</th>\n",
       "      <th>BOULEARD</th>\n",
       "      <th>...</th>\n",
       "      <th>TERM8-A1</th>\n",
       "      <th>TERMINAL</th>\n",
       "      <th>TPKE</th>\n",
       "      <th>TURNPIKE</th>\n",
       "      <th>U</th>\n",
       "      <th>V</th>\n",
       "      <th>W</th>\n",
       "      <th>WEST</th>\n",
       "      <th>X</th>\n",
       "      <th>Z</th>\n",
       "    </tr>\n",
       "    <tr>\n",
       "      <th>STREET TYPE_street1</th>\n",
       "      <th></th>\n",
       "      <th></th>\n",
       "      <th></th>\n",
       "      <th></th>\n",
       "      <th></th>\n",
       "      <th></th>\n",
       "      <th></th>\n",
       "      <th></th>\n",
       "      <th></th>\n",
       "      <th></th>\n",
       "      <th></th>\n",
       "      <th></th>\n",
       "      <th></th>\n",
       "      <th></th>\n",
       "      <th></th>\n",
       "      <th></th>\n",
       "      <th></th>\n",
       "      <th></th>\n",
       "      <th></th>\n",
       "      <th></th>\n",
       "      <th></th>\n",
       "    </tr>\n",
       "  </thead>\n",
       "  <tbody>\n",
       "    <tr>\n",
       "      <th>A</th>\n",
       "      <td>0</td>\n",
       "      <td>0</td>\n",
       "      <td>0</td>\n",
       "      <td>0</td>\n",
       "      <td>0</td>\n",
       "      <td>0</td>\n",
       "      <td>0</td>\n",
       "      <td>2</td>\n",
       "      <td>0</td>\n",
       "      <td>0</td>\n",
       "      <td>...</td>\n",
       "      <td>0</td>\n",
       "      <td>0</td>\n",
       "      <td>0</td>\n",
       "      <td>0</td>\n",
       "      <td>0</td>\n",
       "      <td>0</td>\n",
       "      <td>0</td>\n",
       "      <td>0</td>\n",
       "      <td>0</td>\n",
       "      <td>0</td>\n",
       "    </tr>\n",
       "    <tr>\n",
       "      <th>AAVENUE</th>\n",
       "      <td>0</td>\n",
       "      <td>0</td>\n",
       "      <td>0</td>\n",
       "      <td>0</td>\n",
       "      <td>1</td>\n",
       "      <td>1</td>\n",
       "      <td>0</td>\n",
       "      <td>0</td>\n",
       "      <td>0</td>\n",
       "      <td>0</td>\n",
       "      <td>...</td>\n",
       "      <td>0</td>\n",
       "      <td>0</td>\n",
       "      <td>0</td>\n",
       "      <td>0</td>\n",
       "      <td>0</td>\n",
       "      <td>0</td>\n",
       "      <td>0</td>\n",
       "      <td>0</td>\n",
       "      <td>0</td>\n",
       "      <td>0</td>\n",
       "    </tr>\n",
       "    <tr>\n",
       "      <th>AIRPOR</th>\n",
       "      <td>0</td>\n",
       "      <td>0</td>\n",
       "      <td>0</td>\n",
       "      <td>1</td>\n",
       "      <td>0</td>\n",
       "      <td>0</td>\n",
       "      <td>0</td>\n",
       "      <td>0</td>\n",
       "      <td>0</td>\n",
       "      <td>0</td>\n",
       "      <td>...</td>\n",
       "      <td>0</td>\n",
       "      <td>0</td>\n",
       "      <td>0</td>\n",
       "      <td>0</td>\n",
       "      <td>0</td>\n",
       "      <td>0</td>\n",
       "      <td>0</td>\n",
       "      <td>0</td>\n",
       "      <td>0</td>\n",
       "      <td>0</td>\n",
       "    </tr>\n",
       "    <tr>\n",
       "      <th>AIRPORT</th>\n",
       "      <td>0</td>\n",
       "      <td>0</td>\n",
       "      <td>1</td>\n",
       "      <td>0</td>\n",
       "      <td>0</td>\n",
       "      <td>0</td>\n",
       "      <td>0</td>\n",
       "      <td>0</td>\n",
       "      <td>0</td>\n",
       "      <td>0</td>\n",
       "      <td>...</td>\n",
       "      <td>0</td>\n",
       "      <td>0</td>\n",
       "      <td>0</td>\n",
       "      <td>0</td>\n",
       "      <td>0</td>\n",
       "      <td>0</td>\n",
       "      <td>0</td>\n",
       "      <td>0</td>\n",
       "      <td>0</td>\n",
       "      <td>0</td>\n",
       "    </tr>\n",
       "    <tr>\n",
       "      <th>AVE</th>\n",
       "      <td>0</td>\n",
       "      <td>1</td>\n",
       "      <td>0</td>\n",
       "      <td>0</td>\n",
       "      <td>0</td>\n",
       "      <td>163</td>\n",
       "      <td>0</td>\n",
       "      <td>0</td>\n",
       "      <td>0</td>\n",
       "      <td>0</td>\n",
       "      <td>...</td>\n",
       "      <td>0</td>\n",
       "      <td>0</td>\n",
       "      <td>0</td>\n",
       "      <td>0</td>\n",
       "      <td>0</td>\n",
       "      <td>0</td>\n",
       "      <td>0</td>\n",
       "      <td>0</td>\n",
       "      <td>0</td>\n",
       "      <td>0</td>\n",
       "    </tr>\n",
       "    <tr>\n",
       "      <th>...</th>\n",
       "      <td>...</td>\n",
       "      <td>...</td>\n",
       "      <td>...</td>\n",
       "      <td>...</td>\n",
       "      <td>...</td>\n",
       "      <td>...</td>\n",
       "      <td>...</td>\n",
       "      <td>...</td>\n",
       "      <td>...</td>\n",
       "      <td>...</td>\n",
       "      <td>...</td>\n",
       "      <td>...</td>\n",
       "      <td>...</td>\n",
       "      <td>...</td>\n",
       "      <td>...</td>\n",
       "      <td>...</td>\n",
       "      <td>...</td>\n",
       "      <td>...</td>\n",
       "      <td>...</td>\n",
       "      <td>...</td>\n",
       "      <td>...</td>\n",
       "    </tr>\n",
       "    <tr>\n",
       "      <th>V</th>\n",
       "      <td>0</td>\n",
       "      <td>0</td>\n",
       "      <td>0</td>\n",
       "      <td>0</td>\n",
       "      <td>0</td>\n",
       "      <td>0</td>\n",
       "      <td>0</td>\n",
       "      <td>0</td>\n",
       "      <td>0</td>\n",
       "      <td>0</td>\n",
       "      <td>...</td>\n",
       "      <td>0</td>\n",
       "      <td>0</td>\n",
       "      <td>0</td>\n",
       "      <td>0</td>\n",
       "      <td>1</td>\n",
       "      <td>0</td>\n",
       "      <td>0</td>\n",
       "      <td>0</td>\n",
       "      <td>0</td>\n",
       "      <td>0</td>\n",
       "    </tr>\n",
       "    <tr>\n",
       "      <th>W</th>\n",
       "      <td>0</td>\n",
       "      <td>0</td>\n",
       "      <td>0</td>\n",
       "      <td>0</td>\n",
       "      <td>0</td>\n",
       "      <td>0</td>\n",
       "      <td>0</td>\n",
       "      <td>0</td>\n",
       "      <td>0</td>\n",
       "      <td>0</td>\n",
       "      <td>...</td>\n",
       "      <td>0</td>\n",
       "      <td>0</td>\n",
       "      <td>0</td>\n",
       "      <td>0</td>\n",
       "      <td>0</td>\n",
       "      <td>0</td>\n",
       "      <td>0</td>\n",
       "      <td>1</td>\n",
       "      <td>0</td>\n",
       "      <td>0</td>\n",
       "    </tr>\n",
       "    <tr>\n",
       "      <th>WEST</th>\n",
       "      <td>0</td>\n",
       "      <td>0</td>\n",
       "      <td>0</td>\n",
       "      <td>0</td>\n",
       "      <td>0</td>\n",
       "      <td>0</td>\n",
       "      <td>0</td>\n",
       "      <td>0</td>\n",
       "      <td>0</td>\n",
       "      <td>0</td>\n",
       "      <td>...</td>\n",
       "      <td>0</td>\n",
       "      <td>0</td>\n",
       "      <td>0</td>\n",
       "      <td>0</td>\n",
       "      <td>0</td>\n",
       "      <td>0</td>\n",
       "      <td>1</td>\n",
       "      <td>0</td>\n",
       "      <td>0</td>\n",
       "      <td>0</td>\n",
       "    </tr>\n",
       "    <tr>\n",
       "      <th>X</th>\n",
       "      <td>0</td>\n",
       "      <td>0</td>\n",
       "      <td>0</td>\n",
       "      <td>0</td>\n",
       "      <td>0</td>\n",
       "      <td>0</td>\n",
       "      <td>0</td>\n",
       "      <td>0</td>\n",
       "      <td>0</td>\n",
       "      <td>0</td>\n",
       "      <td>...</td>\n",
       "      <td>0</td>\n",
       "      <td>0</td>\n",
       "      <td>0</td>\n",
       "      <td>0</td>\n",
       "      <td>1</td>\n",
       "      <td>0</td>\n",
       "      <td>0</td>\n",
       "      <td>0</td>\n",
       "      <td>0</td>\n",
       "      <td>1</td>\n",
       "    </tr>\n",
       "    <tr>\n",
       "      <th>Z</th>\n",
       "      <td>0</td>\n",
       "      <td>0</td>\n",
       "      <td>0</td>\n",
       "      <td>0</td>\n",
       "      <td>0</td>\n",
       "      <td>0</td>\n",
       "      <td>0</td>\n",
       "      <td>0</td>\n",
       "      <td>0</td>\n",
       "      <td>0</td>\n",
       "      <td>...</td>\n",
       "      <td>0</td>\n",
       "      <td>0</td>\n",
       "      <td>0</td>\n",
       "      <td>0</td>\n",
       "      <td>0</td>\n",
       "      <td>0</td>\n",
       "      <td>0</td>\n",
       "      <td>0</td>\n",
       "      <td>1</td>\n",
       "      <td>0</td>\n",
       "    </tr>\n",
       "  </tbody>\n",
       "</table>\n",
       "<p>72 rows × 72 columns</p>\n",
       "</div>"
      ],
      "text/plain": [
       "STREET TYPE_street2  A  AAVENUE  AIRPOR  AIRPORT  AVE  AVENUE  AVEUE  B  BLVD  \\\n",
       "STREET TYPE_street1                                                             \n",
       "A                    0        0       0        0    0       0      0  2     0   \n",
       "AAVENUE              0        0       0        0    1       1      0  0     0   \n",
       "AIRPOR               0        0       0        1    0       0      0  0     0   \n",
       "AIRPORT              0        0       1        0    0       0      0  0     0   \n",
       "AVE                  0        1       0        0    0     163      0  0     0   \n",
       "...                 ..      ...     ...      ...  ...     ...    ... ..   ...   \n",
       "V                    0        0       0        0    0       0      0  0     0   \n",
       "W                    0        0       0        0    0       0      0  0     0   \n",
       "WEST                 0        0       0        0    0       0      0  0     0   \n",
       "X                    0        0       0        0    0       0      0  0     0   \n",
       "Z                    0        0       0        0    0       0      0  0     0   \n",
       "\n",
       "STREET TYPE_street2  BOULEARD  ...  TERM8-A1  TERMINAL  TPKE  TURNPIKE  U  V  \\\n",
       "STREET TYPE_street1            ...                                             \n",
       "A                           0  ...         0         0     0         0  0  0   \n",
       "AAVENUE                     0  ...         0         0     0         0  0  0   \n",
       "AIRPOR                      0  ...         0         0     0         0  0  0   \n",
       "AIRPORT                     0  ...         0         0     0         0  0  0   \n",
       "AVE                         0  ...         0         0     0         0  0  0   \n",
       "...                       ...  ...       ...       ...   ...       ... .. ..   \n",
       "V                           0  ...         0         0     0         0  1  0   \n",
       "W                           0  ...         0         0     0         0  0  0   \n",
       "WEST                        0  ...         0         0     0         0  0  0   \n",
       "X                           0  ...         0         0     0         0  1  0   \n",
       "Z                           0  ...         0         0     0         0  0  0   \n",
       "\n",
       "STREET TYPE_street2  W  WEST  X  Z  \n",
       "STREET TYPE_street1                 \n",
       "A                    0     0  0  0  \n",
       "AAVENUE              0     0  0  0  \n",
       "AIRPOR               0     0  0  0  \n",
       "AIRPORT              0     0  0  0  \n",
       "AVE                  0     0  0  0  \n",
       "...                 ..   ... .. ..  \n",
       "V                    0     0  0  0  \n",
       "W                    0     1  0  0  \n",
       "WEST                 1     0  0  0  \n",
       "X                    0     0  0  1  \n",
       "Z                    0     0  1  0  \n",
       "\n",
       "[72 rows x 72 columns]"
      ]
     },
     "execution_count": 58,
     "metadata": {},
     "output_type": "execute_result"
    }
   ],
   "source": [
    "##  Create a crosstab for the 'STREET TYPE' column of both tables\n",
    "st = pd.crosstab(index=street_merge['STREET TYPE_street1'], columns=street_merge['STREET TYPE_street2'])\n",
    "st"
   ]
  },
  {
   "cell_type": "code",
   "execution_count": 61,
   "id": "36d525f6",
   "metadata": {},
   "outputs": [
    {
     "name": "stdout",
     "output_type": "stream",
     "text": [
      "Most common street type for AVE: AVENUE\n",
      "Most common street type for ST: STREET\n",
      "Most common street type for RD: ROAD\n",
      "Most common street type for PL: PLACE\n",
      "Most common street type for BOULEARD: BLVD\n",
      "Most common street type for BULEVARD: BLVD\n"
     ]
    }
   ],
   "source": [
    "for st_type in ['AVE', 'ST', 'RD', 'PL', 'BOULEARD', 'BULEVARD']:\n",
    "    print (f'Most common street type for {st_type}: {st[st_type].idxmax()}')"
   ]
  },
  {
   "cell_type": "code",
   "execution_count": null,
   "id": "1a2a5f72",
   "metadata": {},
   "outputs": [],
   "source": []
  },
  {
   "cell_type": "markdown",
   "id": "5b7482f3",
   "metadata": {},
   "source": [
    "# END OF CODE"
   ]
  }
 ],
 "metadata": {
  "kernelspec": {
   "display_name": "Python 3",
   "language": "python",
   "name": "python3"
  },
  "language_info": {
   "codemirror_mode": {
    "name": "ipython",
    "version": 3
   },
   "file_extension": ".py",
   "mimetype": "text/x-python",
   "name": "python",
   "nbconvert_exporter": "python",
   "pygments_lexer": "ipython3",
   "version": "3.8.8"
  }
 },
 "nbformat": 4,
 "nbformat_minor": 5
}
