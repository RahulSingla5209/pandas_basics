{
 "cells": [
  {
   "cell_type": "code",
   "execution_count": 1,
   "id": "a09e3296",
   "metadata": {},
   "outputs": [],
   "source": [
    "import pandas as pd\n",
    "import numpy as np\n",
    "import matplotlib.pyplot as plt"
   ]
  },
  {
   "cell_type": "code",
   "execution_count": 2,
   "id": "15f26d13",
   "metadata": {},
   "outputs": [],
   "source": [
    "df=pd.read_csv('NYC_Restaurants.csv')"
   ]
  },
  {
   "cell_type": "code",
   "execution_count": 3,
   "id": "848e2e9a",
   "metadata": {},
   "outputs": [
    {
     "data": {
      "text/plain": [
       "Unnamed: 0                                                               0\n",
       "CAMIS                                                             30112340\n",
       "DBA                                                                WENDY'S\n",
       "BORO                                                              BROOKLYN\n",
       "BUILDING                                                               469\n",
       "STREET                                                     FLATBUSH AVENUE\n",
       "ZIPCODE                                                              11225\n",
       "PHONE                                                           7182875005\n",
       "CUISINE DESCRIPTION                                             Hamburgers\n",
       "INSPECTION DATE                                                 12/30/2014\n",
       "ACTION                     Violations were cited in the following area(s).\n",
       "VIOLATION CODE                                                         06C\n",
       "VIOLATION DESCRIPTION    Food not protected from potential source of co...\n",
       "CRITICAL FLAG                                                     Critical\n",
       "SCORE                                                                  8.0\n",
       "GRADE                                                                    A\n",
       "GRADE DATE                                                      12/30/2014\n",
       "RECORD DATE                                                     02/12/2015\n",
       "INSPECTION TYPE                           Cycle Inspection / Re-inspection\n",
       "Name: 0, dtype: object"
      ]
     },
     "execution_count": 3,
     "metadata": {},
     "output_type": "execute_result"
    }
   ],
   "source": [
    "df.shape\n",
    "df.head(2)\n",
    "df.iloc[0].T"
   ]
  },
  {
   "cell_type": "markdown",
   "id": "c4b89e4b",
   "metadata": {},
   "source": [
    "<h2 align='center'>Answer 1</h2>"
   ]
  },
  {
   "cell_type": "code",
   "execution_count": 4,
   "id": "f37faa4f",
   "metadata": {},
   "outputs": [],
   "source": [
    "def restraunt_name(s,col_tbu=['DBA','BUILDING','STREET','ZIPCODE','BORO'],sep=' '):\n",
    "    temp_lt=s[col_tbu].astype(str).to_list()\n",
    "    nm=sep.join(temp_lt)\n",
    "    return nm"
   ]
  },
  {
   "cell_type": "code",
   "execution_count": 5,
   "id": "68ba05fd",
   "metadata": {},
   "outputs": [],
   "source": [
    "df['RESTAURANT']=df.apply(restraunt_name,axis=1)"
   ]
  },
  {
   "cell_type": "code",
   "execution_count": 6,
   "id": "9ea381d8",
   "metadata": {},
   "outputs": [
    {
     "data": {
      "text/plain": [
       "0           WENDY'S 469 FLATBUSH AVENUE 11225 BROOKLYN\n",
       "1           WENDY'S 469 FLATBUSH AVENUE 11225 BROOKLYN\n",
       "2           WENDY'S 469 FLATBUSH AVENUE 11225 BROOKLYN\n",
       "3           WENDY'S 469 FLATBUSH AVENUE 11225 BROOKLYN\n",
       "4           WENDY'S 469 FLATBUSH AVENUE 11225 BROOKLYN\n",
       "5        TOV KOSHER KITCHEN 97-22 63 ROAD 11374 QUEENS\n",
       "6        TOV KOSHER KITCHEN 97-22 63 ROAD 11374 QUEENS\n",
       "7        TOV KOSHER KITCHEN 97-22 63 ROAD 11374 QUEENS\n",
       "8        TOV KOSHER KITCHEN 97-22 63 ROAD 11374 QUEENS\n",
       "9    BRUNOS ON THE BOULEVARD 8825 ASTORIA BOULEVARD...\n",
       "Name: RESTAURANT, dtype: object"
      ]
     },
     "execution_count": 6,
     "metadata": {},
     "output_type": "execute_result"
    }
   ],
   "source": [
    "df['RESTAURANT'].iloc[:10]"
   ]
  },
  {
   "cell_type": "markdown",
   "id": "9738635e",
   "metadata": {},
   "source": [
    "<h2 align='center'>Answer 2</h2>"
   ]
  },
  {
   "cell_type": "code",
   "execution_count": 7,
   "id": "c02085fb",
   "metadata": {},
   "outputs": [
    {
     "data": {
      "text/plain": [
       "array([\"WENDY'S 469 FLATBUSH AVENUE 11225 BROOKLYN\",\n",
       "       'TOV KOSHER KITCHEN 97-22 63 ROAD 11374 QUEENS',\n",
       "       'BRUNOS ON THE BOULEVARD 8825 ASTORIA BOULEVARD 11369 QUEENS', ...,\n",
       "       'NEW WORLD FAST FOOD 4021 MAIN ST 11354 QUEENS',\n",
       "       'EARLY 967 MANHATTAN AVE 11222 BROOKLYN',\n",
       "       'TESHIGOTOYA 432 E 13TH ST 10009 MANHATTAN'], dtype=object)"
      ]
     },
     "execution_count": 7,
     "metadata": {},
     "output_type": "execute_result"
    }
   ],
   "source": [
    "df['RESTAURANT'].unique()\n",
    "# df.drop_duplicates(subset=['RESTAURANT']).shape"
   ]
  },
  {
   "cell_type": "code",
   "execution_count": 8,
   "id": "21f9c42b",
   "metadata": {},
   "outputs": [],
   "source": [
    "# pd.Series([i for i in df['RESTAURANT'] if 'subway' in i.lower()]).shape\n",
    "# df['RESTAURANT'].drop_duplicates().shape\n",
    "# pd.Series([i for i in df['RESTAURANT'].unique() if 'subway' in i.lower()]).shape\n",
    "# pd.Series([i for i in df['RESTAURANT'] if 'subway' in i.lower()]).shape\n"
   ]
  },
  {
   "cell_type": "markdown",
   "id": "0aa9d909",
   "metadata": {},
   "source": [
    "<h2 align='center'>Answer 3</h2>\n"
   ]
  },
  {
   "cell_type": "code",
   "execution_count": 9,
   "id": "a0519c44",
   "metadata": {},
   "outputs": [],
   "source": [
    "df['address']=df.apply(lambda s:restraunt_name(s,col_tbu=['BUILDING','STREET','ZIPCODE','BORO']),axis=1)"
   ]
  },
  {
   "cell_type": "code",
   "execution_count": 10,
   "id": "ac0b9ac9",
   "metadata": {},
   "outputs": [
    {
     "data": {
      "text/plain": [
       "array([\"DUNKIN' DONUTS/SUBWAY\", 'SUBWAY', 'SUBWAYS/FULLER DRUG STORE',\n",
       "       \"PAPA JOHN'S/SUBWAY\", 'SUBWAY (STORE #27610)', 'SUBWAY SANDWICHES',\n",
       "       'Subway', 'SUBWAY STORE 46555', 'SUBWAYS',\n",
       "       'SUBWAY (Shopping Plaza)', 'SUBWAY (JAMAICA COLOSSEUM)', 'subway',\n",
       "       'SUBWAY RESTAURANT', 'SUBWAY AND PIZZA'], dtype=object)"
      ]
     },
     "execution_count": 10,
     "metadata": {},
     "output_type": "execute_result"
    }
   ],
   "source": [
    "df[df['DBA'].str.lower().str.contains('subway')]['DBA'].unique()"
   ]
  },
  {
   "cell_type": "code",
   "execution_count": 11,
   "id": "4336e6ee",
   "metadata": {},
   "outputs": [
    {
     "data": {
      "text/html": [
       "<div>\n",
       "<style scoped>\n",
       "    .dataframe tbody tr th:only-of-type {\n",
       "        vertical-align: middle;\n",
       "    }\n",
       "\n",
       "    .dataframe tbody tr th {\n",
       "        vertical-align: top;\n",
       "    }\n",
       "\n",
       "    .dataframe thead th {\n",
       "        text-align: right;\n",
       "    }\n",
       "</style>\n",
       "<table border=\"1\" class=\"dataframe\">\n",
       "  <thead>\n",
       "    <tr style=\"text-align: right;\">\n",
       "      <th></th>\n",
       "      <th>DBA</th>\n",
       "      <th>address</th>\n",
       "    </tr>\n",
       "  </thead>\n",
       "  <tbody>\n",
       "    <tr>\n",
       "      <th>0</th>\n",
       "      <td>subway</td>\n",
       "      <td>150</td>\n",
       "    </tr>\n",
       "    <tr>\n",
       "      <th>1</th>\n",
       "      <td>mcdonald's</td>\n",
       "      <td>80</td>\n",
       "    </tr>\n",
       "    <tr>\n",
       "      <th>2</th>\n",
       "      <td>starbucks coffee</td>\n",
       "      <td>78</td>\n",
       "    </tr>\n",
       "    <tr>\n",
       "      <th>3</th>\n",
       "      <td>dunkin donuts</td>\n",
       "      <td>71</td>\n",
       "    </tr>\n",
       "    <tr>\n",
       "      <th>4</th>\n",
       "      <td>dunkin' donuts</td>\n",
       "      <td>69</td>\n",
       "    </tr>\n",
       "    <tr>\n",
       "      <th>...</th>\n",
       "      <td>...</td>\n",
       "      <td>...</td>\n",
       "    </tr>\n",
       "    <tr>\n",
       "      <th>8762</th>\n",
       "      <td>fulton street bagels</td>\n",
       "      <td>1</td>\n",
       "    </tr>\n",
       "    <tr>\n",
       "      <th>8763</th>\n",
       "      <td>full moon cafe</td>\n",
       "      <td>1</td>\n",
       "    </tr>\n",
       "    <tr>\n",
       "      <th>8764</th>\n",
       "      <td>full doe bakery</td>\n",
       "      <td>1</td>\n",
       "    </tr>\n",
       "    <tr>\n",
       "      <th>8765</th>\n",
       "      <td>fuleen seafood restaurant</td>\n",
       "      <td>1</td>\n",
       "    </tr>\n",
       "    <tr>\n",
       "      <th>8766</th>\n",
       "      <td>zz's pizza &amp; grill</td>\n",
       "      <td>1</td>\n",
       "    </tr>\n",
       "  </tbody>\n",
       "</table>\n",
       "<p>8767 rows × 2 columns</p>\n",
       "</div>"
      ],
      "text/plain": [
       "                            DBA  address\n",
       "0                        subway      150\n",
       "1                    mcdonald's       80\n",
       "2              starbucks coffee       78\n",
       "3                 dunkin donuts       71\n",
       "4                dunkin' donuts       69\n",
       "...                         ...      ...\n",
       "8762       fulton street bagels        1\n",
       "8763             full moon cafe        1\n",
       "8764            full doe bakery        1\n",
       "8765  fuleen seafood restaurant        1\n",
       "8766         zz's pizza & grill        1\n",
       "\n",
       "[8767 rows x 2 columns]"
      ]
     },
     "execution_count": 11,
     "metadata": {},
     "output_type": "execute_result"
    }
   ],
   "source": [
    "df['DBA'].value_counts()\n",
    "df.groupby(df['DBA'].str.lower())['address'].agg(['nunique','size']).sort_values('size',ascending=False).reset_index()\n",
    "df.groupby(df['DBA'].str.lower())['address'].nunique().sort_values(ascending=False).reset_index()#agg(['nunique','len'])\n"
   ]
  },
  {
   "cell_type": "code",
   "execution_count": 12,
   "id": "498ae71f",
   "metadata": {},
   "outputs": [
    {
     "data": {
      "text/plain": [
       "(386, 1)"
      ]
     },
     "execution_count": 12,
     "metadata": {},
     "output_type": "execute_result"
    }
   ],
   "source": [
    "df['dba']=df['DBA'].str.upper()# in order to verify subway == Subway or subWAY\n",
    "df_chain=df[['dba','address']].dropna().drop_duplicates()['dba'].value_counts().to_frame('num_of_chains')\n",
    "df_chain[df_chain['num_of_chains']>1].shape"
   ]
  },
  {
   "cell_type": "markdown",
   "id": "4dcd779a",
   "metadata": {},
   "source": [
    "<h3>Ans= 386</h3>"
   ]
  },
  {
   "cell_type": "markdown",
   "id": "60484da3",
   "metadata": {},
   "source": [
    "<h2 align='center'>Answer 4</h2>\n"
   ]
  },
  {
   "cell_type": "code",
   "execution_count": 13,
   "id": "7ba8bc48",
   "metadata": {},
   "outputs": [
    {
     "data": {
      "text/plain": [
       "<AxesSubplot:ylabel='Number of Restraunts/Popularity'>"
      ]
     },
     "execution_count": 13,
     "metadata": {},
     "output_type": "execute_result"
    },
    {
     "data": {
      "image/png": "[encoded data removed]",
      "text/plain": [
       "<Figure size 1440x576 with 1 Axes>"
      ]
     },
     "metadata": {
      "needs_background": "light"
     },
     "output_type": "display_data"
    }
   ],
   "source": [
    "df_chain.iloc[:20].plot(kind='bar',figsize=(20,8),ylabel='Number of Restraunts/Popularity')\n",
    "#df_chain is already sorted by value_count function"
   ]
  },
  {
   "cell_type": "markdown",
   "id": "e25d5893",
   "metadata": {},
   "source": [
    "<h2 align='center'>Answer 5</h2>\n"
   ]
  },
  {
   "cell_type": "code",
   "execution_count": 14,
   "id": "0859ee61",
   "metadata": {},
   "outputs": [
    {
     "data": {
      "text/plain": [
       "386"
      ]
     },
     "execution_count": 14,
     "metadata": {},
     "output_type": "execute_result"
    }
   ],
   "source": [
    "chain_res=df_chain[df_chain['num_of_chains']>1].index.to_list()\n",
    "len(set(chain_res))==len(chain_res)\n",
    "len(chain_res)"
   ]
  },
  {
   "cell_type": "code",
   "execution_count": 15,
   "id": "4f896b2e",
   "metadata": {},
   "outputs": [],
   "source": [
    "def chain_mask(nm):\n",
    "    if nm.upper() in chain_res:\n",
    "        return True\n",
    "    else:\n",
    "        return False"
   ]
  },
  {
   "cell_type": "code",
   "execution_count": 16,
   "id": "91851bf2",
   "metadata": {},
   "outputs": [
    {
     "data": {
      "text/plain": [
       "1733"
      ]
     },
     "execution_count": 16,
     "metadata": {},
     "output_type": "execute_result"
    }
   ],
   "source": [
    "mask_1=df['DBA'].map(chain_mask)\n",
    "\n",
    "df1=df[mask_1][['BORO','RESTAURANT']].drop_duplicates()\n",
    "df1.shape[0]\n"
   ]
  },
  {
   "cell_type": "code",
   "execution_count": 17,
   "id": "36e4e083",
   "metadata": {},
   "outputs": [
    {
     "data": {
      "text/plain": [
       "0.17134664821040144"
      ]
     },
     "execution_count": 17,
     "metadata": {},
     "output_type": "execute_result"
    }
   ],
   "source": [
    "df1['RESTAURANT'].nunique()/df['RESTAURANT'].nunique()"
   ]
  },
  {
   "cell_type": "markdown",
   "id": "b4626127",
   "metadata": {},
   "source": [
    "<h3 >Ans=0.1713 </h3>"
   ]
  },
  {
   "cell_type": "markdown",
   "id": "c852c164",
   "metadata": {},
   "source": [
    "<h2 align='center'>Answer 6</h2>\n"
   ]
  },
  {
   "cell_type": "code",
   "execution_count": 18,
   "id": "ffd1a37b",
   "metadata": {},
   "outputs": [
    {
     "data": {
      "text/plain": [
       "8381"
      ]
     },
     "execution_count": 18,
     "metadata": {},
     "output_type": "execute_result"
    }
   ],
   "source": [
    "non_chain_res=df_chain[df_chain['num_of_chains']==1].index.to_list()\n",
    "len(non_chain_res)"
   ]
  },
  {
   "cell_type": "code",
   "execution_count": 19,
   "id": "5d549283",
   "metadata": {},
   "outputs": [
    {
     "data": {
      "text/plain": [
       "MANHATTAN        17943\n",
       "BROOKLYN         11141\n",
       "QUEENS           10513\n",
       "BRONX             3465\n",
       "STATEN ISLAND     1542\n",
       "Name: BORO, dtype: int64"
      ]
     },
     "execution_count": 19,
     "metadata": {},
     "output_type": "execute_result"
    }
   ],
   "source": [
    "df['BORO'].value_counts()\n",
    "df['BORO'].replace({'Missing':np.nan},inplace=True)# There is no Boro named missing, we need to avoid these in our analysis\n",
    "df['BORO'].value_counts()\n",
    "\n"
   ]
  },
  {
   "cell_type": "code",
   "execution_count": 20,
   "id": "c753a0fa",
   "metadata": {},
   "outputs": [],
   "source": [
    "def non_chain_mask(nm):\n",
    "    if nm.upper() in non_chain_res:\n",
    "        return True\n",
    "    else:\n",
    "        return False"
   ]
  },
  {
   "cell_type": "code",
   "execution_count": 21,
   "id": "1595246e",
   "metadata": {},
   "outputs": [
    {
     "data": {
      "text/plain": [
       "BORO          5\n",
       "RESTAURANT    0\n",
       "dtype: int64"
      ]
     },
     "execution_count": 21,
     "metadata": {},
     "output_type": "execute_result"
    }
   ],
   "source": [
    "mask_1=df['DBA'].map(non_chain_mask)\n",
    "\n",
    "df_boro_non_chain=df[mask_1][['BORO','RESTAURANT']].drop_duplicates()\n",
    "\n",
    "df_boro_non_chain.isna().sum()"
   ]
  },
  {
   "cell_type": "code",
   "execution_count": 22,
   "id": "d9628685",
   "metadata": {},
   "outputs": [
    {
     "data": {
      "text/plain": [
       "<AxesSubplot:>"
      ]
     },
     "execution_count": 22,
     "metadata": {},
     "output_type": "execute_result"
    },
    {
     "data": {
      "image/png": "[encoded data removed]",
      "text/plain": [
       "<Figure size 1440x576 with 1 Axes>"
      ]
     },
     "metadata": {
      "needs_background": "light"
     },
     "output_type": "display_data"
    }
   ],
   "source": [
    "df_boro_non_chain['BORO'].value_counts().plot(kind='bar',figsize=(20,8))"
   ]
  },
  {
   "cell_type": "markdown",
   "id": "04008bb5",
   "metadata": {},
   "source": [
    "<h2 align='center'>Answer 7</h2>\n"
   ]
  },
  {
   "cell_type": "code",
   "execution_count": 23,
   "id": "e2dfe53e",
   "metadata": {},
   "outputs": [
    {
     "data": {
      "text/plain": [
       "(10114, 2)"
      ]
     },
     "execution_count": 23,
     "metadata": {},
     "output_type": "execute_result"
    }
   ],
   "source": [
    "df_boro_res=df[['BORO','RESTAURANT']].drop_duplicates()\n",
    "df_boro_res.shape"
   ]
  },
  {
   "cell_type": "code",
   "execution_count": 24,
   "id": "987d32fa",
   "metadata": {},
   "outputs": [
    {
     "data": {
      "text/plain": [
       "<AxesSubplot:>"
      ]
     },
     "execution_count": 24,
     "metadata": {},
     "output_type": "execute_result"
    },
    {
     "data": {
      "image/png": "[encoded data removed]",
      "text/plain": [
       "<Figure size 432x288 with 1 Axes>"
      ]
     },
     "metadata": {
      "needs_background": "light"
     },
     "output_type": "display_data"
    }
   ],
   "source": [
    "df_boro_non_chain_frac=df_boro_non_chain['BORO'].value_counts()/df_boro_res['BORO'].value_counts()\n",
    "df_boro_non_chain_frac.sort_values(ascending=False).plot(kind='bar')"
   ]
  },
  {
   "cell_type": "code",
   "execution_count": 25,
   "id": "a487f595",
   "metadata": {},
   "outputs": [
    {
     "data": {
      "text/plain": [
       "<AxesSubplot:>"
      ]
     },
     "execution_count": 25,
     "metadata": {},
     "output_type": "execute_result"
    },
    {
     "data": {
      "image/png": "[encoded data removed]",
      "text/plain": [
       "<Figure size 1440x576 with 2 Axes>"
      ]
     },
     "metadata": {
      "needs_background": "light"
     },
     "output_type": "display_data"
    }
   ],
   "source": [
    "f,ax=plt.subplots(1,2,figsize=(20,8))\n",
    "df_boro_non_chain_frac.plot(kind='bar',ax=ax[0])\n",
    "df_boro_non_chain['BORO'].value_counts().plot(kind='bar',ax=ax[1])"
   ]
  },
  {
   "cell_type": "code",
   "execution_count": 26,
   "id": "ba456fd7",
   "metadata": {},
   "outputs": [
    {
     "data": {
      "text/html": [
       "<div>\n",
       "<style scoped>\n",
       "    .dataframe tbody tr th:only-of-type {\n",
       "        vertical-align: middle;\n",
       "    }\n",
       "\n",
       "    .dataframe tbody tr th {\n",
       "        vertical-align: top;\n",
       "    }\n",
       "\n",
       "    .dataframe thead th {\n",
       "        text-align: right;\n",
       "    }\n",
       "</style>\n",
       "<table border=\"1\" class=\"dataframe\">\n",
       "  <thead>\n",
       "    <tr style=\"text-align: right;\">\n",
       "      <th></th>\n",
       "      <th>Independent count</th>\n",
       "      <th>Independent FRAC</th>\n",
       "    </tr>\n",
       "  </thead>\n",
       "  <tbody>\n",
       "    <tr>\n",
       "      <th>MANHATTAN</th>\n",
       "      <td>3292</td>\n",
       "      <td>0.822794</td>\n",
       "    </tr>\n",
       "    <tr>\n",
       "      <th>BROOKLYN</th>\n",
       "      <td>2161</td>\n",
       "      <td>0.854488</td>\n",
       "    </tr>\n",
       "    <tr>\n",
       "      <th>QUEENS</th>\n",
       "      <td>1966</td>\n",
       "      <td>0.847049</td>\n",
       "    </tr>\n",
       "    <tr>\n",
       "      <th>BRONX</th>\n",
       "      <td>645</td>\n",
       "      <td>0.754386</td>\n",
       "    </tr>\n",
       "    <tr>\n",
       "      <th>STATEN ISLAND</th>\n",
       "      <td>312</td>\n",
       "      <td>0.791878</td>\n",
       "    </tr>\n",
       "  </tbody>\n",
       "</table>\n",
       "</div>"
      ],
      "text/plain": [
       "               Independent count  Independent FRAC\n",
       "MANHATTAN                   3292          0.822794\n",
       "BROOKLYN                    2161          0.854488\n",
       "QUEENS                      1966          0.847049\n",
       "BRONX                        645          0.754386\n",
       "STATEN ISLAND                312          0.791878"
      ]
     },
     "execution_count": 26,
     "metadata": {},
     "output_type": "execute_result"
    }
   ],
   "source": [
    "pd.concat([df_boro_non_chain['BORO'].value_counts().to_frame('Independent count')\\\n",
    "           ,df_boro_non_chain_frac.to_frame('Independent FRAC')],axis=1)"
   ]
  },
  {
   "cell_type": "markdown",
   "id": "a6d8280e",
   "metadata": {},
   "source": [
    "<h4>Ans =\n",
    "Manhattan has the most number of independent restaurants , whereas Brooklyn has highest fraction of independent restraunts</h4>"
   ]
  },
  {
   "cell_type": "markdown",
   "id": "e9b21c6d",
   "metadata": {},
   "source": [
    "<h2 align='center'>Answer 8</h2>\n"
   ]
  },
  {
   "cell_type": "code",
   "execution_count": 27,
   "id": "d6affd1c",
   "metadata": {},
   "outputs": [
    {
     "data": {
      "image/png": "[encoded data removed]",
      "text/plain": [
       "<Figure size 1440x576 with 1 Axes>"
      ]
     },
     "metadata": {
      "needs_background": "light"
     },
     "output_type": "display_data"
    }
   ],
   "source": [
    "df['cuisine']=df['CUISINE DESCRIPTION'].str.upper()\n",
    "df1=df[['cuisine','RESTAURANT']].drop_duplicates()\n",
    "df1.shape\n",
    "\n",
    "df1['cuisine'].value_counts()[:20].plot(kind='bar',figsize=(20,8),rot=45)\n",
    "\n",
    "df_all_cuisine=df1['cuisine'].value_counts().to_frame('num_restaurants')"
   ]
  },
  {
   "cell_type": "markdown",
   "id": "4f0906a6",
   "metadata": {},
   "source": [
    "<h2 align='center'>Answer 9</h2>\n"
   ]
  },
  {
   "cell_type": "code",
   "execution_count": 28,
   "id": "bf85cf47",
   "metadata": {},
   "outputs": [
    {
     "data": {
      "text/html": [
       "<div>\n",
       "<style scoped>\n",
       "    .dataframe tbody tr th:only-of-type {\n",
       "        vertical-align: middle;\n",
       "    }\n",
       "\n",
       "    .dataframe tbody tr th {\n",
       "        vertical-align: top;\n",
       "    }\n",
       "\n",
       "    .dataframe thead th {\n",
       "        text-align: right;\n",
       "    }\n",
       "</style>\n",
       "<table border=\"1\" class=\"dataframe\">\n",
       "  <thead>\n",
       "    <tr style=\"text-align: right;\">\n",
       "      <th></th>\n",
       "      <th>VIOLATION CODE</th>\n",
       "      <th>VIOLATION DESCRIPTION</th>\n",
       "      <th>ACTION</th>\n",
       "    </tr>\n",
       "  </thead>\n",
       "  <tbody>\n",
       "    <tr>\n",
       "      <th>0</th>\n",
       "      <td>06C</td>\n",
       "      <td>Food not protected from potential source of co...</td>\n",
       "      <td>Violations were cited in the following area(s).</td>\n",
       "    </tr>\n",
       "    <tr>\n",
       "      <th>1</th>\n",
       "      <td>10F</td>\n",
       "      <td>Non-food contact surface improperly constructe...</td>\n",
       "      <td>Violations were cited in the following area(s).</td>\n",
       "    </tr>\n",
       "    <tr>\n",
       "      <th>2</th>\n",
       "      <td>04H</td>\n",
       "      <td>Raw, cooked or prepared food is adulterated, c...</td>\n",
       "      <td>Violations were cited in the following area(s).</td>\n",
       "    </tr>\n",
       "    <tr>\n",
       "      <th>3</th>\n",
       "      <td>06A</td>\n",
       "      <td>Personal cleanliness inadequate. Outer garment...</td>\n",
       "      <td>Violations were cited in the following area(s).</td>\n",
       "    </tr>\n",
       "    <tr>\n",
       "      <th>4</th>\n",
       "      <td>10F</td>\n",
       "      <td>Non-food contact surface improperly constructe...</td>\n",
       "      <td>Violations were cited in the following area(s).</td>\n",
       "    </tr>\n",
       "    <tr>\n",
       "      <th>...</th>\n",
       "      <td>...</td>\n",
       "      <td>...</td>\n",
       "      <td>...</td>\n",
       "    </tr>\n",
       "    <tr>\n",
       "      <th>44628</th>\n",
       "      <td>NaN</td>\n",
       "      <td>NaN</td>\n",
       "      <td>No violations were recorded at the time of thi...</td>\n",
       "    </tr>\n",
       "    <tr>\n",
       "      <th>44629</th>\n",
       "      <td>NaN</td>\n",
       "      <td>NaN</td>\n",
       "      <td>No violations were recorded at the time of thi...</td>\n",
       "    </tr>\n",
       "    <tr>\n",
       "      <th>44630</th>\n",
       "      <td>04L</td>\n",
       "      <td>Evidence of mice or live mice present in facil...</td>\n",
       "      <td>Violations were cited in the following area(s).</td>\n",
       "    </tr>\n",
       "    <tr>\n",
       "      <th>44631</th>\n",
       "      <td>08A</td>\n",
       "      <td>Facility not vermin proof. Harborage or condit...</td>\n",
       "      <td>Violations were cited in the following area(s).</td>\n",
       "    </tr>\n",
       "    <tr>\n",
       "      <th>44632</th>\n",
       "      <td>10B</td>\n",
       "      <td>Plumbing not properly installed or maintained;...</td>\n",
       "      <td>Violations were cited in the following area(s).</td>\n",
       "    </tr>\n",
       "  </tbody>\n",
       "</table>\n",
       "<p>44633 rows × 3 columns</p>\n",
       "</div>"
      ],
      "text/plain": [
       "      VIOLATION CODE                              VIOLATION DESCRIPTION  \\\n",
       "0                06C  Food not protected from potential source of co...   \n",
       "1                10F  Non-food contact surface improperly constructe...   \n",
       "2                04H  Raw, cooked or prepared food is adulterated, c...   \n",
       "3                06A  Personal cleanliness inadequate. Outer garment...   \n",
       "4                10F  Non-food contact surface improperly constructe...   \n",
       "...              ...                                                ...   \n",
       "44628            NaN                                                NaN   \n",
       "44629            NaN                                                NaN   \n",
       "44630            04L  Evidence of mice or live mice present in facil...   \n",
       "44631            08A  Facility not vermin proof. Harborage or condit...   \n",
       "44632            10B  Plumbing not properly installed or maintained;...   \n",
       "\n",
       "                                                  ACTION  \n",
       "0        Violations were cited in the following area(s).  \n",
       "1        Violations were cited in the following area(s).  \n",
       "2        Violations were cited in the following area(s).  \n",
       "3        Violations were cited in the following area(s).  \n",
       "4        Violations were cited in the following area(s).  \n",
       "...                                                  ...  \n",
       "44628  No violations were recorded at the time of thi...  \n",
       "44629  No violations were recorded at the time of thi...  \n",
       "44630    Violations were cited in the following area(s).  \n",
       "44631    Violations were cited in the following area(s).  \n",
       "44632    Violations were cited in the following area(s).  \n",
       "\n",
       "[44633 rows x 3 columns]"
      ]
     },
     "execution_count": 28,
     "metadata": {},
     "output_type": "execute_result"
    }
   ],
   "source": [
    "df.columns\n",
    "df[[i for i in df.columns if 'violation' in i.lower()]+['ACTION']]\n",
    "#Nan violation code and no violation description for clean/no violation actions"
   ]
  },
  {
   "cell_type": "code",
   "execution_count": 29,
   "id": "d47e0ec1",
   "metadata": {},
   "outputs": [
    {
     "data": {
      "image/png": "[encoded data removed]",
      "text/plain": [
       "<Figure size 1440x576 with 1 Axes>"
      ]
     },
     "metadata": {
      "needs_background": "light"
     },
     "output_type": "display_data"
    }
   ],
   "source": [
    "df_clean=df[df['VIOLATION CODE'].isna()]\n",
    "df_temp=df_clean[['cuisine','RESTAURANT']].drop_duplicates()\n",
    "\n",
    "df_temp['cuisine'].value_counts()[:20].plot(kind='bar',figsize=(20,8))#,rot=-30)\n",
    "\n",
    "df_clean_cuisine=df_temp['cuisine'].value_counts().to_frame('num_restaurants')\n"
   ]
  },
  {
   "cell_type": "markdown",
   "id": "c88d1cd7",
   "metadata": {},
   "source": [
    "<h2 align='center'>Answer 10</h2>\n"
   ]
  },
  {
   "cell_type": "code",
   "execution_count": 30,
   "id": "f94fa3f4",
   "metadata": {},
   "outputs": [
    {
     "data": {
      "text/plain": [
       "Index(['AMERICAN ', 'CHINESE', 'CAFÉ/COFFEE/TEA', 'PIZZA', 'ITALIAN',\n",
       "       'LATIN (CUBAN, DOMINICAN, PUERTO RICAN, SOUTH & CENTRAL AMERICAN)',\n",
       "       'JAPANESE', 'MEXICAN', 'BAKERY', 'SPANISH', 'CARIBBEAN',\n",
       "       'PIZZA/ITALIAN', 'DONUTS', 'HAMBURGERS', 'SANDWICHES', 'CHICKEN',\n",
       "       'DELICATESSEN', 'FRENCH', 'ASIAN', 'JEWISH/KOSHER', 'INDIAN', 'THAI',\n",
       "       'KOREAN', 'SANDWICHES/SALADS/MIXED BUFFET', 'OTHER',\n",
       "       'JUICE, SMOOTHIES, FRUIT SALADS', 'MEDITERRANEAN', 'MIDDLE EASTERN',\n",
       "       'ICE CREAM, GELATO, YOGURT, ICES', 'IRISH', 'BAGELS/PRETZELS',\n",
       "       'TEX-MEX', 'GREEK', 'SEAFOOD', 'VEGETARIAN', 'RUSSIAN', 'STEAK',\n",
       "       'TURKISH', 'CHINESE/JAPANESE', 'VIETNAMESE/CAMBODIAN/MALAYSIA',\n",
       "       'PERUVIAN', 'AFRICAN',\n",
       "       'BOTTLED BEVERAGES, INCLUDING WATER, SODAS, JUICES, ETC.',\n",
       "       'EASTERN EUROPEAN', 'SOUL FOOD', 'CONTINENTAL', 'SOUPS & SANDWICHES',\n",
       "       'BARBECUE', 'BANGLADESHI'],\n",
       "      dtype='object')"
      ]
     },
     "execution_count": 30,
     "metadata": {},
     "output_type": "execute_result"
    }
   ],
   "source": [
    "res_tbu=df_all_cuisine[df_all_cuisine['num_restaurants']>=20].index\n",
    "res_tbu"
   ]
  },
  {
   "cell_type": "code",
   "execution_count": 31,
   "id": "6e31360f",
   "metadata": {},
   "outputs": [
    {
     "data": {
      "text/plain": [
       "BANGLADESHI                      0.150000\n",
       "RUSSIAN                          0.111111\n",
       "PERUVIAN                         0.107143\n",
       "SOUPS & SANDWICHES               0.095238\n",
       "CONTINENTAL                      0.095238\n",
       "BARBECUE                         0.095238\n",
       "VIETNAMESE/CAMBODIAN/MALAYSIA    0.093750\n",
       "SOUL FOOD                        0.090909\n",
       "FRENCH                           0.089041\n",
       "TEX-MEX                          0.086207\n",
       "Name: num_restaurants, dtype: float64"
      ]
     },
     "execution_count": 31,
     "metadata": {},
     "output_type": "execute_result"
    }
   ],
   "source": [
    "# df_clean_cuisine.loc[res_tbu,'num_restaurants']\n",
    "df_temp=df_clean_cuisine[df_clean_cuisine.index.isin(res_tbu)]\n",
    "\n",
    "df_ratio=df_temp['num_restaurants']/df_all_cuisine['num_restaurants']\n",
    "\n",
    "df_ratio.sort_values(ascending=False).iloc[:10]#Top ten cuisines wrt ratio of clean to tatal number of restaurants"
   ]
  },
  {
   "cell_type": "markdown",
   "id": "d3939497",
   "metadata": {},
   "source": [
    "<h2 align='center'>Answer 11</h2>\n"
   ]
  },
  {
   "cell_type": "code",
   "execution_count": 32,
   "id": "18df0aec",
   "metadata": {},
   "outputs": [
    {
     "data": {
      "text/html": [
       "<div>\n",
       "<style scoped>\n",
       "    .dataframe tbody tr th:only-of-type {\n",
       "        vertical-align: middle;\n",
       "    }\n",
       "\n",
       "    .dataframe tbody tr th {\n",
       "        vertical-align: top;\n",
       "    }\n",
       "\n",
       "    .dataframe thead th {\n",
       "        text-align: right;\n",
       "    }\n",
       "</style>\n",
       "<table border=\"1\" class=\"dataframe\">\n",
       "  <thead>\n",
       "    <tr style=\"text-align: right;\">\n",
       "      <th>VIOLATION DESCRIPTION</th>\n",
       "      <th>\u001aChoking first aid\u001a poster not posted. \u001aAlcohol and pregnancy\u001a warning sign not posted. Resuscitation equipment: exhaled air resuscitation masks (adult &amp; pediatric), latex gloves, sign not posted. Inspection report sign not posted.</th>\n",
       "      <th>''''No Smoking\u001a and/or 'Smoking Permitted\u001a sign not conspicuously posted. Health warning not present on 'Smoking Permitted\u001a</th>\n",
       "      <th>''''Wash hands\u001a sign not posted at hand wash facility.</th>\n",
       "      <th>A food containing artificial trans fat, with 0.5 grams or more of trans fat per serving, is being stored, distributed, held for service, used in preparation of a menu item, or served.</th>\n",
       "      <th>Accurate thermometer not provided in refrigerated or hot holding equipment.</th>\n",
       "      <th>Appropriately scaled metal stem-type thermometer or thermocouple not provided or used to evaluate temperatures of potentially hazardous foods during cooking, cooling, reheating and holding.</th>\n",
       "      <th>Ashtray present in smoke-free area.</th>\n",
       "      <th>Bulb not shielded or shatterproof, in areas where there is extreme heat, temperature changes, or where accidental contact may occur.</th>\n",
       "      <th>Caloric content not posted on menus, menu boards or food tags, in a food service establishment that is 1 of 15 or more outlets operating the same type of business nationally under common ownership or control, or as a franchise or doing business under the same name, for each menu item that is served in portions, the size and content of which are standardized.</th>\n",
       "      <th>Caloric content range (minimum to maximum) not posted on menus and or menu boards for each flavor, variety and size of each menu item that is offered for sale in different flavors, varieties and sizes.</th>\n",
       "      <th>...</th>\n",
       "      <th>Smoke free workplace smoking policy inadequate, not posted, not provided to employees.</th>\n",
       "      <th>Thawing procedures improper.</th>\n",
       "      <th>The original nutritional fact labels and/or ingredient label for a cooking oil, shortening or margarine or food item sold in bulk, or acceptable manufacturer\u001as documentation not maintained on site.</th>\n",
       "      <th>Tobacco use, eating, or drinking from open container in food preparation, food storage or dishwashing area observed.</th>\n",
       "      <th>Toilet facility not maintained and provided with toilet paper, waste receptacle and self-closing door.</th>\n",
       "      <th>Toilet facility not provided for employees or for patrons when required.</th>\n",
       "      <th>Toilet facility used by women does not have at least one covered garbage receptacle.</th>\n",
       "      <th>Toxic chemical improperly labeled, stored or used such that food contamination may occur.</th>\n",
       "      <th>Unprotected food re-served.</th>\n",
       "      <th>Wiping cloths soiled or not stored in sanitizing solution.</th>\n",
       "    </tr>\n",
       "    <tr>\n",
       "      <th>BORO</th>\n",
       "      <th></th>\n",
       "      <th></th>\n",
       "      <th></th>\n",
       "      <th></th>\n",
       "      <th></th>\n",
       "      <th></th>\n",
       "      <th></th>\n",
       "      <th></th>\n",
       "      <th></th>\n",
       "      <th></th>\n",
       "      <th></th>\n",
       "      <th></th>\n",
       "      <th></th>\n",
       "      <th></th>\n",
       "      <th></th>\n",
       "      <th></th>\n",
       "      <th></th>\n",
       "      <th></th>\n",
       "      <th></th>\n",
       "      <th></th>\n",
       "      <th></th>\n",
       "    </tr>\n",
       "  </thead>\n",
       "  <tbody>\n",
       "    <tr>\n",
       "      <th>BRONX</th>\n",
       "      <td>12.0</td>\n",
       "      <td>1.0</td>\n",
       "      <td>21.0</td>\n",
       "      <td>5.0</td>\n",
       "      <td>21.0</td>\n",
       "      <td>27.0</td>\n",
       "      <td>4.0</td>\n",
       "      <td>20.0</td>\n",
       "      <td>0.0</td>\n",
       "      <td>0.0</td>\n",
       "      <td>...</td>\n",
       "      <td>45.0</td>\n",
       "      <td>36.0</td>\n",
       "      <td>48.0</td>\n",
       "      <td>22.0</td>\n",
       "      <td>46.0</td>\n",
       "      <td>2.0</td>\n",
       "      <td>1.0</td>\n",
       "      <td>2.0</td>\n",
       "      <td>1.0</td>\n",
       "      <td>47.0</td>\n",
       "    </tr>\n",
       "    <tr>\n",
       "      <th>BROOKLYN</th>\n",
       "      <td>40.0</td>\n",
       "      <td>5.0</td>\n",
       "      <td>57.0</td>\n",
       "      <td>12.0</td>\n",
       "      <td>76.0</td>\n",
       "      <td>120.0</td>\n",
       "      <td>4.0</td>\n",
       "      <td>93.0</td>\n",
       "      <td>4.0</td>\n",
       "      <td>0.0</td>\n",
       "      <td>...</td>\n",
       "      <td>222.0</td>\n",
       "      <td>109.0</td>\n",
       "      <td>125.0</td>\n",
       "      <td>55.0</td>\n",
       "      <td>142.0</td>\n",
       "      <td>3.0</td>\n",
       "      <td>5.0</td>\n",
       "      <td>8.0</td>\n",
       "      <td>0.0</td>\n",
       "      <td>198.0</td>\n",
       "    </tr>\n",
       "    <tr>\n",
       "      <th>MANHATTAN</th>\n",
       "      <td>49.0</td>\n",
       "      <td>6.0</td>\n",
       "      <td>93.0</td>\n",
       "      <td>19.0</td>\n",
       "      <td>98.0</td>\n",
       "      <td>162.0</td>\n",
       "      <td>5.0</td>\n",
       "      <td>168.0</td>\n",
       "      <td>6.0</td>\n",
       "      <td>0.0</td>\n",
       "      <td>...</td>\n",
       "      <td>264.0</td>\n",
       "      <td>151.0</td>\n",
       "      <td>198.0</td>\n",
       "      <td>107.0</td>\n",
       "      <td>225.0</td>\n",
       "      <td>11.0</td>\n",
       "      <td>7.0</td>\n",
       "      <td>15.0</td>\n",
       "      <td>1.0</td>\n",
       "      <td>285.0</td>\n",
       "    </tr>\n",
       "    <tr>\n",
       "      <th>QUEENS</th>\n",
       "      <td>29.0</td>\n",
       "      <td>4.0</td>\n",
       "      <td>60.0</td>\n",
       "      <td>24.0</td>\n",
       "      <td>92.0</td>\n",
       "      <td>85.0</td>\n",
       "      <td>8.0</td>\n",
       "      <td>80.0</td>\n",
       "      <td>5.0</td>\n",
       "      <td>1.0</td>\n",
       "      <td>...</td>\n",
       "      <td>154.0</td>\n",
       "      <td>100.0</td>\n",
       "      <td>151.0</td>\n",
       "      <td>64.0</td>\n",
       "      <td>134.0</td>\n",
       "      <td>3.0</td>\n",
       "      <td>2.0</td>\n",
       "      <td>20.0</td>\n",
       "      <td>0.0</td>\n",
       "      <td>168.0</td>\n",
       "    </tr>\n",
       "    <tr>\n",
       "      <th>STATEN ISLAND</th>\n",
       "      <td>5.0</td>\n",
       "      <td>1.0</td>\n",
       "      <td>8.0</td>\n",
       "      <td>3.0</td>\n",
       "      <td>16.0</td>\n",
       "      <td>17.0</td>\n",
       "      <td>1.0</td>\n",
       "      <td>10.0</td>\n",
       "      <td>1.0</td>\n",
       "      <td>0.0</td>\n",
       "      <td>...</td>\n",
       "      <td>22.0</td>\n",
       "      <td>23.0</td>\n",
       "      <td>25.0</td>\n",
       "      <td>7.0</td>\n",
       "      <td>14.0</td>\n",
       "      <td>1.0</td>\n",
       "      <td>1.0</td>\n",
       "      <td>3.0</td>\n",
       "      <td>0.0</td>\n",
       "      <td>25.0</td>\n",
       "    </tr>\n",
       "  </tbody>\n",
       "</table>\n",
       "<p>5 rows × 1722 columns</p>\n",
       "</div>"
      ],
      "text/plain": [
       "VIOLATION DESCRIPTION  \u001aChoking first aid\u001a poster not posted. \u001aAlcohol and pregnancy\u001a warning sign not posted. Resuscitation equipment: exhaled air resuscitation masks (adult & pediatric), latex gloves, sign not posted. Inspection report sign not posted.  \\\n",
       "BORO                                                                                                                                                                                                                                                             \n",
       "BRONX                                                               12.0                                                                                                                                                                                         \n",
       "BROOKLYN                                                            40.0                                                                                                                                                                                         \n",
       "MANHATTAN                                                           49.0                                                                                                                                                                                         \n",
       "QUEENS                                                              29.0                                                                                                                                                                                         \n",
       "STATEN ISLAND                                                        5.0                                                                                                                                                                                         \n",
       "\n",
       "VIOLATION DESCRIPTION  ''''No Smoking\u001a and/or 'Smoking Permitted\u001a sign not conspicuously posted. Health warning not present on 'Smoking Permitted\u001a  \\\n",
       "BORO                                                                                                                                                 \n",
       "BRONX                                                                1.0                                                                             \n",
       "BROOKLYN                                                             5.0                                                                             \n",
       "MANHATTAN                                                            6.0                                                                             \n",
       "QUEENS                                                               4.0                                                                             \n",
       "STATEN ISLAND                                                        1.0                                                                             \n",
       "\n",
       "VIOLATION DESCRIPTION  ''''Wash hands\u001a sign not posted at hand wash facility.  \\\n",
       "BORO                                                                            \n",
       "BRONX                                                               21.0        \n",
       "BROOKLYN                                                            57.0        \n",
       "MANHATTAN                                                           93.0        \n",
       "QUEENS                                                              60.0        \n",
       "STATEN ISLAND                                                        8.0        \n",
       "\n",
       "VIOLATION DESCRIPTION  A food containing artificial trans fat, with 0.5 grams or more of trans fat per serving, is being stored, distributed, held for service, used in preparation of a menu item, or served.  \\\n",
       "BORO                                                                                                                                                                                                             \n",
       "BRONX                                                                5.0                                                                                                                                         \n",
       "BROOKLYN                                                            12.0                                                                                                                                         \n",
       "MANHATTAN                                                           19.0                                                                                                                                         \n",
       "QUEENS                                                              24.0                                                                                                                                         \n",
       "STATEN ISLAND                                                        3.0                                                                                                                                         \n",
       "\n",
       "VIOLATION DESCRIPTION  Accurate thermometer not provided in refrigerated or hot holding equipment.  \\\n",
       "BORO                                                                                                 \n",
       "BRONX                                                               21.0                             \n",
       "BROOKLYN                                                            76.0                             \n",
       "MANHATTAN                                                           98.0                             \n",
       "QUEENS                                                              92.0                             \n",
       "STATEN ISLAND                                                       16.0                             \n",
       "\n",
       "VIOLATION DESCRIPTION  Appropriately scaled metal stem-type thermometer or thermocouple not provided or used to evaluate temperatures of potentially hazardous foods during cooking, cooling, reheating and holding.  \\\n",
       "BORO                                                                                                                                                                                                                   \n",
       "BRONX                                                               27.0                                                                                                                                               \n",
       "BROOKLYN                                                           120.0                                                                                                                                               \n",
       "MANHATTAN                                                          162.0                                                                                                                                               \n",
       "QUEENS                                                              85.0                                                                                                                                               \n",
       "STATEN ISLAND                                                       17.0                                                                                                                                               \n",
       "\n",
       "VIOLATION DESCRIPTION  Ashtray present in smoke-free area.  \\\n",
       "BORO                                                         \n",
       "BRONX                                                  4.0   \n",
       "BROOKLYN                                               4.0   \n",
       "MANHATTAN                                              5.0   \n",
       "QUEENS                                                 8.0   \n",
       "STATEN ISLAND                                          1.0   \n",
       "\n",
       "VIOLATION DESCRIPTION  Bulb not shielded or shatterproof, in areas where there is extreme heat, temperature changes, or where accidental contact may occur.  \\\n",
       "BORO                                                                                                                                                          \n",
       "BRONX                                                               20.0                                                                                      \n",
       "BROOKLYN                                                            93.0                                                                                      \n",
       "MANHATTAN                                                          168.0                                                                                      \n",
       "QUEENS                                                              80.0                                                                                      \n",
       "STATEN ISLAND                                                       10.0                                                                                      \n",
       "\n",
       "VIOLATION DESCRIPTION  Caloric content not posted on menus, menu boards or food tags, in a food service establishment that is 1 of 15 or more outlets operating the same type of business nationally under common ownership or control, or as a franchise or doing business under the same name, for each menu item that is served in portions, the size and content of which are standardized.  \\\n",
       "BORO                                                                                                                                                                                                                                                                                                                                                                                              \n",
       "BRONX                                                                0.0                                                                                                                                                                                                                                                                                                                          \n",
       "BROOKLYN                                                             4.0                                                                                                                                                                                                                                                                                                                          \n",
       "MANHATTAN                                                            6.0                                                                                                                                                                                                                                                                                                                          \n",
       "QUEENS                                                               5.0                                                                                                                                                                                                                                                                                                                          \n",
       "STATEN ISLAND                                                        1.0                                                                                                                                                                                                                                                                                                                          \n",
       "\n",
       "VIOLATION DESCRIPTION  Caloric content range (minimum to maximum) not posted on menus and or menu boards for each flavor, variety and size of each menu item that is offered for sale in different flavors, varieties and sizes.  \\\n",
       "BORO                                                                                                                                                                                                                               \n",
       "BRONX                                                                0.0                                                                                                                                                           \n",
       "BROOKLYN                                                             0.0                                                                                                                                                           \n",
       "MANHATTAN                                                            0.0                                                                                                                                                           \n",
       "QUEENS                                                               1.0                                                                                                                                                           \n",
       "STATEN ISLAND                                                        0.0                                                                                                                                                           \n",
       "\n",
       "VIOLATION DESCRIPTION  ...  \\\n",
       "BORO                   ...   \n",
       "BRONX                  ...   \n",
       "BROOKLYN               ...   \n",
       "MANHATTAN              ...   \n",
       "QUEENS                 ...   \n",
       "STATEN ISLAND          ...   \n",
       "\n",
       "VIOLATION DESCRIPTION  Smoke free workplace smoking policy inadequate, not posted, not provided to employees.  \\\n",
       "BORO                                                                                                            \n",
       "BRONX                                                               45.0                                        \n",
       "BROOKLYN                                                           222.0                                        \n",
       "MANHATTAN                                                          264.0                                        \n",
       "QUEENS                                                             154.0                                        \n",
       "STATEN ISLAND                                                       22.0                                        \n",
       "\n",
       "VIOLATION DESCRIPTION  Thawing procedures improper.  \\\n",
       "BORO                                                  \n",
       "BRONX                                          36.0   \n",
       "BROOKLYN                                      109.0   \n",
       "MANHATTAN                                     151.0   \n",
       "QUEENS                                        100.0   \n",
       "STATEN ISLAND                                  23.0   \n",
       "\n",
       "VIOLATION DESCRIPTION  The original nutritional fact labels and/or ingredient label for a cooking oil, shortening or margarine or food item sold in bulk, or acceptable manufacturer\u001as documentation not maintained on site.  \\\n",
       "BORO                                                                                                                                                                                                                           \n",
       "BRONX                                                               48.0                                                                                                                                                       \n",
       "BROOKLYN                                                           125.0                                                                                                                                                       \n",
       "MANHATTAN                                                          198.0                                                                                                                                                       \n",
       "QUEENS                                                             151.0                                                                                                                                                       \n",
       "STATEN ISLAND                                                       25.0                                                                                                                                                       \n",
       "\n",
       "VIOLATION DESCRIPTION  Tobacco use, eating, or drinking from open container in food preparation, food storage or dishwashing area observed.  \\\n",
       "BORO                                                                                                                                          \n",
       "BRONX                                                               22.0                                                                      \n",
       "BROOKLYN                                                            55.0                                                                      \n",
       "MANHATTAN                                                          107.0                                                                      \n",
       "QUEENS                                                              64.0                                                                      \n",
       "STATEN ISLAND                                                        7.0                                                                      \n",
       "\n",
       "VIOLATION DESCRIPTION  Toilet facility not maintained and provided with toilet paper, waste receptacle and self-closing door.  \\\n",
       "BORO                                                                                                                            \n",
       "BRONX                                                               46.0                                                        \n",
       "BROOKLYN                                                           142.0                                                        \n",
       "MANHATTAN                                                          225.0                                                        \n",
       "QUEENS                                                             134.0                                                        \n",
       "STATEN ISLAND                                                       14.0                                                        \n",
       "\n",
       "VIOLATION DESCRIPTION  Toilet facility not provided for employees or for patrons when required.  \\\n",
       "BORO                                                                                              \n",
       "BRONX                                                                2.0                          \n",
       "BROOKLYN                                                             3.0                          \n",
       "MANHATTAN                                                           11.0                          \n",
       "QUEENS                                                               3.0                          \n",
       "STATEN ISLAND                                                        1.0                          \n",
       "\n",
       "VIOLATION DESCRIPTION  Toilet facility used by women does not have at least one covered garbage receptacle.  \\\n",
       "BORO                                                                                                          \n",
       "BRONX                                                                1.0                                      \n",
       "BROOKLYN                                                             5.0                                      \n",
       "MANHATTAN                                                            7.0                                      \n",
       "QUEENS                                                               2.0                                      \n",
       "STATEN ISLAND                                                        1.0                                      \n",
       "\n",
       "VIOLATION DESCRIPTION  Toxic chemical improperly labeled, stored or used such that food contamination may occur.  \\\n",
       "BORO                                                                                                               \n",
       "BRONX                                                                2.0                                           \n",
       "BROOKLYN                                                             8.0                                           \n",
       "MANHATTAN                                                           15.0                                           \n",
       "QUEENS                                                              20.0                                           \n",
       "STATEN ISLAND                                                        3.0                                           \n",
       "\n",
       "VIOLATION DESCRIPTION  Unprotected food re-served.  \\\n",
       "BORO                                                 \n",
       "BRONX                                          1.0   \n",
       "BROOKLYN                                       0.0   \n",
       "MANHATTAN                                      1.0   \n",
       "QUEENS                                         0.0   \n",
       "STATEN ISLAND                                  0.0   \n",
       "\n",
       "VIOLATION DESCRIPTION  Wiping cloths soiled or not stored in sanitizing solution.  \n",
       "BORO                                                                               \n",
       "BRONX                                                               47.0           \n",
       "BROOKLYN                                                           198.0           \n",
       "MANHATTAN                                                          285.0           \n",
       "QUEENS                                                             168.0           \n",
       "STATEN ISLAND                                                       25.0           \n",
       "\n",
       "[5 rows x 1722 columns]"
      ]
     },
     "execution_count": 32,
     "metadata": {},
     "output_type": "execute_result"
    }
   ],
   "source": [
    "df1=df.groupby(['BORO','VIOLATION DESCRIPTION'])['Unnamed: 0'].count().to_frame('ct_violations').unstack(level=-1)\n",
    "df1=pd.pivot_table(df,index='BORO',columns=['VIOLATION DESCRIPTION'],aggfunc=len).fillna(0)#.sort_values('BRONX',axis=1,ascending=False)\n",
    "\n",
    "df1.columns = df1.columns.get_level_values(1)\n",
    "df1"
   ]
  },
  {
   "cell_type": "code",
   "execution_count": 33,
   "id": "6c0e9877",
   "metadata": {},
   "outputs": [
    {
     "data": {
      "text/html": [
       "<div>\n",
       "<style scoped>\n",
       "    .dataframe tbody tr th:only-of-type {\n",
       "        vertical-align: middle;\n",
       "    }\n",
       "\n",
       "    .dataframe tbody tr th {\n",
       "        vertical-align: top;\n",
       "    }\n",
       "\n",
       "    .dataframe thead th {\n",
       "        text-align: right;\n",
       "    }\n",
       "</style>\n",
       "<table border=\"1\" class=\"dataframe\">\n",
       "  <thead>\n",
       "    <tr style=\"text-align: right;\">\n",
       "      <th></th>\n",
       "      <th>most_frequent_violation</th>\n",
       "    </tr>\n",
       "    <tr>\n",
       "      <th>BORO</th>\n",
       "      <th></th>\n",
       "    </tr>\n",
       "  </thead>\n",
       "  <tbody>\n",
       "    <tr>\n",
       "      <th>BRONX</th>\n",
       "      <td>Non-food contact surface improperly constructe...</td>\n",
       "    </tr>\n",
       "    <tr>\n",
       "      <th>BROOKLYN</th>\n",
       "      <td>Non-food contact surface improperly constructe...</td>\n",
       "    </tr>\n",
       "    <tr>\n",
       "      <th>MANHATTAN</th>\n",
       "      <td>Non-food contact surface improperly constructe...</td>\n",
       "    </tr>\n",
       "    <tr>\n",
       "      <th>QUEENS</th>\n",
       "      <td>Non-food contact surface improperly constructe...</td>\n",
       "    </tr>\n",
       "    <tr>\n",
       "      <th>STATEN ISLAND</th>\n",
       "      <td>Non-food contact surface improperly constructe...</td>\n",
       "    </tr>\n",
       "  </tbody>\n",
       "</table>\n",
       "</div>"
      ],
      "text/plain": [
       "                                         most_frequent_violation\n",
       "BORO                                                            \n",
       "BRONX          Non-food contact surface improperly constructe...\n",
       "BROOKLYN       Non-food contact surface improperly constructe...\n",
       "MANHATTAN      Non-food contact surface improperly constructe...\n",
       "QUEENS         Non-food contact surface improperly constructe...\n",
       "STATEN ISLAND  Non-food contact surface improperly constructe..."
      ]
     },
     "execution_count": 33,
     "metadata": {},
     "output_type": "execute_result"
    }
   ],
   "source": [
    "df1.apply(lambda s: s.idxmax(),axis=1).to_frame('most_frequent_violation')"
   ]
  },
  {
   "cell_type": "markdown",
   "id": "8f0f174d",
   "metadata": {},
   "source": [
    "<h2 align='center'>Answer 12</h2>\n"
   ]
  },
  {
   "cell_type": "code",
   "execution_count": 34,
   "id": "8251430b",
   "metadata": {},
   "outputs": [
    {
     "data": {
      "text/html": [
       "<div>\n",
       "<style scoped>\n",
       "    .dataframe tbody tr th:only-of-type {\n",
       "        vertical-align: middle;\n",
       "    }\n",
       "\n",
       "    .dataframe tbody tr th {\n",
       "        vertical-align: top;\n",
       "    }\n",
       "\n",
       "    .dataframe thead th {\n",
       "        text-align: right;\n",
       "    }\n",
       "</style>\n",
       "<table border=\"1\" class=\"dataframe\">\n",
       "  <thead>\n",
       "    <tr style=\"text-align: right;\">\n",
       "      <th>VIOLATION DESCRIPTION</th>\n",
       "      <th>\u001aChoking first aid\u001a poster not posted. \u001aAlcohol and pregnancy\u001a warning sign not posted. Resuscitation equipment: exhaled air resuscitation masks (adult &amp; pediatric), latex gloves, sign not posted. Inspection report sign not posted.</th>\n",
       "      <th>''''No Smoking\u001a and/or 'Smoking Permitted\u001a sign not conspicuously posted. Health warning not present on 'Smoking Permitted\u001a</th>\n",
       "      <th>''''Wash hands\u001a sign not posted at hand wash facility.</th>\n",
       "      <th>A food containing artificial trans fat, with 0.5 grams or more of trans fat per serving, is being stored, distributed, held for service, used in preparation of a menu item, or served.</th>\n",
       "      <th>Accurate thermometer not provided in refrigerated or hot holding equipment.</th>\n",
       "      <th>Appropriately scaled metal stem-type thermometer or thermocouple not provided or used to evaluate temperatures of potentially hazardous foods during cooking, cooling, reheating and holding.</th>\n",
       "      <th>Ashtray present in smoke-free area.</th>\n",
       "      <th>Bulb not shielded or shatterproof, in areas where there is extreme heat, temperature changes, or where accidental contact may occur.</th>\n",
       "      <th>Caloric content not posted on menus, menu boards or food tags, in a food service establishment that is 1 of 15 or more outlets operating the same type of business nationally under common ownership or control, or as a franchise or doing business under the same name, for each menu item that is served in portions, the size and content of which are standardized.</th>\n",
       "      <th>Caloric content range (minimum to maximum) not posted on menus and or menu boards for each flavor, variety and size of each menu item that is offered for sale in different flavors, varieties and sizes.</th>\n",
       "      <th>...</th>\n",
       "      <th>Smoke free workplace smoking policy inadequate, not posted, not provided to employees.</th>\n",
       "      <th>Thawing procedures improper.</th>\n",
       "      <th>The original nutritional fact labels and/or ingredient label for a cooking oil, shortening or margarine or food item sold in bulk, or acceptable manufacturer\u001as documentation not maintained on site.</th>\n",
       "      <th>Tobacco use, eating, or drinking from open container in food preparation, food storage or dishwashing area observed.</th>\n",
       "      <th>Toilet facility not maintained and provided with toilet paper, waste receptacle and self-closing door.</th>\n",
       "      <th>Toilet facility not provided for employees or for patrons when required.</th>\n",
       "      <th>Toilet facility used by women does not have at least one covered garbage receptacle.</th>\n",
       "      <th>Toxic chemical improperly labeled, stored or used such that food contamination may occur.</th>\n",
       "      <th>Unprotected food re-served.</th>\n",
       "      <th>Wiping cloths soiled or not stored in sanitizing solution.</th>\n",
       "    </tr>\n",
       "    <tr>\n",
       "      <th>BORO</th>\n",
       "      <th></th>\n",
       "      <th></th>\n",
       "      <th></th>\n",
       "      <th></th>\n",
       "      <th></th>\n",
       "      <th></th>\n",
       "      <th></th>\n",
       "      <th></th>\n",
       "      <th></th>\n",
       "      <th></th>\n",
       "      <th></th>\n",
       "      <th></th>\n",
       "      <th></th>\n",
       "      <th></th>\n",
       "      <th></th>\n",
       "      <th></th>\n",
       "      <th></th>\n",
       "      <th></th>\n",
       "      <th></th>\n",
       "      <th></th>\n",
       "      <th></th>\n",
       "    </tr>\n",
       "  </thead>\n",
       "  <tbody>\n",
       "    <tr>\n",
       "      <th>BRONX</th>\n",
       "      <td>0.088889</td>\n",
       "      <td>0.058824</td>\n",
       "      <td>0.087866</td>\n",
       "      <td>0.079365</td>\n",
       "      <td>0.069307</td>\n",
       "      <td>0.065693</td>\n",
       "      <td>0.181818</td>\n",
       "      <td>0.053908</td>\n",
       "      <td>0.0000</td>\n",
       "      <td>0.0</td>\n",
       "      <td>...</td>\n",
       "      <td>0.063649</td>\n",
       "      <td>0.085919</td>\n",
       "      <td>0.087751</td>\n",
       "      <td>0.086275</td>\n",
       "      <td>0.081996</td>\n",
       "      <td>0.10</td>\n",
       "      <td>0.0625</td>\n",
       "      <td>0.041667</td>\n",
       "      <td>0.5</td>\n",
       "      <td>0.065007</td>\n",
       "    </tr>\n",
       "    <tr>\n",
       "      <th>BROOKLYN</th>\n",
       "      <td>0.296296</td>\n",
       "      <td>0.294118</td>\n",
       "      <td>0.238494</td>\n",
       "      <td>0.190476</td>\n",
       "      <td>0.250825</td>\n",
       "      <td>0.291971</td>\n",
       "      <td>0.181818</td>\n",
       "      <td>0.250674</td>\n",
       "      <td>0.2500</td>\n",
       "      <td>0.0</td>\n",
       "      <td>...</td>\n",
       "      <td>0.314003</td>\n",
       "      <td>0.260143</td>\n",
       "      <td>0.228519</td>\n",
       "      <td>0.215686</td>\n",
       "      <td>0.253119</td>\n",
       "      <td>0.15</td>\n",
       "      <td>0.3125</td>\n",
       "      <td>0.166667</td>\n",
       "      <td>0.0</td>\n",
       "      <td>0.273859</td>\n",
       "    </tr>\n",
       "    <tr>\n",
       "      <th>MANHATTAN</th>\n",
       "      <td>0.362963</td>\n",
       "      <td>0.352941</td>\n",
       "      <td>0.389121</td>\n",
       "      <td>0.301587</td>\n",
       "      <td>0.323432</td>\n",
       "      <td>0.394161</td>\n",
       "      <td>0.227273</td>\n",
       "      <td>0.452830</td>\n",
       "      <td>0.3750</td>\n",
       "      <td>0.0</td>\n",
       "      <td>...</td>\n",
       "      <td>0.373409</td>\n",
       "      <td>0.360382</td>\n",
       "      <td>0.361974</td>\n",
       "      <td>0.419608</td>\n",
       "      <td>0.401070</td>\n",
       "      <td>0.55</td>\n",
       "      <td>0.4375</td>\n",
       "      <td>0.312500</td>\n",
       "      <td>0.5</td>\n",
       "      <td>0.394191</td>\n",
       "    </tr>\n",
       "    <tr>\n",
       "      <th>QUEENS</th>\n",
       "      <td>0.214815</td>\n",
       "      <td>0.235294</td>\n",
       "      <td>0.251046</td>\n",
       "      <td>0.380952</td>\n",
       "      <td>0.303630</td>\n",
       "      <td>0.206813</td>\n",
       "      <td>0.363636</td>\n",
       "      <td>0.215633</td>\n",
       "      <td>0.3125</td>\n",
       "      <td>1.0</td>\n",
       "      <td>...</td>\n",
       "      <td>0.217822</td>\n",
       "      <td>0.238663</td>\n",
       "      <td>0.276051</td>\n",
       "      <td>0.250980</td>\n",
       "      <td>0.238859</td>\n",
       "      <td>0.15</td>\n",
       "      <td>0.1250</td>\n",
       "      <td>0.416667</td>\n",
       "      <td>0.0</td>\n",
       "      <td>0.232365</td>\n",
       "    </tr>\n",
       "    <tr>\n",
       "      <th>STATEN ISLAND</th>\n",
       "      <td>0.037037</td>\n",
       "      <td>0.058824</td>\n",
       "      <td>0.033473</td>\n",
       "      <td>0.047619</td>\n",
       "      <td>0.052805</td>\n",
       "      <td>0.041363</td>\n",
       "      <td>0.045455</td>\n",
       "      <td>0.026954</td>\n",
       "      <td>0.0625</td>\n",
       "      <td>0.0</td>\n",
       "      <td>...</td>\n",
       "      <td>0.031117</td>\n",
       "      <td>0.054893</td>\n",
       "      <td>0.045704</td>\n",
       "      <td>0.027451</td>\n",
       "      <td>0.024955</td>\n",
       "      <td>0.05</td>\n",
       "      <td>0.0625</td>\n",
       "      <td>0.062500</td>\n",
       "      <td>0.0</td>\n",
       "      <td>0.034578</td>\n",
       "    </tr>\n",
       "  </tbody>\n",
       "</table>\n",
       "<p>5 rows × 1722 columns</p>\n",
       "</div>"
      ],
      "text/plain": [
       "VIOLATION DESCRIPTION  \u001aChoking first aid\u001a poster not posted. \u001aAlcohol and pregnancy\u001a warning sign not posted. Resuscitation equipment: exhaled air resuscitation masks (adult & pediatric), latex gloves, sign not posted. Inspection report sign not posted.  \\\n",
       "BORO                                                                                                                                                                                                                                                             \n",
       "BRONX                                                           0.088889                                                                                                                                                                                         \n",
       "BROOKLYN                                                        0.296296                                                                                                                                                                                         \n",
       "MANHATTAN                                                       0.362963                                                                                                                                                                                         \n",
       "QUEENS                                                          0.214815                                                                                                                                                                                         \n",
       "STATEN ISLAND                                                   0.037037                                                                                                                                                                                         \n",
       "\n",
       "VIOLATION DESCRIPTION  ''''No Smoking\u001a and/or 'Smoking Permitted\u001a sign not conspicuously posted. Health warning not present on 'Smoking Permitted\u001a  \\\n",
       "BORO                                                                                                                                                 \n",
       "BRONX                                                           0.058824                                                                             \n",
       "BROOKLYN                                                        0.294118                                                                             \n",
       "MANHATTAN                                                       0.352941                                                                             \n",
       "QUEENS                                                          0.235294                                                                             \n",
       "STATEN ISLAND                                                   0.058824                                                                             \n",
       "\n",
       "VIOLATION DESCRIPTION  ''''Wash hands\u001a sign not posted at hand wash facility.  \\\n",
       "BORO                                                                            \n",
       "BRONX                                                           0.087866        \n",
       "BROOKLYN                                                        0.238494        \n",
       "MANHATTAN                                                       0.389121        \n",
       "QUEENS                                                          0.251046        \n",
       "STATEN ISLAND                                                   0.033473        \n",
       "\n",
       "VIOLATION DESCRIPTION  A food containing artificial trans fat, with 0.5 grams or more of trans fat per serving, is being stored, distributed, held for service, used in preparation of a menu item, or served.  \\\n",
       "BORO                                                                                                                                                                                                             \n",
       "BRONX                                                           0.079365                                                                                                                                         \n",
       "BROOKLYN                                                        0.190476                                                                                                                                         \n",
       "MANHATTAN                                                       0.301587                                                                                                                                         \n",
       "QUEENS                                                          0.380952                                                                                                                                         \n",
       "STATEN ISLAND                                                   0.047619                                                                                                                                         \n",
       "\n",
       "VIOLATION DESCRIPTION  Accurate thermometer not provided in refrigerated or hot holding equipment.  \\\n",
       "BORO                                                                                                 \n",
       "BRONX                                                           0.069307                             \n",
       "BROOKLYN                                                        0.250825                             \n",
       "MANHATTAN                                                       0.323432                             \n",
       "QUEENS                                                          0.303630                             \n",
       "STATEN ISLAND                                                   0.052805                             \n",
       "\n",
       "VIOLATION DESCRIPTION  Appropriately scaled metal stem-type thermometer or thermocouple not provided or used to evaluate temperatures of potentially hazardous foods during cooking, cooling, reheating and holding.  \\\n",
       "BORO                                                                                                                                                                                                                   \n",
       "BRONX                                                           0.065693                                                                                                                                               \n",
       "BROOKLYN                                                        0.291971                                                                                                                                               \n",
       "MANHATTAN                                                       0.394161                                                                                                                                               \n",
       "QUEENS                                                          0.206813                                                                                                                                               \n",
       "STATEN ISLAND                                                   0.041363                                                                                                                                               \n",
       "\n",
       "VIOLATION DESCRIPTION  Ashtray present in smoke-free area.  \\\n",
       "BORO                                                         \n",
       "BRONX                                             0.181818   \n",
       "BROOKLYN                                          0.181818   \n",
       "MANHATTAN                                         0.227273   \n",
       "QUEENS                                            0.363636   \n",
       "STATEN ISLAND                                     0.045455   \n",
       "\n",
       "VIOLATION DESCRIPTION  Bulb not shielded or shatterproof, in areas where there is extreme heat, temperature changes, or where accidental contact may occur.  \\\n",
       "BORO                                                                                                                                                          \n",
       "BRONX                                                           0.053908                                                                                      \n",
       "BROOKLYN                                                        0.250674                                                                                      \n",
       "MANHATTAN                                                       0.452830                                                                                      \n",
       "QUEENS                                                          0.215633                                                                                      \n",
       "STATEN ISLAND                                                   0.026954                                                                                      \n",
       "\n",
       "VIOLATION DESCRIPTION  Caloric content not posted on menus, menu boards or food tags, in a food service establishment that is 1 of 15 or more outlets operating the same type of business nationally under common ownership or control, or as a franchise or doing business under the same name, for each menu item that is served in portions, the size and content of which are standardized.  \\\n",
       "BORO                                                                                                                                                                                                                                                                                                                                                                                              \n",
       "BRONX                                                             0.0000                                                                                                                                                                                                                                                                                                                          \n",
       "BROOKLYN                                                          0.2500                                                                                                                                                                                                                                                                                                                          \n",
       "MANHATTAN                                                         0.3750                                                                                                                                                                                                                                                                                                                          \n",
       "QUEENS                                                            0.3125                                                                                                                                                                                                                                                                                                                          \n",
       "STATEN ISLAND                                                     0.0625                                                                                                                                                                                                                                                                                                                          \n",
       "\n",
       "VIOLATION DESCRIPTION  Caloric content range (minimum to maximum) not posted on menus and or menu boards for each flavor, variety and size of each menu item that is offered for sale in different flavors, varieties and sizes.  \\\n",
       "BORO                                                                                                                                                                                                                               \n",
       "BRONX                                                                0.0                                                                                                                                                           \n",
       "BROOKLYN                                                             0.0                                                                                                                                                           \n",
       "MANHATTAN                                                            0.0                                                                                                                                                           \n",
       "QUEENS                                                               1.0                                                                                                                                                           \n",
       "STATEN ISLAND                                                        0.0                                                                                                                                                           \n",
       "\n",
       "VIOLATION DESCRIPTION  ...  \\\n",
       "BORO                   ...   \n",
       "BRONX                  ...   \n",
       "BROOKLYN               ...   \n",
       "MANHATTAN              ...   \n",
       "QUEENS                 ...   \n",
       "STATEN ISLAND          ...   \n",
       "\n",
       "VIOLATION DESCRIPTION  Smoke free workplace smoking policy inadequate, not posted, not provided to employees.  \\\n",
       "BORO                                                                                                            \n",
       "BRONX                                                           0.063649                                        \n",
       "BROOKLYN                                                        0.314003                                        \n",
       "MANHATTAN                                                       0.373409                                        \n",
       "QUEENS                                                          0.217822                                        \n",
       "STATEN ISLAND                                                   0.031117                                        \n",
       "\n",
       "VIOLATION DESCRIPTION  Thawing procedures improper.  \\\n",
       "BORO                                                  \n",
       "BRONX                                      0.085919   \n",
       "BROOKLYN                                   0.260143   \n",
       "MANHATTAN                                  0.360382   \n",
       "QUEENS                                     0.238663   \n",
       "STATEN ISLAND                              0.054893   \n",
       "\n",
       "VIOLATION DESCRIPTION  The original nutritional fact labels and/or ingredient label for a cooking oil, shortening or margarine or food item sold in bulk, or acceptable manufacturer\u001as documentation not maintained on site.  \\\n",
       "BORO                                                                                                                                                                                                                           \n",
       "BRONX                                                           0.087751                                                                                                                                                       \n",
       "BROOKLYN                                                        0.228519                                                                                                                                                       \n",
       "MANHATTAN                                                       0.361974                                                                                                                                                       \n",
       "QUEENS                                                          0.276051                                                                                                                                                       \n",
       "STATEN ISLAND                                                   0.045704                                                                                                                                                       \n",
       "\n",
       "VIOLATION DESCRIPTION  Tobacco use, eating, or drinking from open container in food preparation, food storage or dishwashing area observed.  \\\n",
       "BORO                                                                                                                                          \n",
       "BRONX                                                           0.086275                                                                      \n",
       "BROOKLYN                                                        0.215686                                                                      \n",
       "MANHATTAN                                                       0.419608                                                                      \n",
       "QUEENS                                                          0.250980                                                                      \n",
       "STATEN ISLAND                                                   0.027451                                                                      \n",
       "\n",
       "VIOLATION DESCRIPTION  Toilet facility not maintained and provided with toilet paper, waste receptacle and self-closing door.  \\\n",
       "BORO                                                                                                                            \n",
       "BRONX                                                           0.081996                                                        \n",
       "BROOKLYN                                                        0.253119                                                        \n",
       "MANHATTAN                                                       0.401070                                                        \n",
       "QUEENS                                                          0.238859                                                        \n",
       "STATEN ISLAND                                                   0.024955                                                        \n",
       "\n",
       "VIOLATION DESCRIPTION  Toilet facility not provided for employees or for patrons when required.  \\\n",
       "BORO                                                                                              \n",
       "BRONX                                                               0.10                          \n",
       "BROOKLYN                                                            0.15                          \n",
       "MANHATTAN                                                           0.55                          \n",
       "QUEENS                                                              0.15                          \n",
       "STATEN ISLAND                                                       0.05                          \n",
       "\n",
       "VIOLATION DESCRIPTION  Toilet facility used by women does not have at least one covered garbage receptacle.  \\\n",
       "BORO                                                                                                          \n",
       "BRONX                                                             0.0625                                      \n",
       "BROOKLYN                                                          0.3125                                      \n",
       "MANHATTAN                                                         0.4375                                      \n",
       "QUEENS                                                            0.1250                                      \n",
       "STATEN ISLAND                                                     0.0625                                      \n",
       "\n",
       "VIOLATION DESCRIPTION  Toxic chemical improperly labeled, stored or used such that food contamination may occur.  \\\n",
       "BORO                                                                                                               \n",
       "BRONX                                                           0.041667                                           \n",
       "BROOKLYN                                                        0.166667                                           \n",
       "MANHATTAN                                                       0.312500                                           \n",
       "QUEENS                                                          0.416667                                           \n",
       "STATEN ISLAND                                                   0.062500                                           \n",
       "\n",
       "VIOLATION DESCRIPTION  Unprotected food re-served.  \\\n",
       "BORO                                                 \n",
       "BRONX                                          0.5   \n",
       "BROOKLYN                                       0.0   \n",
       "MANHATTAN                                      0.5   \n",
       "QUEENS                                         0.0   \n",
       "STATEN ISLAND                                  0.0   \n",
       "\n",
       "VIOLATION DESCRIPTION  Wiping cloths soiled or not stored in sanitizing solution.  \n",
       "BORO                                                                               \n",
       "BRONX                                                           0.065007           \n",
       "BROOKLYN                                                        0.273859           \n",
       "MANHATTAN                                                       0.394191           \n",
       "QUEENS                                                          0.232365           \n",
       "STATEN ISLAND                                                   0.034578           \n",
       "\n",
       "[5 rows x 1722 columns]"
      ]
     },
     "execution_count": 34,
     "metadata": {},
     "output_type": "execute_result"
    }
   ],
   "source": [
    "df1#From previous question\n",
    "\n",
    "Violation_freq=df1.sum()\n",
    "Violation_freq\n",
    "normalized_df1=df1.divide(Violation_freq,axis=1)\n",
    "\n",
    "normalized_df1"
   ]
  },
  {
   "cell_type": "code",
   "execution_count": 35,
   "id": "51f3adc6",
   "metadata": {},
   "outputs": [
    {
     "data": {
      "text/html": [
       "<div>\n",
       "<style scoped>\n",
       "    .dataframe tbody tr th:only-of-type {\n",
       "        vertical-align: middle;\n",
       "    }\n",
       "\n",
       "    .dataframe tbody tr th {\n",
       "        vertical-align: top;\n",
       "    }\n",
       "\n",
       "    .dataframe thead th {\n",
       "        text-align: right;\n",
       "    }\n",
       "</style>\n",
       "<table border=\"1\" class=\"dataframe\">\n",
       "  <thead>\n",
       "    <tr style=\"text-align: right;\">\n",
       "      <th></th>\n",
       "      <th>most_freq_norm_violation</th>\n",
       "    </tr>\n",
       "    <tr>\n",
       "      <th>BORO</th>\n",
       "      <th></th>\n",
       "    </tr>\n",
       "  </thead>\n",
       "  <tbody>\n",
       "    <tr>\n",
       "      <th>BRONX</th>\n",
       "      <td>Unprotected food re-served.</td>\n",
       "    </tr>\n",
       "    <tr>\n",
       "      <th>BROOKLYN</th>\n",
       "      <td>Precooked potentially hazardous food from comm...</td>\n",
       "    </tr>\n",
       "    <tr>\n",
       "      <th>MANHATTAN</th>\n",
       "      <td>Out-of package sale of tobacco products observed.</td>\n",
       "    </tr>\n",
       "    <tr>\n",
       "      <th>QUEENS</th>\n",
       "      <td>Caloric content range (minimum to maximum) not...</td>\n",
       "    </tr>\n",
       "    <tr>\n",
       "      <th>STATEN ISLAND</th>\n",
       "      <td>Eggs found dirty/cracked; liquid, frozen or po...</td>\n",
       "    </tr>\n",
       "  </tbody>\n",
       "</table>\n",
       "</div>"
      ],
      "text/plain": [
       "                                        most_freq_norm_violation\n",
       "BORO                                                            \n",
       "BRONX                                Unprotected food re-served.\n",
       "BROOKLYN       Precooked potentially hazardous food from comm...\n",
       "MANHATTAN      Out-of package sale of tobacco products observed.\n",
       "QUEENS         Caloric content range (minimum to maximum) not...\n",
       "STATEN ISLAND  Eggs found dirty/cracked; liquid, frozen or po..."
      ]
     },
     "execution_count": 35,
     "metadata": {},
     "output_type": "execute_result"
    }
   ],
   "source": [
    "normalized_df1.idxmax(axis=1).to_frame('most_freq_norm_violation')"
   ]
  },
  {
   "cell_type": "markdown",
   "id": "222db5d6",
   "metadata": {},
   "source": [
    "<h2 align='center'>Answer 13</h2>\n"
   ]
  },
  {
   "cell_type": "code",
   "execution_count": 36,
   "id": "e750792e",
   "metadata": {},
   "outputs": [],
   "source": [
    "import re\n",
    "\n",
    "def gen_phone(e):\n",
    "    e=str(e)\n",
    "    e=re.sub(r'[\\D]','',e)\n",
    "    \n",
    "    if len(e)>=3:\n",
    "        return e[:3] #int(e[:3])\n",
    "    else: return np.nan\n",
    "    \n",
    "\n",
    "# df['area_code']=df['PHONE'].map(lambda e : try str(e)[:3] except np.nan)# if type(e)==type(1) else np.nan)\n",
    "df['area_code']=df['PHONE'].map(gen_phone)\n",
    "# df['PHONE'].map(lambda e : type(int(e))==int)"
   ]
  },
  {
   "cell_type": "code",
   "execution_count": 37,
   "id": "069506e0",
   "metadata": {},
   "outputs": [],
   "source": [
    "df[df['area_code'].isna()]#.sum()\n",
    "df_temp=df.dropna(subset=['area_code'])"
   ]
  },
  {
   "cell_type": "code",
   "execution_count": 38,
   "id": "808d19e5",
   "metadata": {},
   "outputs": [],
   "source": [
    "# df_temp.loc[:,'area_code']=df_temp['area_code'].astype(int)"
   ]
  },
  {
   "cell_type": "code",
   "execution_count": 39,
   "id": "d819c60c",
   "metadata": {},
   "outputs": [],
   "source": [
    "df_temp=df_temp[['area_code','ZIPCODE']].drop_duplicates()\n",
    "dff=df_temp['area_code'].value_counts().to_frame('freq')\n",
    "area_code_with_only_1ZipCode=dff[dff.freq==1].index.to_list()"
   ]
  },
  {
   "cell_type": "code",
   "execution_count": 40,
   "id": "40d09b6e",
   "metadata": {},
   "outputs": [
    {
     "data": {
      "text/plain": [
       "['404',\n",
       " '615',\n",
       " '610',\n",
       " '281',\n",
       " '502',\n",
       " '728',\n",
       " '410',\n",
       " '191',\n",
       " '964',\n",
       " '626',\n",
       " '607',\n",
       " '702',\n",
       " '202',\n",
       " '171',\n",
       " '860',\n",
       " '175',\n",
       " '985',\n",
       " '434',\n",
       " '908',\n",
       " '605',\n",
       " '617',\n",
       " '570',\n",
       " '206',\n",
       " '303',\n",
       " '855',\n",
       " '970',\n",
       " '000',\n",
       " '905',\n",
       " '612',\n",
       " '505',\n",
       " '305',\n",
       " '716',\n",
       " '412',\n",
       " '954']"
      ]
     },
     "execution_count": 40,
     "metadata": {},
     "output_type": "execute_result"
    }
   ],
   "source": [
    "area_code_with_only_1ZipCode"
   ]
  },
  {
   "cell_type": "markdown",
   "id": "7e7ea441",
   "metadata": {},
   "source": [
    "<h2 align='center'>Answer 14</h2>\n"
   ]
  },
  {
   "cell_type": "code",
   "execution_count": 42,
   "id": "923cc8a4",
   "metadata": {},
   "outputs": [
    {
     "data": {
      "text/html": [
       "<div>\n",
       "<style scoped>\n",
       "    .dataframe tbody tr th:only-of-type {\n",
       "        vertical-align: middle;\n",
       "    }\n",
       "\n",
       "    .dataframe tbody tr th {\n",
       "        vertical-align: top;\n",
       "    }\n",
       "\n",
       "    .dataframe thead th {\n",
       "        text-align: right;\n",
       "    }\n",
       "</style>\n",
       "<table border=\"1\" class=\"dataframe\">\n",
       "  <thead>\n",
       "    <tr style=\"text-align: right;\">\n",
       "      <th></th>\n",
       "      <th>STREET</th>\n",
       "      <th>STREET TYPE</th>\n",
       "      <th>STREET BASE</th>\n",
       "    </tr>\n",
       "  </thead>\n",
       "  <tbody>\n",
       "    <tr>\n",
       "      <th>0</th>\n",
       "      <td>FLATBUSH AVENUE</td>\n",
       "      <td>AVENUE</td>\n",
       "      <td>FLATBUSH</td>\n",
       "    </tr>\n",
       "    <tr>\n",
       "      <th>1</th>\n",
       "      <td>FLATBUSH AVENUE</td>\n",
       "      <td>AVENUE</td>\n",
       "      <td>FLATBUSH</td>\n",
       "    </tr>\n",
       "    <tr>\n",
       "      <th>2</th>\n",
       "      <td>FLATBUSH AVENUE</td>\n",
       "      <td>AVENUE</td>\n",
       "      <td>FLATBUSH</td>\n",
       "    </tr>\n",
       "    <tr>\n",
       "      <th>3</th>\n",
       "      <td>FLATBUSH AVENUE</td>\n",
       "      <td>AVENUE</td>\n",
       "      <td>FLATBUSH</td>\n",
       "    </tr>\n",
       "    <tr>\n",
       "      <th>4</th>\n",
       "      <td>FLATBUSH AVENUE</td>\n",
       "      <td>AVENUE</td>\n",
       "      <td>FLATBUSH</td>\n",
       "    </tr>\n",
       "    <tr>\n",
       "      <th>...</th>\n",
       "      <td>...</td>\n",
       "      <td>...</td>\n",
       "      <td>...</td>\n",
       "    </tr>\n",
       "    <tr>\n",
       "      <th>44628</th>\n",
       "      <td>MANHATTAN AVE</td>\n",
       "      <td>AVE</td>\n",
       "      <td>MANHATTAN</td>\n",
       "    </tr>\n",
       "    <tr>\n",
       "      <th>44629</th>\n",
       "      <td>E 13TH ST</td>\n",
       "      <td>ST</td>\n",
       "      <td>E 13TH</td>\n",
       "    </tr>\n",
       "    <tr>\n",
       "      <th>44630</th>\n",
       "      <td>E 13TH ST</td>\n",
       "      <td>ST</td>\n",
       "      <td>E 13TH</td>\n",
       "    </tr>\n",
       "    <tr>\n",
       "      <th>44631</th>\n",
       "      <td>E 13TH ST</td>\n",
       "      <td>ST</td>\n",
       "      <td>E 13TH</td>\n",
       "    </tr>\n",
       "    <tr>\n",
       "      <th>44632</th>\n",
       "      <td>E 13TH ST</td>\n",
       "      <td>ST</td>\n",
       "      <td>E 13TH</td>\n",
       "    </tr>\n",
       "  </tbody>\n",
       "</table>\n",
       "<p>44633 rows × 3 columns</p>\n",
       "</div>"
      ],
      "text/plain": [
       "                STREET STREET TYPE STREET BASE\n",
       "0      FLATBUSH AVENUE      AVENUE    FLATBUSH\n",
       "1      FLATBUSH AVENUE      AVENUE    FLATBUSH\n",
       "2      FLATBUSH AVENUE      AVENUE    FLATBUSH\n",
       "3      FLATBUSH AVENUE      AVENUE    FLATBUSH\n",
       "4      FLATBUSH AVENUE      AVENUE    FLATBUSH\n",
       "...                ...         ...         ...\n",
       "44628    MANHATTAN AVE         AVE   MANHATTAN\n",
       "44629        E 13TH ST          ST      E 13TH\n",
       "44630        E 13TH ST          ST      E 13TH\n",
       "44631        E 13TH ST          ST      E 13TH\n",
       "44632        E 13TH ST          ST      E 13TH\n",
       "\n",
       "[44633 rows x 3 columns]"
      ]
     },
     "execution_count": 42,
     "metadata": {},
     "output_type": "execute_result"
    }
   ],
   "source": [
    "df['STREET TYPE']=df['STREET'].map(lambda s: str(s).split(' ')[-1])\n",
    "df['STREET BASE']=df['STREET'].map(lambda s: ' '.join(str(s).split(' ')[:-1]))\n",
    "\n",
    "df[[i for i in df.columns if 'street' in i.lower()]]"
   ]
  },
  {
   "cell_type": "code",
   "execution_count": 52,
   "id": "c77679a6",
   "metadata": {},
   "outputs": [
    {
     "data": {
      "text/html": [
       "<div>\n",
       "<style scoped>\n",
       "    .dataframe tbody tr th:only-of-type {\n",
       "        vertical-align: middle;\n",
       "    }\n",
       "\n",
       "    .dataframe tbody tr th {\n",
       "        vertical-align: top;\n",
       "    }\n",
       "\n",
       "    .dataframe thead th {\n",
       "        text-align: right;\n",
       "    }\n",
       "</style>\n",
       "<table border=\"1\" class=\"dataframe\">\n",
       "  <thead>\n",
       "    <tr style=\"text-align: right;\">\n",
       "      <th></th>\n",
       "      <th>STREET</th>\n",
       "      <th>STREET TYPE</th>\n",
       "      <th>STREET BASE</th>\n",
       "      <th>STREET BASE &amp; ZIP</th>\n",
       "    </tr>\n",
       "  </thead>\n",
       "  <tbody>\n",
       "    <tr>\n",
       "      <th>0</th>\n",
       "      <td>FLATBUSH AVENUE</td>\n",
       "      <td>AVENUE</td>\n",
       "      <td>FLATBUSH</td>\n",
       "      <td>FLATBUSH 11225</td>\n",
       "    </tr>\n",
       "    <tr>\n",
       "      <th>1</th>\n",
       "      <td>FLATBUSH AVENUE</td>\n",
       "      <td>AVENUE</td>\n",
       "      <td>FLATBUSH</td>\n",
       "      <td>FLATBUSH 11225</td>\n",
       "    </tr>\n",
       "  </tbody>\n",
       "</table>\n",
       "</div>"
      ],
      "text/plain": [
       "            STREET STREET TYPE STREET BASE STREET BASE & ZIP\n",
       "0  FLATBUSH AVENUE      AVENUE    FLATBUSH    FLATBUSH 11225\n",
       "1  FLATBUSH AVENUE      AVENUE    FLATBUSH    FLATBUSH 11225"
      ]
     },
     "execution_count": 52,
     "metadata": {},
     "output_type": "execute_result"
    }
   ],
   "source": [
    "df['STREET BASE & ZIP']=df['STREET BASE'] + ' ' +df['ZIPCODE'].astype(str)\n",
    "df[[i for i in df.columns if 'street' in i.lower()]].head(2)"
   ]
  },
  {
   "cell_type": "code",
   "execution_count": 64,
   "id": "c604064c",
   "metadata": {},
   "outputs": [],
   "source": [
    "tbu=['STREET TYPE','STREET BASE','STREET BASE & ZIP']\n",
    "df1=df[tbu]\n",
    "\n",
    "\n",
    "df1[df1['STREET BASE'].map(len)==0]#BROADWAY\n",
    "\n",
    "df1=df1[df1['STREET BASE'].map(len)!=0]\n",
    "df1=df1.drop_duplicates()"
   ]
  },
  {
   "cell_type": "code",
   "execution_count": 74,
   "id": "4033e08d",
   "metadata": {},
   "outputs": [
    {
     "data": {
      "text/html": [
       "<div>\n",
       "<style scoped>\n",
       "    .dataframe tbody tr th:only-of-type {\n",
       "        vertical-align: middle;\n",
       "    }\n",
       "\n",
       "    .dataframe tbody tr th {\n",
       "        vertical-align: top;\n",
       "    }\n",
       "\n",
       "    .dataframe thead th {\n",
       "        text-align: right;\n",
       "    }\n",
       "</style>\n",
       "<table border=\"1\" class=\"dataframe\">\n",
       "  <thead>\n",
       "    <tr style=\"text-align: right;\">\n",
       "      <th></th>\n",
       "      <th>STREET TYPE_st1</th>\n",
       "      <th>STREET BASE_st1</th>\n",
       "      <th>STREET BASE &amp; ZIP</th>\n",
       "      <th>STREET TYPE_st2</th>\n",
       "      <th>STREET BASE_st2</th>\n",
       "    </tr>\n",
       "  </thead>\n",
       "  <tbody>\n",
       "    <tr>\n",
       "      <th>2</th>\n",
       "      <td>ROAD</td>\n",
       "      <td>63</td>\n",
       "      <td>63 11374</td>\n",
       "      <td>DRIVE</td>\n",
       "      <td>63</td>\n",
       "    </tr>\n",
       "    <tr>\n",
       "      <th>3</th>\n",
       "      <td>DRIVE</td>\n",
       "      <td>63</td>\n",
       "      <td>63 11374</td>\n",
       "      <td>ROAD</td>\n",
       "      <td>63</td>\n",
       "    </tr>\n",
       "    <tr>\n",
       "      <th>9</th>\n",
       "      <td>AVENUE</td>\n",
       "      <td>CHURCH</td>\n",
       "      <td>CHURCH 11218</td>\n",
       "      <td>AVE</td>\n",
       "      <td>CHURCH</td>\n",
       "    </tr>\n",
       "    <tr>\n",
       "      <th>10</th>\n",
       "      <td>AVE</td>\n",
       "      <td>CHURCH</td>\n",
       "      <td>CHURCH 11218</td>\n",
       "      <td>AVENUE</td>\n",
       "      <td>CHURCH</td>\n",
       "    </tr>\n",
       "    <tr>\n",
       "      <th>15</th>\n",
       "      <td>WEST</td>\n",
       "      <td>PROSPECT PARK</td>\n",
       "      <td>PROSPECT PARK 11215</td>\n",
       "      <td>W</td>\n",
       "      <td>PROSPECT PARK</td>\n",
       "    </tr>\n",
       "    <tr>\n",
       "      <th>...</th>\n",
       "      <td>...</td>\n",
       "      <td>...</td>\n",
       "      <td>...</td>\n",
       "      <td>...</td>\n",
       "      <td>...</td>\n",
       "    </tr>\n",
       "    <tr>\n",
       "      <th>4187</th>\n",
       "      <td>AVENUE</td>\n",
       "      <td>SAINT NICHOLAS</td>\n",
       "      <td>SAINT NICHOLAS 10040</td>\n",
       "      <td>AVE</td>\n",
       "      <td>SAINT NICHOLAS</td>\n",
       "    </tr>\n",
       "    <tr>\n",
       "      <th>4195</th>\n",
       "      <td>AVENUE</td>\n",
       "      <td>DITMAS</td>\n",
       "      <td>DITMAS 11218</td>\n",
       "      <td>AVE</td>\n",
       "      <td>DITMAS</td>\n",
       "    </tr>\n",
       "    <tr>\n",
       "      <th>4196</th>\n",
       "      <td>AVE</td>\n",
       "      <td>DITMAS</td>\n",
       "      <td>DITMAS 11218</td>\n",
       "      <td>AVENUE</td>\n",
       "      <td>DITMAS</td>\n",
       "    </tr>\n",
       "    <tr>\n",
       "      <th>4214</th>\n",
       "      <td>STREET</td>\n",
       "      <td>48</td>\n",
       "      <td>48 11101</td>\n",
       "      <td>AVENUE</td>\n",
       "      <td>48</td>\n",
       "    </tr>\n",
       "    <tr>\n",
       "      <th>4215</th>\n",
       "      <td>AVENUE</td>\n",
       "      <td>48</td>\n",
       "      <td>48 11101</td>\n",
       "      <td>STREET</td>\n",
       "      <td>48</td>\n",
       "    </tr>\n",
       "  </tbody>\n",
       "</table>\n",
       "<p>818 rows × 5 columns</p>\n",
       "</div>"
      ],
      "text/plain": [
       "     STREET TYPE_st1 STREET BASE_st1     STREET BASE & ZIP STREET TYPE_st2  \\\n",
       "2               ROAD              63              63 11374           DRIVE   \n",
       "3              DRIVE              63              63 11374            ROAD   \n",
       "9             AVENUE          CHURCH          CHURCH 11218             AVE   \n",
       "10               AVE          CHURCH          CHURCH 11218          AVENUE   \n",
       "15              WEST   PROSPECT PARK   PROSPECT PARK 11215               W   \n",
       "...              ...             ...                   ...             ...   \n",
       "4187          AVENUE  SAINT NICHOLAS  SAINT NICHOLAS 10040             AVE   \n",
       "4195          AVENUE          DITMAS          DITMAS 11218             AVE   \n",
       "4196             AVE          DITMAS          DITMAS 11218          AVENUE   \n",
       "4214          STREET              48              48 11101          AVENUE   \n",
       "4215          AVENUE              48              48 11101          STREET   \n",
       "\n",
       "     STREET BASE_st2  \n",
       "2                 63  \n",
       "3                 63  \n",
       "9             CHURCH  \n",
       "10            CHURCH  \n",
       "15     PROSPECT PARK  \n",
       "...              ...  \n",
       "4187  SAINT NICHOLAS  \n",
       "4195          DITMAS  \n",
       "4196          DITMAS  \n",
       "4214              48  \n",
       "4215              48  \n",
       "\n",
       "[818 rows x 5 columns]"
      ]
     },
     "execution_count": 74,
     "metadata": {},
     "output_type": "execute_result"
    }
   ],
   "source": [
    "df_merged=df1.merge(df1,how='inner',on='STREET BASE & ZIP',suffixes=['_st1','_st2'])\n",
    "\n",
    "df_two_streets=df_merged[df_merged['STREET TYPE_st1']!=df_merged['STREET TYPE_st2']]\n",
    "# df_merged.shape,df1.shape\n",
    "df_two_streets"
   ]
  },
  {
   "cell_type": "code",
   "execution_count": 110,
   "id": "b0232689",
   "metadata": {},
   "outputs": [],
   "source": [
    "df_cross=pd.crosstab(df_two_streets['STREET TYPE_st1'],df_two_streets['STREET TYPE_st2'])#,aggfunc=len)"
   ]
  },
  {
   "cell_type": "code",
   "execution_count": 111,
   "id": "7e8f3bd3",
   "metadata": {},
   "outputs": [
    {
     "data": {
      "text/plain": [
       "152"
      ]
     },
     "execution_count": 111,
     "metadata": {},
     "output_type": "execute_result"
    }
   ],
   "source": [
    "df_cross.loc['AVE','AVENUE']\n"
   ]
  },
  {
   "cell_type": "code",
   "execution_count": 116,
   "id": "fd2deda1",
   "metadata": {},
   "outputs": [
    {
     "data": {
      "text/plain": [
       "STREET TYPE_st1\n",
       "AVE         AVENUE\n",
       "ST          STREET\n",
       "RD            ROAD\n",
       "PL           PLACE\n",
       "BOULEARD      BLVD\n",
       "BULEVARD      BLVD\n",
       "dtype: object"
      ]
     },
     "execution_count": 116,
     "metadata": {},
     "output_type": "execute_result"
    }
   ],
   "source": [
    "to_find=['AVE','ST','RD','PL','BOULEARD','BULEVARD']\n",
    "df_cross.idxmax(axis=1)[to_find]"
   ]
  },
  {
   "cell_type": "code",
   "execution_count": null,
   "id": "4cbfd813",
   "metadata": {},
   "outputs": [],
   "source": []
  }
 ],
 "metadata": {
  "kernelspec": {
   "display_name": "Python 3",
   "language": "python",
   "name": "python3"
  },
  "language_info": {
   "codemirror_mode": {
    "name": "ipython",
    "version": 3
   },
   "file_extension": ".py",
   "mimetype": "text/x-python",
   "name": "python",
   "nbconvert_exporter": "python",
   "pygments_lexer": "ipython3",
   "version": "3.8.8"
  }
 },
 "nbformat": 4,
 "nbformat_minor": 5
}
